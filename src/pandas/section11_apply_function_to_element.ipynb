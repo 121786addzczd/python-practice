{
 "cells": [
  {
   "cell_type": "markdown",
   "id": "bdd4cd13-ff14-427f-b683-fcffcf2af8dc",
   "metadata": {},
   "source": [
    "# SeriesやDataFrameに関数を適用する方法(map, apply, applymapメソッド)\n",
    "PandasのDaraFrameやSeriesの要素に関数を適用させる方法について。<br>\n",
    "mapメソッド, applymapメソッド, applyメソッドを使用して、数値や文字列の操作を行う。"
   ]
  },
  {
   "cell_type": "code",
   "execution_count": 5,
   "id": "0df373df-1b04-4849-a85b-fbd3a37a1b76",
   "metadata": {},
   "outputs": [],
   "source": [
    "import pandas as pd\n",
    "import numpy as np"
   ]
  },
  {
   "cell_type": "code",
   "execution_count": 8,
   "id": "4978114a-f498-4b88-9d69-3122a97892bf",
   "metadata": {},
   "outputs": [
    {
     "data": {
      "text/plain": [
       "0    100\n",
       "1    200\n",
       "2    300\n",
       "3    400\n",
       "4    500\n",
       "dtype: int64"
      ]
     },
     "execution_count": 8,
     "metadata": {},
     "output_type": "execute_result"
    }
   ],
   "source": [
    "# 各要素の値に1を足すadd関数をdef文で作成し、add関数をmapメソッドで下記シリーズに適用\n",
    "ser = pd.Series([99, 199, 299, 399, 499])\n",
    "\n",
    "# 1を足すadd関数\n",
    "def add(x):\n",
    "    return x + 1\n",
    "\n",
    "ser.map(add)"
   ]
  },
  {
   "cell_type": "code",
   "execution_count": 10,
   "id": "c623efd0-b7f0-4a4c-b98f-227de68115b3",
   "metadata": {},
   "outputs": [
    {
     "data": {
      "text/plain": [
       "0     200\n",
       "1     400\n",
       "2     600\n",
       "3     800\n",
       "4    1000\n",
       "dtype: int64"
      ]
     },
     "execution_count": 10,
     "metadata": {},
     "output_type": "execute_result"
    }
   ],
   "source": [
    "# 各要素の値を2倍にするdouble関数をdef文で作成し、double関数をmapメソッドで下記シリーズに適用\n",
    "ser = pd.Series([100, 200, 300, 400, 500])\n",
    "\n",
    "# 各要素の値を2倍にする\n",
    "def double(x):\n",
    "    return x * 2\n",
    "\n",
    "ser.map(double)"
   ]
  },
  {
   "cell_type": "code",
   "execution_count": 15,
   "id": "5462b647-6434-422f-af29-52a3afdb88bb",
   "metadata": {},
   "outputs": [
    {
     "data": {
      "text/plain": [
       "0     30\n",
       "1     45\n",
       "2     60\n",
       "3     75\n",
       "4     90\n",
       "5    105\n",
       "dtype: int64"
      ]
     },
     "execution_count": 15,
     "metadata": {},
     "output_type": "execute_result"
    }
   ],
   "source": [
    "# 無名関数であるlambda関数とmapメソッドを使用し、シリーズの各要素の値を3倍\n",
    "ser = pd.Series([10, 15, 20, 25, 30, 35])\n",
    "ser.map(lambda x: x * 3)"
   ]
  },
  {
   "cell_type": "code",
   "execution_count": 21,
   "id": "555730ff-70f9-4816-a326-f836042b1349",
   "metadata": {},
   "outputs": [
    {
     "data": {
      "text/plain": [
       "0    30000未満\n",
       "1    30000以上\n",
       "2    30000未満\n",
       "3    30000以上\n",
       "4    30000以上\n",
       "dtype: object"
      ]
     },
     "execution_count": 21,
     "metadata": {},
     "output_type": "execute_result"
    }
   ],
   "source": [
    "\"\"\"\n",
    "シリーズの各要素の値が30000以上の場合は'30000以上'、30000未満の場合は'30000未満'と変換するlambda関数を作成\n",
    "mapメソッドでシリーズに適用\n",
    "\"\"\"\n",
    "\n",
    "ser = pd.Series([15000, 32000, 28000, 53000, 73500])\n",
    "\n",
    "ser.map(lambda x : '30000以上' if x >= 30000 else '30000未満')"
   ]
  },
  {
   "cell_type": "code",
   "execution_count": 25,
   "id": "19b3e2eb-8aa8-4f24-99b5-a6002aa36190",
   "metadata": {},
   "outputs": [
    {
     "data": {
      "text/plain": [
       "0    C\n",
       "1    B\n",
       "2    C\n",
       "3    A\n",
       "4    A\n",
       "dtype: object"
      ]
     },
     "execution_count": 25,
     "metadata": {},
     "output_type": "execute_result"
    }
   ],
   "source": [
    "\"\"\"\n",
    "各要素の値が50000以上は'A'、30000以上50000未満は'B'、30000未満は'C'と表示させるlabel関数をdef文で作成。\n",
    "作成したlabel関数をmapメソッドで下記シリーズに適用\n",
    "\"\"\"\n",
    "\n",
    "ser = pd.Series([15000, 32000, 28000, 53000, 73500])\n",
    "\n",
    "def label(x):\n",
    "    if x >= 50000:\n",
    "        return 'A'\n",
    "    elif x >= 30000:\n",
    "        return 'B'\n",
    "    else:\n",
    "        return 'C'\n",
    "    \n",
    "ser.map(label)"
   ]
  },
  {
   "cell_type": "code",
   "execution_count": 27,
   "id": "d1c7ceee-a6a5-4a45-8d1f-e56d90bd31f5",
   "metadata": {},
   "outputs": [
    {
     "data": {
      "text/plain": [
       "0     62500\n",
       "1     90000\n",
       "2    122500\n",
       "3    160000\n",
       "4    202500\n",
       "dtype: int64"
      ]
     },
     "execution_count": 27,
     "metadata": {},
     "output_type": "execute_result"
    }
   ],
   "source": [
    "# NumPyライブラリのsquare関数とmapメソッドを使用し、下記シリーズの各要素の値を2乗\n",
    "ser = pd.Series([250, 300, 350, 400, 450])\n",
    "ser.map(np.square)"
   ]
  },
  {
   "cell_type": "code",
   "execution_count": 29,
   "id": "1d742f11-0fec-47e6-a152-b06a5ff33a50",
   "metadata": {},
   "outputs": [
    {
     "data": {
      "text/plain": [
       "150"
      ]
     },
     "execution_count": 29,
     "metadata": {},
     "output_type": "execute_result"
    }
   ],
   "source": [
    "# 各要素の値の合計を表示\n",
    "ser = pd.Series([10, 20, 30, 40, 50])\n",
    "ser.sum()"
   ]
  },
  {
   "cell_type": "code",
   "execution_count": 30,
   "id": "2a5f3400-1611-48ec-bf38-d94806ff1076",
   "metadata": {},
   "outputs": [],
   "source": [
    "# 無名関数であるlambda関数とmapメソッドを使用し、完成イメージの通りに、下記シリーズの各要素の最初の一文字を取得"
   ]
  },
  {
   "cell_type": "code",
   "execution_count": 31,
   "id": "5423a470-9d4f-4a17-afbb-429a84cd3f18",
   "metadata": {},
   "outputs": [
    {
     "data": {
      "text/plain": [
       "0    a\n",
       "1    b\n",
       "2    p\n",
       "3    c\n",
       "dtype: object"
      ]
     },
     "execution_count": 31,
     "metadata": {},
     "output_type": "execute_result"
    }
   ],
   "source": [
    "ser = pd.Series(['apple', 'banana', 'peach', 'cherry'])\n",
    "\n",
    "ser.map(lambda x : x[0])"
   ]
  },
  {
   "cell_type": "code",
   "execution_count": 35,
   "id": "381079cc-5ffd-4bcd-887a-5548d0412458",
   "metadata": {},
   "outputs": [
    {
     "data": {
      "text/plain": [
       "0         [apple]\n",
       "1        [banana]\n",
       "2         [peach]\n",
       "3    [strawberry]\n",
       "dtype: object"
      ]
     },
     "execution_count": 35,
     "metadata": {},
     "output_type": "execute_result"
    }
   ],
   "source": [
    "\"\"\"\n",
    "無名関数であるlambda関数とmapメソッドを使用し、完成イメージの通りに、下記シリーズの各要素のアルファベットのみを取得する。\n",
    "\n",
    "・正規表現操作ができるreモジュールを使用\n",
    "・reモジュールのfindall関数を使用\n",
    "\"\"\"\n",
    "import re\n",
    "\n",
    "ser = pd.Series(['appleリンゴ', 'bananaバナナ', 'peachモモ', 'strawberryイチゴ'])\n",
    "\n",
    "ser.map(lambda x : re.findall('[A-z]+', x))"
   ]
  },
  {
   "cell_type": "code",
   "execution_count": 37,
   "id": "449de04b-799d-49e4-949d-a0235baaa830",
   "metadata": {},
   "outputs": [
    {
     "data": {
      "text/plain": [
       "0    [リンゴ]\n",
       "1    [バナナ]\n",
       "2     [モモ]\n",
       "3    [イチゴ]\n",
       "dtype: object"
      ]
     },
     "execution_count": 37,
     "metadata": {},
     "output_type": "execute_result"
    }
   ],
   "source": [
    "\"\"\"\n",
    "無名関数であるlambda関数とmapメソッドを使用し、完成イメージの通りに、下記シリーズの各要素のカタカナのみを取得する。\n",
    "\n",
    "・正規表現操作ができるreモジュールを使用。\n",
    "・reモジュールのfindall関数を使用。\n",
    "\"\"\"\n",
    "import re\n",
    "\n",
    "ser = pd.Series(['appleリンゴ', 'bananaバナナ', 'peachモモ', 'strawberryイチゴ'])\n",
    "ser.map(lambda x : re.findall('[ァ-ヴ]+', x))"
   ]
  },
  {
   "cell_type": "code",
   "execution_count": 41,
   "id": "ccb8faed-7203-42fa-9ebb-26f07bb047b4",
   "metadata": {},
   "outputs": [
    {
     "data": {
      "text/plain": [
       "0    アップル\n",
       "1     バナナ\n",
       "2     ピーチ\n",
       "3     NaN\n",
       "4     NaN\n",
       "dtype: object"
      ]
     },
     "execution_count": 41,
     "metadata": {},
     "output_type": "execute_result"
    }
   ],
   "source": [
    "# mapメソッドで下記シリーズの各要素と辞書のキーを関連づけて、シリーズの各要素を辞書のバリューで置換\n",
    "ser = pd.Series(['apple', 'banana', 'peach', 'cherry', np.nan])\n",
    "d = {'apple': 'アップル', 'banana': 'バナナ', 'peach': 'ピーチ', 'lemon': 'レモン'}\n",
    "\n",
    "ser.map(d)"
   ]
  },
  {
   "cell_type": "code",
   "execution_count": 44,
   "id": "a77c24e2-dfb8-4e12-a20b-6cf776e4ff6f",
   "metadata": {},
   "outputs": [
    {
     "data": {
      "text/plain": [
       "0     appleを食べます。\n",
       "1    bananaを食べます。\n",
       "2     peachを食べます。\n",
       "3    cherryを食べます。\n",
       "4             NaN\n",
       "dtype: object"
      ]
     },
     "execution_count": 44,
     "metadata": {},
     "output_type": "execute_result"
    }
   ],
   "source": [
    "# mapメソッドとformatメソッドを使用して、完成イメージの通りに、下記シリーズの各要素の値を文章にする。(欠損値は処理しない)\n",
    "ser = pd.Series(['apple', 'banana', 'peach', 'cherry', np.nan])\n",
    "ser.map('{}を食べます。'.format, na_action='ignore')"
   ]
  },
  {
   "cell_type": "code",
   "execution_count": 49,
   "id": "70f0d7e7-7392-48e8-8346-2241da70c43d",
   "metadata": {},
   "outputs": [
    {
     "data": {
      "text/plain": [
       "0    14000\n",
       "1    10000\n",
       "2    46000\n",
       "3     5000\n",
       "4    24000\n",
       "dtype: int64"
      ]
     },
     "execution_count": 49,
     "metadata": {},
     "output_type": "execute_result"
    }
   ],
   "source": [
    "# 各要素の値を2倍にするdouble関数をdef文で作成し、double関数をapplyメソッドで下記シリーズに適用\n",
    "\n",
    "ser = pd.Series([7000, 5000, 23000, 2500, 12000])\n",
    "def double(x):\n",
    "    return x * 2\n",
    "\n",
    "ser.apply(double)"
   ]
  },
  {
   "cell_type": "code",
   "execution_count": 50,
   "id": "c9207086-e303-4e07-bf92-c0f2810b6032",
   "metadata": {},
   "outputs": [
    {
     "data": {
      "text/plain": [
       "0     0\n",
       "1     3\n",
       "2     6\n",
       "3     9\n",
       "4    12\n",
       "5    15\n",
       "dtype: int64"
      ]
     },
     "execution_count": 50,
     "metadata": {},
     "output_type": "execute_result"
    }
   ],
   "source": [
    "# 無名関数であるlambda関数とapplyメソッドを使用し、下記シリーズの各要素の値を3倍にする。\n",
    "ser = pd.Series([0, 1, 2, 3, 4, 5])\n",
    "ser.apply(lambda x : x * 3)"
   ]
  },
  {
   "cell_type": "code",
   "execution_count": 52,
   "id": "03e49b73-a2d6-406c-a859-e63e7f58a9c8",
   "metadata": {},
   "outputs": [
    {
     "data": {
      "text/plain": [
       "0    37.5度未満\n",
       "1    37.5度未満\n",
       "2    37.5度以上\n",
       "3    37.5度未満\n",
       "4    37.5度未満\n",
       "dtype: object"
      ]
     },
     "execution_count": 52,
     "metadata": {},
     "output_type": "execute_result"
    }
   ],
   "source": [
    "\"\"\"\n",
    "下記のシリーズは、社員5名の体温のデータ。\n",
    "シリーズの各要素の値が37.5以上の場合は'37.5度以上'、37.5未満の場合は'37.5度未満'を表示させるlambda関数を作成し、applyメソッドを使用してシリーズに適用させる。\n",
    "\"\"\"\n",
    "# シリーズ\n",
    "ser = pd.Series([36.5, 37.2, 38.0, 35.8, 36.8])\n",
    "ser.apply(lambda x : '37.5度以上' if x >= 37.5 else '37.5度未満')"
   ]
  },
  {
   "cell_type": "code",
   "execution_count": 55,
   "id": "72f78583-cebb-4958-b426-dc946ed26afe",
   "metadata": {},
   "outputs": [
    {
     "data": {
      "text/plain": [
       "0    不可\n",
       "1     優\n",
       "2     良\n",
       "3     可\n",
       "4    不可\n",
       "dtype: object"
      ]
     },
     "execution_count": 55,
     "metadata": {},
     "output_type": "execute_result"
    }
   ],
   "source": [
    "\"\"\"\n",
    "下記のシリーズは、生徒5名のテストの点数のデータ。\n",
    "シリーズの各要素の値が80以上は'優'、70以上80未満は'良'、60以上70未満は'可'、60未満は'不可'と表示させる関数をdef文で作成し、applyメソッドでシリーズに適用させる。\n",
    "\"\"\"\n",
    "\n",
    "ser = pd.Series([59, 90, 75, 61, 30])\n",
    "\n",
    "def label(x):\n",
    "    if x >= 80:\n",
    "        return '優'\n",
    "    elif x >= 70:\n",
    "        return '良'\n",
    "    elif x >= 60:\n",
    "        return '可'\n",
    "    else:\n",
    "        return '不可'\n",
    "\n",
    "ser.apply(label)"
   ]
  },
  {
   "cell_type": "code",
   "execution_count": 58,
   "id": "71656f96-86e6-48b8-9d58-af6d2fa44467",
   "metadata": {},
   "outputs": [
    {
     "data": {
      "text/plain": [
       "0    500000\n",
       "1    800000\n",
       "2    640000\n",
       "3    380000\n",
       "4    580000\n",
       "dtype: int64"
      ]
     },
     "execution_count": 58,
     "metadata": {},
     "output_type": "execute_result"
    }
   ],
   "source": [
    "\"\"\"\n",
    "下記のシリーズは、社員5名の月額給与額のデータ。\n",
    "シリーズの各要素を定数倍の値にするbonus関数をdef文で作成し、2倍の値を返すように引数を渡したbonus関数をapplyメソッドで下記シリーズに適用させる。\n",
    "\"\"\"\n",
    "\n",
    "ser = pd.Series([250000, 400000, 320000, 190000, 290000])\n",
    "\n",
    "# def bonus(x):\n",
    "#     return x * 2\n",
    "\n",
    "def bonus(x, multi):\n",
    "    return x * multi\n",
    "\n",
    "ser.apply(bonus, multi=2)"
   ]
  },
  {
   "cell_type": "code",
   "execution_count": 62,
   "id": "cfab777b-a6b8-4915-9648-05543bff39ab",
   "metadata": {},
   "outputs": [
    {
     "data": {
      "text/plain": [
       "0    100\n",
       "1    121\n",
       "2    144\n",
       "3    169\n",
       "4    196\n",
       "dtype: int64"
      ]
     },
     "execution_count": 62,
     "metadata": {},
     "output_type": "execute_result"
    }
   ],
   "source": [
    "# NumPyライブラリのsquare関数とapplyメソッドを使用し、下記シリーズの各要素の値を2乗\n",
    "import numpy as np\n",
    "\n",
    "ser = pd.Series([10, 11, 12, 13, 14])\n",
    "ser.apply(np.square)"
   ]
  },
  {
   "cell_type": "code",
   "execution_count": 63,
   "id": "6b115e3b-30ce-4899-9d45-f8c54d0848a8",
   "metadata": {},
   "outputs": [
    {
     "data": {
      "text/plain": [
       "0    ス\n",
       "1    ニ\n",
       "2    ジ\n",
       "3    シ\n",
       "4    ロ\n",
       "dtype: object"
      ]
     },
     "execution_count": 63,
     "metadata": {},
     "output_type": "execute_result"
    }
   ],
   "source": [
    "# 無名関数であるlambda関数とapplyメソッドを使用し、完成イメージの通りに、下記シリーズの各要素の最初の一文字を取得\n",
    "ser = pd.Series(['スカート', 'ニット', 'ジャケット', 'シャツ', 'ロングパンツ'])\n",
    "ser.apply(lambda x : x[0])"
   ]
  },
  {
   "cell_type": "code",
   "execution_count": 64,
   "id": "b10c0be6-23fc-43cc-84b0-c43aca46a723",
   "metadata": {},
   "outputs": [
    {
     "data": {
      "text/plain": [
       "0      [March]\n",
       "1       [June]\n",
       "2    [October]\n",
       "3      [March]\n",
       "dtype: object"
      ]
     },
     "execution_count": 64,
     "metadata": {},
     "output_type": "execute_result"
    }
   ],
   "source": [
    "# 無名関数であるlambda関数とapplyメソッドを使用し、完成イメージの通りに、下記シリーズの各要素のアルファベットのみを取得\n",
    "ser = pd.Series(['March03', 'June05', 'October19', 'March15'])\n",
    "ser.apply(lambda x : re.findall('[A-z]+', x))"
   ]
  },
  {
   "cell_type": "code",
   "execution_count": 66,
   "id": "7e164e43-6c0d-490e-baa8-6a8d677712de",
   "metadata": {},
   "outputs": [
    {
     "data": {
      "text/plain": [
       "0    アメリカに行きたい\n",
       "1    イタリアに行きたい\n",
       "2    フランスに行きたい\n",
       "3      中国に行きたい\n",
       "4    ブラジルに行きたい\n",
       "dtype: object"
      ]
     },
     "execution_count": 66,
     "metadata": {},
     "output_type": "execute_result"
    }
   ],
   "source": [
    "# applyメソッドとformatメソッドを使用して、完成イメージの通りに、下記シリーズの各要素の値を文章にする\n",
    "\n",
    "ser = pd.Series(['アメリカ', 'イタリア', 'フランス', '中国', 'ブラジル'])\n",
    "ser.apply('{}に行きたい'.format, na_action='ignore')"
   ]
  },
  {
   "cell_type": "code",
   "execution_count": 71,
   "id": "b6672705-ea81-4599-9499-95242ac0ae65",
   "metadata": {},
   "outputs": [
    {
     "data": {
      "text/html": [
       "<div>\n",
       "<style scoped>\n",
       "    .dataframe tbody tr th:only-of-type {\n",
       "        vertical-align: middle;\n",
       "    }\n",
       "\n",
       "    .dataframe tbody tr th {\n",
       "        vertical-align: top;\n",
       "    }\n",
       "\n",
       "    .dataframe thead th {\n",
       "        text-align: right;\n",
       "    }\n",
       "</style>\n",
       "<table border=\"1\" class=\"dataframe\">\n",
       "  <thead>\n",
       "    <tr style=\"text-align: right;\">\n",
       "      <th></th>\n",
       "      <th>1日</th>\n",
       "      <th>2日</th>\n",
       "      <th>3日</th>\n",
       "    </tr>\n",
       "  </thead>\n",
       "  <tbody>\n",
       "    <tr>\n",
       "      <th>Aさん</th>\n",
       "      <td>110000</td>\n",
       "      <td>60000</td>\n",
       "      <td>80000</td>\n",
       "    </tr>\n",
       "    <tr>\n",
       "      <th>Bさん</th>\n",
       "      <td>50000</td>\n",
       "      <td>120000</td>\n",
       "      <td>60000</td>\n",
       "    </tr>\n",
       "    <tr>\n",
       "      <th>Cさん</th>\n",
       "      <td>40000</td>\n",
       "      <td>50000</td>\n",
       "      <td>90000</td>\n",
       "    </tr>\n",
       "  </tbody>\n",
       "</table>\n",
       "</div>"
      ],
      "text/plain": [
       "         1日      2日     3日\n",
       "Aさん  110000   60000  80000\n",
       "Bさん   50000  120000  60000\n",
       "Cさん   40000   50000  90000"
      ]
     },
     "execution_count": 71,
     "metadata": {},
     "output_type": "execute_result"
    }
   ],
   "source": [
    "# 下記データフレームの各要素の値を10倍にするtentimes関数をdef文で作成し、完成イメージの通りに、applymapメソッドでデータフレームに適用させる\n",
    "\n",
    "df = pd.DataFrame([[11000, 6000, 8000],\n",
    "                   [5000, 12000, 6000],\n",
    "                   [4000, 5000, 9000]],\n",
    "                  columns=['1日', '2日', '3日'], \n",
    "                  index=['Aさん', 'Bさん', 'Cさん'] )\n",
    "\n",
    "def tentimes(x,  multi):\n",
    "    return x * multi\n",
    "df.applymap(tentimes, multi=10)"
   ]
  },
  {
   "cell_type": "code",
   "execution_count": 72,
   "id": "f3b2383c-c607-4032-a7ce-26aba5d94c88",
   "metadata": {},
   "outputs": [
    {
     "data": {
      "text/html": [
       "<div>\n",
       "<style scoped>\n",
       "    .dataframe tbody tr th:only-of-type {\n",
       "        vertical-align: middle;\n",
       "    }\n",
       "\n",
       "    .dataframe tbody tr th {\n",
       "        vertical-align: top;\n",
       "    }\n",
       "\n",
       "    .dataframe thead th {\n",
       "        text-align: right;\n",
       "    }\n",
       "</style>\n",
       "<table border=\"1\" class=\"dataframe\">\n",
       "  <thead>\n",
       "    <tr style=\"text-align: right;\">\n",
       "      <th></th>\n",
       "      <th>月</th>\n",
       "      <th>火</th>\n",
       "      <th>水</th>\n",
       "    </tr>\n",
       "  </thead>\n",
       "  <tbody>\n",
       "    <tr>\n",
       "      <th>A店</th>\n",
       "      <td>1500</td>\n",
       "      <td>1800</td>\n",
       "      <td>2400</td>\n",
       "    </tr>\n",
       "    <tr>\n",
       "      <th>B店</th>\n",
       "      <td>1200</td>\n",
       "      <td>2700</td>\n",
       "      <td>3000</td>\n",
       "    </tr>\n",
       "    <tr>\n",
       "      <th>C店</th>\n",
       "      <td>900</td>\n",
       "      <td>1200</td>\n",
       "      <td>1800</td>\n",
       "    </tr>\n",
       "  </tbody>\n",
       "</table>\n",
       "</div>"
      ],
      "text/plain": [
       "       月     火     水\n",
       "A店  1500  1800  2400\n",
       "B店  1200  2700  3000\n",
       "C店   900  1200  1800"
      ]
     },
     "execution_count": 72,
     "metadata": {},
     "output_type": "execute_result"
    }
   ],
   "source": [
    "# 無名関数であるlambda関数とapplymapメソッドを使用し、下記データフレームの各要素の値を3倍にする\n",
    "df = pd.DataFrame([[500, 600, 800],\n",
    "                   [400, 900, 1000],\n",
    "                   [300, 400, 600]],\n",
    "                  columns=['月', '火', '水'],\n",
    "                  index=['A店', 'B店', 'C店'] )\n",
    "df.applymap(lambda x : x * 3)"
   ]
  },
  {
   "cell_type": "code",
   "execution_count": 76,
   "id": "4babd364-57ed-4f95-bbe6-45fd71cf5d26",
   "metadata": {},
   "outputs": [
    {
     "data": {
      "text/html": [
       "<div>\n",
       "<style scoped>\n",
       "    .dataframe tbody tr th:only-of-type {\n",
       "        vertical-align: middle;\n",
       "    }\n",
       "\n",
       "    .dataframe tbody tr th {\n",
       "        vertical-align: top;\n",
       "    }\n",
       "\n",
       "    .dataframe thead th {\n",
       "        text-align: right;\n",
       "    }\n",
       "</style>\n",
       "<table border=\"1\" class=\"dataframe\">\n",
       "  <thead>\n",
       "    <tr style=\"text-align: right;\">\n",
       "      <th></th>\n",
       "      <th>朝</th>\n",
       "      <th>昼</th>\n",
       "      <th>夜</th>\n",
       "    </tr>\n",
       "  </thead>\n",
       "  <tbody>\n",
       "    <tr>\n",
       "      <th>A店</th>\n",
       "      <td>1000円以上</td>\n",
       "      <td>1000円未満</td>\n",
       "      <td>1000円以上</td>\n",
       "    </tr>\n",
       "    <tr>\n",
       "      <th>B店</th>\n",
       "      <td>1000円未満</td>\n",
       "      <td>1000円未満</td>\n",
       "      <td>1000円以上</td>\n",
       "    </tr>\n",
       "    <tr>\n",
       "      <th>C店</th>\n",
       "      <td>1000円以上</td>\n",
       "      <td>1000円以上</td>\n",
       "      <td>1000円以上</td>\n",
       "    </tr>\n",
       "  </tbody>\n",
       "</table>\n",
       "</div>"
      ],
      "text/plain": [
       "          朝        昼        夜\n",
       "A店  1000円以上  1000円未満  1000円以上\n",
       "B店  1000円未満  1000円未満  1000円以上\n",
       "C店  1000円以上  1000円以上  1000円以上"
      ]
     },
     "execution_count": 76,
     "metadata": {},
     "output_type": "execute_result"
    }
   ],
   "source": [
    "\"\"\"\n",
    "下記のデータフレームは、3つの支店における時間帯ごとの時給のデータである。\n",
    "まず、データフレームの各要素の値が1000以上の場合は'1000円以上'、1000未満の場合は'1000円未満'を表示させるlambda関数を作成。\n",
    "そして、applymapメソッドを使用して、データフレームに適用させる\n",
    "\"\"\"\n",
    "\n",
    "df = pd.DataFrame([[1050, 950, 1200],\n",
    "                   [980, 900, 1100],\n",
    "                   [1200, 1000, 1400]],\n",
    "                  columns=['朝', '昼', '夜'], \n",
    "                  index=['A店', 'B店', 'C店'] )\n",
    "df.applymap(lambda x : '1000円以上' if x >= 1000 else '1000円未満')"
   ]
  },
  {
   "cell_type": "code",
   "execution_count": 78,
   "id": "a7ca3ed7-6fa0-4f63-a2b9-32b43ddfce04",
   "metadata": {},
   "outputs": [
    {
     "data": {
      "text/html": [
       "<div>\n",
       "<style scoped>\n",
       "    .dataframe tbody tr th:only-of-type {\n",
       "        vertical-align: middle;\n",
       "    }\n",
       "\n",
       "    .dataframe tbody tr th {\n",
       "        vertical-align: top;\n",
       "    }\n",
       "\n",
       "    .dataframe thead th {\n",
       "        text-align: right;\n",
       "    }\n",
       "</style>\n",
       "<table border=\"1\" class=\"dataframe\">\n",
       "  <thead>\n",
       "    <tr style=\"text-align: right;\">\n",
       "      <th></th>\n",
       "      <th>英語</th>\n",
       "      <th>国語</th>\n",
       "      <th>数学</th>\n",
       "    </tr>\n",
       "  </thead>\n",
       "  <tbody>\n",
       "    <tr>\n",
       "      <th>Aさん</th>\n",
       "      <td>B</td>\n",
       "      <td>B</td>\n",
       "      <td>A</td>\n",
       "    </tr>\n",
       "    <tr>\n",
       "      <th>Bさん</th>\n",
       "      <td>A</td>\n",
       "      <td>A</td>\n",
       "      <td>C</td>\n",
       "    </tr>\n",
       "    <tr>\n",
       "      <th>Cさん</th>\n",
       "      <td>C</td>\n",
       "      <td>C</td>\n",
       "      <td>B</td>\n",
       "    </tr>\n",
       "  </tbody>\n",
       "</table>\n",
       "</div>"
      ],
      "text/plain": [
       "    英語 国語 数学\n",
       "Aさん  B  B  A\n",
       "Bさん  A  A  C\n",
       "Cさん  C  C  B"
      ]
     },
     "execution_count": 78,
     "metadata": {},
     "output_type": "execute_result"
    }
   ],
   "source": [
    "\"\"\"\n",
    "下記のデータフレームは、生徒3名のテストでの科目別順位のデータ。\n",
    "まず、データフレームの各要素の値が10未満の場合は'A'、10以上50未満の場合は'B'、50以上の場合は'C'を表示させるlabel関数を作成。\n",
    "そして、applymapメソッドでデータフレームに適用させる\n",
    "\"\"\"\n",
    "\n",
    "df = pd.DataFrame([[30, 45, 8],\n",
    "                   [3, 5, 83],\n",
    "                   [67, 72, 15]],\n",
    "                  columns=['英語', '国語', '数学'],\n",
    "                  index=['Aさん', 'Bさん', 'Cさん'] )\n",
    "def label(x):\n",
    "    if x < 10:\n",
    "        return 'A'\n",
    "    elif x < 50:\n",
    "        return 'B'\n",
    "    else:\n",
    "        return 'C'\n",
    "\n",
    "df.applymap(label)"
   ]
  },
  {
   "cell_type": "code",
   "execution_count": null,
   "id": "05d1f9dd-18ea-47c2-b829-1e231dae304d",
   "metadata": {},
   "outputs": [],
   "source": [
    "df.mask(df < 10000, '1万未満') # maskメソッド  条件に合う要素を指定の値に置き換える 反対にwhereメッソドがある\n"
   ]
  },
  {
   "cell_type": "code",
   "execution_count": 81,
   "id": "9aa9a7d2-f709-41f0-b3d9-f6e4a6e5ca1a",
   "metadata": {},
   "outputs": [
    {
     "data": {
      "text/html": [
       "<div>\n",
       "<style scoped>\n",
       "    .dataframe tbody tr th:only-of-type {\n",
       "        vertical-align: middle;\n",
       "    }\n",
       "\n",
       "    .dataframe tbody tr th {\n",
       "        vertical-align: top;\n",
       "    }\n",
       "\n",
       "    .dataframe thead th {\n",
       "        text-align: right;\n",
       "    }\n",
       "</style>\n",
       "<table border=\"1\" class=\"dataframe\">\n",
       "  <thead>\n",
       "    <tr style=\"text-align: right;\">\n",
       "      <th></th>\n",
       "      <th>ユーロ/円</th>\n",
       "      <th>米ドル/円</th>\n",
       "      <th>英ポンド/円</th>\n",
       "    </tr>\n",
       "  </thead>\n",
       "  <tbody>\n",
       "    <tr>\n",
       "      <th>2000年</th>\n",
       "      <td>101</td>\n",
       "      <td>107</td>\n",
       "      <td>120以上</td>\n",
       "    </tr>\n",
       "    <tr>\n",
       "      <th>2010年</th>\n",
       "      <td>111</td>\n",
       "      <td>90</td>\n",
       "      <td>120以上</td>\n",
       "    </tr>\n",
       "    <tr>\n",
       "      <th>2020年</th>\n",
       "      <td>120以上</td>\n",
       "      <td>108</td>\n",
       "      <td>120以上</td>\n",
       "    </tr>\n",
       "  </tbody>\n",
       "</table>\n",
       "</div>"
      ],
      "text/plain": [
       "       ユーロ/円  米ドル/円 英ポンド/円\n",
       "2000年    101    107  120以上\n",
       "2010年    111     90  120以上\n",
       "2020年  120以上    108  120以上"
      ]
     },
     "execution_count": 81,
     "metadata": {},
     "output_type": "execute_result"
    }
   ],
   "source": [
    "\"\"\"\n",
    "下記のデータフレームは、ある時点での為替相場データです。\n",
    "maskメソッドを使用して、各要素の値が120以上の要素のみを文字列の'120円以上'に変更\n",
    "\"\"\"\n",
    "\n",
    "df = pd.DataFrame([[101, 107, 161],\n",
    "                   [111, 90, 131],\n",
    "                   [120, 108, 133]],\n",
    "                  columns=['ユーロ/円', '米ドル/円', '英ポンド/円'],\n",
    "                  index=['2000年', '2010年', '2020年'])\n",
    "df.mask(df >= 120, '120以上')"
   ]
  },
  {
   "cell_type": "code",
   "execution_count": 83,
   "id": "722e198f-adb2-4d83-9de9-ff17e3a72873",
   "metadata": {},
   "outputs": [
    {
     "data": {
      "text/html": [
       "<div>\n",
       "<style scoped>\n",
       "    .dataframe tbody tr th:only-of-type {\n",
       "        vertical-align: middle;\n",
       "    }\n",
       "\n",
       "    .dataframe tbody tr th {\n",
       "        vertical-align: top;\n",
       "    }\n",
       "\n",
       "    .dataframe thead th {\n",
       "        text-align: right;\n",
       "    }\n",
       "</style>\n",
       "<table border=\"1\" class=\"dataframe\">\n",
       "  <thead>\n",
       "    <tr style=\"text-align: right;\">\n",
       "      <th></th>\n",
       "      <th>10歳</th>\n",
       "      <th>15歳</th>\n",
       "      <th>20歳</th>\n",
       "    </tr>\n",
       "  </thead>\n",
       "  <tbody>\n",
       "    <tr>\n",
       "      <th>Aさん</th>\n",
       "      <td>160cm未満</td>\n",
       "      <td>160cm未満</td>\n",
       "      <td>169</td>\n",
       "    </tr>\n",
       "    <tr>\n",
       "      <th>Bさん</th>\n",
       "      <td>160cm未満</td>\n",
       "      <td>160cm未満</td>\n",
       "      <td>165</td>\n",
       "    </tr>\n",
       "    <tr>\n",
       "      <th>Cさん</th>\n",
       "      <td>160cm未満</td>\n",
       "      <td>165</td>\n",
       "      <td>178</td>\n",
       "    </tr>\n",
       "  </tbody>\n",
       "</table>\n",
       "</div>"
      ],
      "text/plain": [
       "         10歳      15歳  20歳\n",
       "Aさん  160cm未満  160cm未満  169\n",
       "Bさん  160cm未満  160cm未満  165\n",
       "Cさん  160cm未満      165  178"
      ]
     },
     "execution_count": 83,
     "metadata": {},
     "output_type": "execute_result"
    }
   ],
   "source": [
    "\"\"\"\n",
    "下記のデータフレームは、3人の10歳、15歳、20歳時点での身長のデータ。\n",
    "whereメソッドを使用して、値が160以上」ではない要素のみを文字列の'160cm未満'に変更。\n",
    "\"\"\"\n",
    "df = pd.DataFrame([[138, 158, 169],\n",
    "                   [142, 157, 165],\n",
    "                   [150, 165, 178]],\n",
    "                  columns=['10歳', '15歳', '20歳'],\n",
    "                  index=['Aさん', 'Bさん', 'Cさん'] )\n",
    "df.where(df >= 160, '160cm未満')"
   ]
  },
  {
   "cell_type": "code",
   "execution_count": 86,
   "id": "9fa64513-ed30-4cdc-a55e-de24af7c4a53",
   "metadata": {},
   "outputs": [
    {
     "data": {
      "text/html": [
       "<div>\n",
       "<style scoped>\n",
       "    .dataframe tbody tr th:only-of-type {\n",
       "        vertical-align: middle;\n",
       "    }\n",
       "\n",
       "    .dataframe tbody tr th {\n",
       "        vertical-align: top;\n",
       "    }\n",
       "\n",
       "    .dataframe thead th {\n",
       "        text-align: right;\n",
       "    }\n",
       "</style>\n",
       "<table border=\"1\" class=\"dataframe\">\n",
       "  <thead>\n",
       "    <tr style=\"text-align: right;\">\n",
       "      <th></th>\n",
       "      <th>10</th>\n",
       "      <th>11</th>\n",
       "      <th>12</th>\n",
       "    </tr>\n",
       "  </thead>\n",
       "  <tbody>\n",
       "    <tr>\n",
       "      <th>10</th>\n",
       "      <td>10.000000</td>\n",
       "      <td>10.488088</td>\n",
       "      <td>10.954451</td>\n",
       "    </tr>\n",
       "    <tr>\n",
       "      <th>11</th>\n",
       "      <td>10.488088</td>\n",
       "      <td>11.000000</td>\n",
       "      <td>11.489125</td>\n",
       "    </tr>\n",
       "    <tr>\n",
       "      <th>12</th>\n",
       "      <td>10.954451</td>\n",
       "      <td>11.489125</td>\n",
       "      <td>12.000000</td>\n",
       "    </tr>\n",
       "  </tbody>\n",
       "</table>\n",
       "</div>"
      ],
      "text/plain": [
       "           10         11         12\n",
       "10  10.000000  10.488088  10.954451\n",
       "11  10.488088  11.000000  11.489125\n",
       "12  10.954451  11.489125  12.000000"
      ]
     },
     "execution_count": 86,
     "metadata": {},
     "output_type": "execute_result"
    }
   ],
   "source": [
    "# NumPyライブラリのsqrt関数とapplymapメソッドを使用して、下記データフレームの各要素の値を全て平方根に変更\n",
    "import numpy as np\n",
    "\n",
    "df = pd.DataFrame([[100, 110, 120],\n",
    "                   [110, 121, 132],\n",
    "                   [120, 132, 144]],\n",
    "                  columns=['10', '11', '12'],\n",
    "                  index=['10', '11', '12'] )\n",
    "\n",
    "df.applymap(np.sqrt)"
   ]
  },
  {
   "cell_type": "code",
   "execution_count": 89,
   "id": "b2ba3477-5e52-41c3-b2b4-31559d93ffaf",
   "metadata": {},
   "outputs": [
    {
     "data": {
      "text/html": [
       "<div>\n",
       "<style scoped>\n",
       "    .dataframe tbody tr th:only-of-type {\n",
       "        vertical-align: middle;\n",
       "    }\n",
       "\n",
       "    .dataframe tbody tr th {\n",
       "        vertical-align: top;\n",
       "    }\n",
       "\n",
       "    .dataframe thead th {\n",
       "        text-align: right;\n",
       "    }\n",
       "</style>\n",
       "<table border=\"1\" class=\"dataframe\">\n",
       "  <thead>\n",
       "    <tr style=\"text-align: right;\">\n",
       "      <th></th>\n",
       "      <th>x</th>\n",
       "      <th>y</th>\n",
       "      <th>z</th>\n",
       "    </tr>\n",
       "  </thead>\n",
       "  <tbody>\n",
       "    <tr>\n",
       "      <th>0</th>\n",
       "      <td>ス</td>\n",
       "      <td>ニ</td>\n",
       "      <td>ジ</td>\n",
       "    </tr>\n",
       "    <tr>\n",
       "      <th>1</th>\n",
       "      <td>シ</td>\n",
       "      <td>ロ</td>\n",
       "      <td>ワ</td>\n",
       "    </tr>\n",
       "  </tbody>\n",
       "</table>\n",
       "</div>"
      ],
      "text/plain": [
       "   x  y  z\n",
       "0  ス  ニ  ジ\n",
       "1  シ  ロ  ワ"
      ]
     },
     "execution_count": 89,
     "metadata": {},
     "output_type": "execute_result"
    }
   ],
   "source": [
    "# 無名関数であるlambda関数とapplymapメソッドを使用し、下記データフレームの各要素の最初の一文字を取得\n",
    "df = pd.DataFrame([['スカートSkirt', 'ニットKnit', 'ジャケットJacket'],\n",
    "                   ['シャツShirt', 'ロングパンツSlacks', 'ワンピースOnepiesce']],\n",
    "                  columns=['x', 'y', 'z'])\n",
    "df.applymap(lambda x : x[0])"
   ]
  },
  {
   "cell_type": "code",
   "execution_count": 91,
   "id": "5f5ff99e-8060-43c6-a440-c5e4aff61808",
   "metadata": {},
   "outputs": [
    {
     "data": {
      "text/html": [
       "<div>\n",
       "<style scoped>\n",
       "    .dataframe tbody tr th:only-of-type {\n",
       "        vertical-align: middle;\n",
       "    }\n",
       "\n",
       "    .dataframe tbody tr th {\n",
       "        vertical-align: top;\n",
       "    }\n",
       "\n",
       "    .dataframe thead th {\n",
       "        text-align: right;\n",
       "    }\n",
       "</style>\n",
       "<table border=\"1\" class=\"dataframe\">\n",
       "  <thead>\n",
       "    <tr style=\"text-align: right;\">\n",
       "      <th></th>\n",
       "      <th>x</th>\n",
       "      <th>y</th>\n",
       "      <th>z</th>\n",
       "    </tr>\n",
       "  </thead>\n",
       "  <tbody>\n",
       "    <tr>\n",
       "      <th>0</th>\n",
       "      <td>[4500]</td>\n",
       "      <td>[5200]</td>\n",
       "      <td>[10200]</td>\n",
       "    </tr>\n",
       "    <tr>\n",
       "      <th>1</th>\n",
       "      <td>[3800]</td>\n",
       "      <td>[4900]</td>\n",
       "      <td>[6200]</td>\n",
       "    </tr>\n",
       "  </tbody>\n",
       "</table>\n",
       "</div>"
      ],
      "text/plain": [
       "        x       y        z\n",
       "0  [4500]  [5200]  [10200]\n",
       "1  [3800]  [4900]   [6200]"
      ]
     },
     "execution_count": 91,
     "metadata": {},
     "output_type": "execute_result"
    }
   ],
   "source": [
    "# 無名関数であるlambda関数とapplymapメソッドを使用し、完成イメージの通りに、下記データフレームの各要素の数字のみを取得\n",
    "import re\n",
    "\n",
    "df = pd.DataFrame([['スカート¥4500', 'ニット¥5200', 'ジャケット¥10200'],\n",
    "                   ['シャツ¥3800', 'ロングパンツ¥4900', 'ワンピース¥6200']],\n",
    "                  columns=['x', 'y', 'z'])\n",
    "df.applymap(lambda x : re.findall('[0-9]+', x))"
   ]
  },
  {
   "cell_type": "code",
   "execution_count": 93,
   "id": "150ba8b6-ee3a-4790-b66f-42e5ac15845f",
   "metadata": {},
   "outputs": [
    {
     "data": {
      "text/html": [
       "<div>\n",
       "<style scoped>\n",
       "    .dataframe tbody tr th:only-of-type {\n",
       "        vertical-align: middle;\n",
       "    }\n",
       "\n",
       "    .dataframe tbody tr th {\n",
       "        vertical-align: top;\n",
       "    }\n",
       "\n",
       "    .dataframe thead th {\n",
       "        text-align: right;\n",
       "    }\n",
       "</style>\n",
       "<table border=\"1\" class=\"dataframe\">\n",
       "  <thead>\n",
       "    <tr style=\"text-align: right;\">\n",
       "      <th></th>\n",
       "      <th>Mon</th>\n",
       "      <th>Thu</th>\n",
       "      <th>Wed</th>\n",
       "    </tr>\n",
       "  </thead>\n",
       "  <tbody>\n",
       "    <tr>\n",
       "      <th>apple</th>\n",
       "      <td>352.0</td>\n",
       "      <td>297.0</td>\n",
       "      <td>462.0</td>\n",
       "    </tr>\n",
       "    <tr>\n",
       "      <th>banana</th>\n",
       "      <td>308.0</td>\n",
       "      <td>363.0</td>\n",
       "      <td>341.0</td>\n",
       "    </tr>\n",
       "    <tr>\n",
       "      <th>peach</th>\n",
       "      <td>495.0</td>\n",
       "      <td>264.0</td>\n",
       "      <td>330.0</td>\n",
       "    </tr>\n",
       "  </tbody>\n",
       "</table>\n",
       "</div>"
      ],
      "text/plain": [
       "          Mon    Thu    Wed\n",
       "apple   352.0  297.0  462.0\n",
       "banana  308.0  363.0  341.0\n",
       "peach   495.0  264.0  330.0"
      ]
     },
     "execution_count": 93,
     "metadata": {},
     "output_type": "execute_result"
    }
   ],
   "source": [
    "\"\"\"\n",
    "下記のデータフレームは、果物の曜日ごとの値段のデータです。\n",
    "まず、データフレームの各要素の値を1.1倍にして消費税込の値段を計算するtax関数をdef文で作成します。\n",
    "そして、作成したtax関数をapplyメソッドで下記データフレームに適用\n",
    "\"\"\"\n",
    "\n",
    "df = pd.DataFrame([[320, 270, 420],\n",
    "                   [280, 330, 310],\n",
    "                   [450, 240, 300]],\n",
    "                  columns=['Mon', 'Thu', 'Wed'],\n",
    "                  index=['apple', 'banana', 'peach'] )\n",
    "\n",
    "def tax(x, multi):\n",
    "    return x * multi\n",
    "\n",
    "df.applymap(tax, multi=1.1)"
   ]
  },
  {
   "cell_type": "code",
   "execution_count": 97,
   "id": "b07bef0b-de16-499a-a46d-7eb7142aedb9",
   "metadata": {},
   "outputs": [
    {
     "data": {
      "text/plain": [
       "Korea        10万未満\n",
       "Australia    10万以上\n",
       "Singapore    10万未満\n",
       "Name: Business, dtype: object"
      ]
     },
     "execution_count": 97,
     "metadata": {},
     "output_type": "execute_result"
    }
   ],
   "source": [
    "\"\"\"\n",
    "下記のデータフレームは、搭乗クラス、目的地別の航空券の値段のデータ。\n",
    "まず、Businessクラスの各要素の値が100,000以上の場合は'10万以上'、100,000未満の場合は'10万未満'を表示させるlambda関数を作成。\n",
    "そして、完成イメージの通りに、applyメソッドを使用してデータフレームに適用。\n",
    "\"\"\"\n",
    "\n",
    "df = pd.DataFrame([[90000, 50000, 20000],\n",
    "                   [280000, 110000, 70000],\n",
    "                   [180000, 95000, 60000]],\n",
    "                  columns=['First', 'Business', 'Economy'],\n",
    "                  index=['Korea', 'Australia', 'Singapore'] )\n",
    "df['Business'].apply(lambda x : '10万以上' if x >= 100000 else '10万未満')"
   ]
  },
  {
   "cell_type": "code",
   "execution_count": 99,
   "id": "2f047177-f637-487a-bb77-c1853e1fbae1",
   "metadata": {},
   "outputs": [
    {
     "data": {
      "text/plain": [
       "A店    830\n",
       "B店    750\n",
       "C店    820\n",
       "dtype: int64"
      ]
     },
     "execution_count": 99,
     "metadata": {},
     "output_type": "execute_result"
    }
   ],
   "source": [
    "\"\"\"\n",
    "下記のデータフレームは、果物の店ごとの値段のデータ。\n",
    "applyメソッドとNumPyライブラリのsum関数を使用して、完成イメージのように店ごとの合計金額を算出\n",
    "\"\"\"\n",
    "import numpy as np\n",
    "\n",
    "df = pd.DataFrame([[180, 200, 120],\n",
    "                   [200, 150, 100],\n",
    "                   [450, 400, 600]],\n",
    "                  columns=['A店', 'B店', 'C店'],\n",
    "                  index=['apple', 'banana', 'peach'] )\n",
    "df.apply(np.sum)"
   ]
  },
  {
   "cell_type": "code",
   "execution_count": 103,
   "id": "ca2c3c43-e84a-4902-a125-0a0dc77e8c63",
   "metadata": {},
   "outputs": [
    {
     "data": {
      "text/plain": [
       "apple      80\n",
       "banana    100\n",
       "peach     200\n",
       "dtype: int64"
      ]
     },
     "execution_count": 103,
     "metadata": {},
     "output_type": "execute_result"
    }
   ],
   "source": [
    "\"\"\"\n",
    "下記のデータフレームは、果物の店ごとの値段のデータ。\n",
    "まず、果物ごとの最高額と最低額の差を算出するlambda関数を作成。\n",
    "そして、applyメソッドでデータフレームに適用。\n",
    "\"\"\"\n",
    "df = pd.DataFrame([[180, 200, 120],\n",
    "                   [200, 150, 100],\n",
    "                   [450, 400, 600]],\n",
    "                  columns=['A店', 'B店', 'C店'],\n",
    "                  index=['apple', 'banana', 'peach'] )\n",
    "\n",
    "df.apply(lambda x: max(x) - min(x), axis=1)"
   ]
  },
  {
   "cell_type": "code",
   "execution_count": 104,
   "id": "b87a42e5-a259-40be-9860-37e270aaf53b",
   "metadata": {},
   "outputs": [
    {
     "data": {
      "text/plain": [
       "x      スカートSkirt\n",
       "y        ニットKnit\n",
       "z    ジャケットJacket\n",
       "dtype: object"
      ]
     },
     "execution_count": 104,
     "metadata": {},
     "output_type": "execute_result"
    }
   ],
   "source": [
    "\"\"\"\n",
    "下記データフレームの、最初の1行を取得するlambda関数を作成。\n",
    "そして、完成イメージの通りに、applyメソッドでデータフレームに適用\n",
    "\"\"\"\n",
    "\n",
    "df = pd.DataFrame([['スカートSkirt', 'ニットKnit', 'ジャケットJacket'],\n",
    "                   ['シャツShirt', 'ロングパンツSlacks', 'ワンピースOnepiesce']],\n",
    "                  columns=['x', 'y', 'z'])\n",
    "\n",
    "df.apply(lambda x : x[0])"
   ]
  },
  {
   "cell_type": "code",
   "execution_count": 114,
   "id": "a98cb1a7-08d5-41d6-b531-d4172530923b",
   "metadata": {},
   "outputs": [
    {
     "data": {
      "text/plain": [
       "001    大阪府\n",
       "002    京都府\n",
       "003    奈良県\n",
       "dtype: object"
      ]
     },
     "execution_count": 114,
     "metadata": {},
     "output_type": "execute_result"
    }
   ],
   "source": [
    "# 下記データフレームの'居住地'列の要素を取得するlambda関数を作成し、applyメソッドでデータフレームの各要素に適用\n",
    "df = pd.DataFrame([['山田太郎', 28, '大阪府'],\n",
    "                   ['高橋次郎', 80, '京都府'],\n",
    "                   ['伊藤三郎', 49, '奈良県']], \n",
    "                  columns=['氏名', '年齢', '居住地'], \n",
    "                  index=['001', '002', '003'] )\n",
    "df.apply(lambda x: x[2], axis=1)"
   ]
  }
 ],
 "metadata": {
  "kernelspec": {
   "display_name": "Python 3 (ipykernel)",
   "language": "python",
   "name": "python3"
  },
  "language_info": {
   "codemirror_mode": {
    "name": "ipython",
    "version": 3
   },
   "file_extension": ".py",
   "mimetype": "text/x-python",
   "name": "python",
   "nbconvert_exporter": "python",
   "pygments_lexer": "ipython3",
   "version": "3.7.16"
  }
 },
 "nbformat": 4,
 "nbformat_minor": 5
}
