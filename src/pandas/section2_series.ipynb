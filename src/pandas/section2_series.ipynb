{
 "cells": [
  {
   "cell_type": "markdown",
   "id": "9c55a419-f46a-4b3a-9add-b837affaed0c",
   "metadata": {},
   "source": [
    "# Pandas入門 Series"
   ]
  },
  {
   "cell_type": "markdown",
   "id": "fde5cb86-8cf0-4637-8e59-a1b9aab79122",
   "metadata": {},
   "source": [
    "## Series\n",
    "一列のリストのようなものにインデックスがある\n",
    "\n",
    "データフレームはSeriseをまとめたもの"
   ]
  },
  {
   "cell_type": "code",
   "execution_count": 4,
   "id": "3f9428f9-b4c4-4e3a-8caf-af3ca3eeae66",
   "metadata": {},
   "outputs": [],
   "source": [
    "import pandas as pd\n",
    "import numpy as np"
   ]
  },
  {
   "cell_type": "code",
   "execution_count": 5,
   "id": "f7a00742-dc3b-4fae-9c67-deb405c9f9df",
   "metadata": {},
   "outputs": [
    {
     "data": {
      "text/plain": [
       "0    90\n",
       "1    78\n",
       "2    65\n",
       "3    87\n",
       "4    72\n",
       "dtype: int64"
      ]
     },
     "execution_count": 5,
     "metadata": {},
     "output_type": "execute_result"
    }
   ],
   "source": [
    "s1 = pd.Series([90, 78, 65, 87, 72])\n",
    "s1"
   ]
  },
  {
   "cell_type": "code",
   "execution_count": 6,
   "id": "fc98df87-3e2b-41b1-a325-926caade3cac",
   "metadata": {},
   "outputs": [],
   "source": [
    "data = [90, 78, 65, 87, 72]"
   ]
  },
  {
   "cell_type": "code",
   "execution_count": 7,
   "id": "c1374734-150f-4776-9636-ff95705dfaca",
   "metadata": {},
   "outputs": [
    {
     "data": {
      "text/plain": [
       "0    90\n",
       "1    78\n",
       "2    65\n",
       "3    87\n",
       "4    72\n",
       "dtype: int64"
      ]
     },
     "execution_count": 7,
     "metadata": {},
     "output_type": "execute_result"
    }
   ],
   "source": [
    "s1 = pd.Series(data)\n",
    "s1"
   ]
  },
  {
   "cell_type": "code",
   "execution_count": 17,
   "id": "be086763-1cab-4d24-8292-51a172b3a41e",
   "metadata": {},
   "outputs": [],
   "source": [
    "# numpyを使ってインポート\n",
    "import numpy as np\n",
    "np_data = np.arange(1, 10, 2) # 配列作成 1から10までの奇数"
   ]
  },
  {
   "cell_type": "code",
   "execution_count": 18,
   "id": "bfaf4df2-6553-4c8b-a05b-424315b72f5c",
   "metadata": {},
   "outputs": [
    {
     "data": {
      "text/plain": [
       "0    1\n",
       "1    3\n",
       "2    5\n",
       "3    7\n",
       "4    9\n",
       "dtype: int64"
      ]
     },
     "execution_count": 18,
     "metadata": {},
     "output_type": "execute_result"
    }
   ],
   "source": [
    "s2 = pd.Series(np_data)\n",
    "s2"
   ]
  },
  {
   "cell_type": "code",
   "execution_count": 19,
   "id": "8d633dd8-ba55-4021-af36-5df4bd9d4755",
   "metadata": {},
   "outputs": [
    {
     "data": {
      "text/plain": [
       "0    90\n",
       "1    78\n",
       "2    65\n",
       "3    87\n",
       "4    72\n",
       "dtype: int64"
      ]
     },
     "execution_count": 19,
     "metadata": {},
     "output_type": "execute_result"
    }
   ],
   "source": [
    "s1"
   ]
  },
  {
   "cell_type": "code",
   "execution_count": 20,
   "id": "5095ee6c-04f4-49fb-93bd-cd3cb0ca34de",
   "metadata": {},
   "outputs": [
    {
     "data": {
      "text/plain": [
       "dtype('int64')"
      ]
     },
     "execution_count": 20,
     "metadata": {},
     "output_type": "execute_result"
    }
   ],
   "source": [
    "# データ型の確認\n",
    "s1.dtypes"
   ]
  },
  {
   "cell_type": "code",
   "execution_count": 21,
   "id": "6a12fcc8-d470-4df3-a7b2-a99ef287d1d3",
   "metadata": {},
   "outputs": [
    {
     "data": {
      "text/plain": [
       "RangeIndex(start=0, stop=5, step=1)"
      ]
     },
     "execution_count": 21,
     "metadata": {},
     "output_type": "execute_result"
    }
   ],
   "source": [
    "# インデックス取得\n",
    "s1.index"
   ]
  },
  {
   "cell_type": "markdown",
   "id": "0168151f-5dfa-45e4-a73c-3bebfbd4ce58",
   "metadata": {},
   "source": [
    "0から始まり、5まで増えて1ずつ増えるインデックスとういことが分かります"
   ]
  },
  {
   "cell_type": "code",
   "execution_count": 24,
   "id": "34c485b9-e92b-4f99-bd81-5a8e42b475f7",
   "metadata": {},
   "outputs": [
    {
     "data": {
      "text/plain": [
       "sato         90\n",
       "suzuki       78\n",
       "takahashi    65\n",
       "tanaka       87\n",
       "ito          72\n",
       "dtype: int64"
      ]
     },
     "execution_count": 24,
     "metadata": {},
     "output_type": "execute_result"
    }
   ],
   "source": [
    "# インデックスの変更\n",
    "s1.index = ['sato', 'suzuki', 'takahashi', 'tanaka', 'ito']\n",
    "s1"
   ]
  },
  {
   "cell_type": "code",
   "execution_count": 29,
   "id": "da33a9e8-d8f7-44ec-a882-15abefa229af",
   "metadata": {},
   "outputs": [
    {
     "data": {
      "text/plain": [
       "Index(['sato', 'suzuki', 'takahashi', 'tanaka', 'ito'], dtype='object')"
      ]
     },
     "execution_count": 29,
     "metadata": {},
     "output_type": "execute_result"
    }
   ],
   "source": [
    "# indexが変更されているか確認\n",
    "s1.index "
   ]
  },
  {
   "cell_type": "markdown",
   "id": "7c652d7c-f12d-4e69-af22-e63c32d36f2a",
   "metadata": {},
   "source": [
    "## 辞書型データを使ってSerise作成"
   ]
  },
  {
   "cell_type": "code",
   "execution_count": 35,
   "id": "f79ed93e-a01f-4211-bb49-e57fe2915490",
   "metadata": {},
   "outputs": [],
   "source": [
    "# keyとvalue形式で辞書型dataを変数に代入\n",
    "dict01 = {'sato':90, 'suzuki':78, 'takahashi':65, 'tanaka':87, 'ito':72}"
   ]
  },
  {
   "cell_type": "code",
   "execution_count": 33,
   "id": "01328076-76e5-439c-9069-20998edd8997",
   "metadata": {},
   "outputs": [
    {
     "data": {
      "text/plain": [
       "sato         90\n",
       "suzuki       78\n",
       "takahashi    65\n",
       "tanaka       87\n",
       "ito          72\n",
       "dtype: int64"
      ]
     },
     "execution_count": 33,
     "metadata": {},
     "output_type": "execute_result"
    }
   ],
   "source": [
    "s3 = pd.Series(dict01)\n",
    "s3"
   ]
  },
  {
   "cell_type": "code",
   "execution_count": 36,
   "id": "8828b2a4-7227-40ee-b035-b77274db87e2",
   "metadata": {},
   "outputs": [
    {
     "data": {
      "text/plain": [
       "array([90, 78, 65, 87, 72])"
      ]
     },
     "execution_count": 36,
     "metadata": {},
     "output_type": "execute_result"
    }
   ],
   "source": [
    "# シリーズの値を取得\n",
    "s1.values"
   ]
  },
  {
   "cell_type": "code",
   "execution_count": 37,
   "id": "087ad06e-ae3a-4651-993c-e615d2036035",
   "metadata": {},
   "outputs": [
    {
     "data": {
      "text/plain": [
       "78"
      ]
     },
     "execution_count": 37,
     "metadata": {},
     "output_type": "execute_result"
    }
   ],
   "source": [
    "# swuzukiの点数を取得\n",
    "s1['suzuki']"
   ]
  },
  {
   "cell_type": "code",
   "execution_count": 39,
   "id": "3039201a-b95b-4897-a3d2-4881da5af096",
   "metadata": {},
   "outputs": [
    {
     "data": {
      "text/plain": [
       "78"
      ]
     },
     "execution_count": 39,
     "metadata": {},
     "output_type": "execute_result"
    }
   ],
   "source": [
    "# インデックス番号を指定して値を取得\n",
    "s1[1]"
   ]
  },
  {
   "cell_type": "code",
   "execution_count": 40,
   "id": "89c352db-9db3-43f3-908f-be131e4e4b29",
   "metadata": {},
   "outputs": [
    {
     "data": {
      "text/plain": [
       "suzuki    78\n",
       "tanaka    87\n",
       "dtype: int64"
      ]
     },
     "execution_count": 40,
     "metadata": {},
     "output_type": "execute_result"
    }
   ],
   "source": [
    "# リストでインデックスを指定して値を取得\n",
    "s1[['suzuki', 'tanaka']]"
   ]
  },
  {
   "cell_type": "code",
   "execution_count": 41,
   "id": "3d65d05f-f0ef-405a-801d-caac691d451f",
   "metadata": {},
   "outputs": [
    {
     "data": {
      "text/plain": [
       "suzuki    78\n",
       "tanaka    87\n",
       "dtype: int64"
      ]
     },
     "execution_count": 41,
     "metadata": {},
     "output_type": "execute_result"
    }
   ],
   "source": [
    "s1[[1, 3]]"
   ]
  },
  {
   "cell_type": "code",
   "execution_count": 45,
   "id": "1c381ed6-a670-4262-90ea-c61f8ce92528",
   "metadata": {},
   "outputs": [
    {
     "data": {
      "text/plain": [
       "sato          True\n",
       "suzuki       False\n",
       "takahashi    False\n",
       "tanaka        True\n",
       "ito          False\n",
       "dtype: bool"
      ]
     },
     "execution_count": 45,
     "metadata": {},
     "output_type": "execute_result"
    }
   ],
   "source": [
    "# 80点より大きいものを抽出(大きいものはtrue そうでないものはfalse)\n",
    "s1 > 80"
   ]
  },
  {
   "cell_type": "code",
   "execution_count": 46,
   "id": "1a95c46e-3420-497f-9dd1-04d1d52da61d",
   "metadata": {},
   "outputs": [
    {
     "data": {
      "text/plain": [
       "sato      90\n",
       "tanaka    87\n",
       "dtype: int64"
      ]
     },
     "execution_count": 46,
     "metadata": {},
     "output_type": "execute_result"
    }
   ],
   "source": [
    "# 80点より大きいものを抽出\n",
    "s1[s1 > 80]"
   ]
  },
  {
   "cell_type": "code",
   "execution_count": 48,
   "id": "1cf4ce11-584e-4910-9e95-d235f98c8b5c",
   "metadata": {},
   "outputs": [
    {
     "data": {
      "text/plain": [
       "suzuki       78\n",
       "takahashi    65\n",
       "ito          72\n",
       "dtype: int64"
      ]
     },
     "execution_count": 48,
     "metadata": {},
     "output_type": "execute_result"
    }
   ],
   "source": [
    "# 80点以下のものを抽出\n",
    "s1[s1 <= 80]"
   ]
  },
  {
   "cell_type": "code",
   "execution_count": 50,
   "id": "590e9dca-8540-4581-b905-3baf273b782a",
   "metadata": {},
   "outputs": [
    {
     "data": {
      "text/plain": [
       "5"
      ]
     },
     "execution_count": 50,
     "metadata": {},
     "output_type": "execute_result"
    }
   ],
   "source": [
    "# 要素数取得\n",
    "s1.size"
   ]
  },
  {
   "cell_type": "code",
   "execution_count": 51,
   "id": "a90f436f-7c94-41e7-8ea1-15ba371bfaff",
   "metadata": {},
   "outputs": [
    {
     "data": {
      "text/plain": [
       "5"
      ]
     },
     "execution_count": 51,
     "metadata": {},
     "output_type": "execute_result"
    }
   ],
   "source": [
    "len(s1)"
   ]
  },
  {
   "cell_type": "code",
   "execution_count": 52,
   "id": "3cce9ec3-ade0-40ad-8133-0131061e8f8c",
   "metadata": {},
   "outputs": [
    {
     "data": {
      "text/plain": [
       "member\n",
       "sato         90\n",
       "suzuki       78\n",
       "takahashi    65\n",
       "tanaka       87\n",
       "ito          72\n",
       "Name: score, dtype: int64"
      ]
     },
     "execution_count": 52,
     "metadata": {},
     "output_type": "execute_result"
    }
   ],
   "source": [
    "# indexとデータ部分に名前を付ける\n",
    "s1.index.name = 'member'\n",
    "s1.name = 'score'\n",
    "s1"
   ]
  },
  {
   "cell_type": "markdown",
   "id": "ba0b4d88-72a6-40b4-bc3b-50bb5bd4422e",
   "metadata": {},
   "source": [
    "### Seriesの四則演算"
   ]
  },
  {
   "cell_type": "code",
   "execution_count": 55,
   "id": "fb39b31f-4a76-4586-8bb5-09520e0d3ba9",
   "metadata": {},
   "outputs": [
    {
     "data": {
      "text/plain": [
       "member\n",
       "sato         92\n",
       "suzuki       80\n",
       "takahashi    67\n",
       "tanaka       89\n",
       "ito          74\n",
       "Name: score, dtype: int64"
      ]
     },
     "execution_count": 55,
     "metadata": {},
     "output_type": "execute_result"
    }
   ],
   "source": [
    "# Seiresのすべてのデータに2が足される\n",
    "s1 + 2"
   ]
  },
  {
   "cell_type": "code",
   "execution_count": 56,
   "id": "7d3c8015-79c5-42e0-9ee8-779e01369595",
   "metadata": {},
   "outputs": [
    {
     "data": {
      "text/plain": [
       "member\n",
       "sato         88\n",
       "suzuki       76\n",
       "takahashi    63\n",
       "tanaka       85\n",
       "ito          70\n",
       "Name: score, dtype: int64"
      ]
     },
     "execution_count": 56,
     "metadata": {},
     "output_type": "execute_result"
    }
   ],
   "source": [
    "s1 - 2"
   ]
  },
  {
   "cell_type": "code",
   "execution_count": 57,
   "id": "b362b7d1-1fdd-4696-a6e6-d3d3d6b9b72c",
   "metadata": {},
   "outputs": [
    {
     "data": {
      "text/plain": [
       "member\n",
       "sato         180\n",
       "suzuki       156\n",
       "takahashi    130\n",
       "tanaka       174\n",
       "ito          144\n",
       "Name: score, dtype: int64"
      ]
     },
     "execution_count": 57,
     "metadata": {},
     "output_type": "execute_result"
    }
   ],
   "source": [
    "s1 * 2"
   ]
  },
  {
   "cell_type": "code",
   "execution_count": 58,
   "id": "c84804f1-342e-4c29-8cce-996e9e7ca3bc",
   "metadata": {},
   "outputs": [
    {
     "data": {
      "text/plain": [
       "member\n",
       "sato         45.0\n",
       "suzuki       39.0\n",
       "takahashi    32.5\n",
       "tanaka       43.5\n",
       "ito          36.0\n",
       "Name: score, dtype: float64"
      ]
     },
     "execution_count": 58,
     "metadata": {},
     "output_type": "execute_result"
    }
   ],
   "source": [
    "s1 / 2"
   ]
  },
  {
   "cell_type": "code",
   "execution_count": 59,
   "id": "0e6abef3-4bf3-411b-b330-98cd20b2caf5",
   "metadata": {},
   "outputs": [
    {
     "data": {
      "text/plain": [
       "member\n",
       "sato         90\n",
       "suzuki       78\n",
       "takahashi    65\n",
       "tanaka       87\n",
       "ito          72\n",
       "Name: score, dtype: int64"
      ]
     },
     "execution_count": 59,
     "metadata": {},
     "output_type": "execute_result"
    }
   ],
   "source": [
    "s1"
   ]
  },
  {
   "cell_type": "code",
   "execution_count": 62,
   "id": "2de5f88b-cc96-4ed3-ae98-a0979096b649",
   "metadata": {},
   "outputs": [
    {
     "ename": "TypeError",
     "evalue": "can only concatenate str (not \"int\") to str",
     "output_type": "error",
     "traceback": [
      "\u001b[0;31m---------------------------------------------------------------------------\u001b[0m",
      "\u001b[0;31mTypeError\u001b[0m                                 Traceback (most recent call last)",
      "\u001b[0;32m/usr/local/lib/python3.7/site-packages/pandas/core/ops/array_ops.py\u001b[0m in \u001b[0;36m_na_arithmetic_op\u001b[0;34m(left, right, op, is_cmp)\u001b[0m\n\u001b[1;32m    165\u001b[0m     \u001b[0;32mtry\u001b[0m\u001b[0;34m:\u001b[0m\u001b[0;34m\u001b[0m\u001b[0;34m\u001b[0m\u001b[0m\n\u001b[0;32m--> 166\u001b[0;31m         \u001b[0mresult\u001b[0m \u001b[0;34m=\u001b[0m \u001b[0mfunc\u001b[0m\u001b[0;34m(\u001b[0m\u001b[0mleft\u001b[0m\u001b[0;34m,\u001b[0m \u001b[0mright\u001b[0m\u001b[0;34m)\u001b[0m\u001b[0;34m\u001b[0m\u001b[0;34m\u001b[0m\u001b[0m\n\u001b[0m\u001b[1;32m    167\u001b[0m     \u001b[0;32mexcept\u001b[0m \u001b[0mTypeError\u001b[0m\u001b[0;34m:\u001b[0m\u001b[0;34m\u001b[0m\u001b[0;34m\u001b[0m\u001b[0m\n",
      "\u001b[0;32m/usr/local/lib/python3.7/site-packages/pandas/core/computation/expressions.py\u001b[0m in \u001b[0;36mevaluate\u001b[0;34m(op, a, b, use_numexpr)\u001b[0m\n\u001b[1;32m    238\u001b[0m             \u001b[0;31m# error: \"None\" not callable\u001b[0m\u001b[0;34m\u001b[0m\u001b[0;34m\u001b[0m\u001b[0;34m\u001b[0m\u001b[0m\n\u001b[0;32m--> 239\u001b[0;31m             \u001b[0;32mreturn\u001b[0m \u001b[0m_evaluate\u001b[0m\u001b[0;34m(\u001b[0m\u001b[0mop\u001b[0m\u001b[0;34m,\u001b[0m \u001b[0mop_str\u001b[0m\u001b[0;34m,\u001b[0m \u001b[0ma\u001b[0m\u001b[0;34m,\u001b[0m \u001b[0mb\u001b[0m\u001b[0;34m)\u001b[0m  \u001b[0;31m# type: ignore[misc]\u001b[0m\u001b[0;34m\u001b[0m\u001b[0;34m\u001b[0m\u001b[0m\n\u001b[0m\u001b[1;32m    240\u001b[0m     \u001b[0;32mreturn\u001b[0m \u001b[0m_evaluate_standard\u001b[0m\u001b[0;34m(\u001b[0m\u001b[0mop\u001b[0m\u001b[0;34m,\u001b[0m \u001b[0mop_str\u001b[0m\u001b[0;34m,\u001b[0m \u001b[0ma\u001b[0m\u001b[0;34m,\u001b[0m \u001b[0mb\u001b[0m\u001b[0;34m)\u001b[0m\u001b[0;34m\u001b[0m\u001b[0;34m\u001b[0m\u001b[0m\n",
      "\u001b[0;32m/usr/local/lib/python3.7/site-packages/pandas/core/computation/expressions.py\u001b[0m in \u001b[0;36m_evaluate_standard\u001b[0;34m(op, op_str, a, b)\u001b[0m\n\u001b[1;32m     68\u001b[0m         \u001b[0m_store_test_result\u001b[0m\u001b[0;34m(\u001b[0m\u001b[0;32mFalse\u001b[0m\u001b[0;34m)\u001b[0m\u001b[0;34m\u001b[0m\u001b[0;34m\u001b[0m\u001b[0m\n\u001b[0;32m---> 69\u001b[0;31m     \u001b[0;32mreturn\u001b[0m \u001b[0mop\u001b[0m\u001b[0;34m(\u001b[0m\u001b[0ma\u001b[0m\u001b[0;34m,\u001b[0m \u001b[0mb\u001b[0m\u001b[0;34m)\u001b[0m\u001b[0;34m\u001b[0m\u001b[0;34m\u001b[0m\u001b[0m\n\u001b[0m\u001b[1;32m     70\u001b[0m \u001b[0;34m\u001b[0m\u001b[0m\n",
      "\u001b[0;31mTypeError\u001b[0m: can only concatenate str (not \"int\") to str",
      "\nDuring handling of the above exception, another exception occurred:\n",
      "\u001b[0;31mTypeError\u001b[0m                                 Traceback (most recent call last)",
      "\u001b[0;32m/tmp/ipykernel_9582/2423259065.py\u001b[0m in \u001b[0;36m<module>\u001b[0;34m\u001b[0m\n\u001b[1;32m      1\u001b[0m \u001b[0;31m# 文字列のSeriesに四則演算するとエラーになる\u001b[0m\u001b[0;34m\u001b[0m\u001b[0;34m\u001b[0m\u001b[0;34m\u001b[0m\u001b[0m\n\u001b[1;32m      2\u001b[0m \u001b[0ms5\u001b[0m \u001b[0;34m=\u001b[0m \u001b[0mpd\u001b[0m\u001b[0;34m.\u001b[0m\u001b[0mSeries\u001b[0m\u001b[0;34m(\u001b[0m\u001b[0;34m[\u001b[0m\u001b[0;34m'test'\u001b[0m\u001b[0;34m]\u001b[0m\u001b[0;34m)\u001b[0m\u001b[0;34m\u001b[0m\u001b[0;34m\u001b[0m\u001b[0m\n\u001b[0;32m----> 3\u001b[0;31m \u001b[0ms5\u001b[0m \u001b[0;34m+\u001b[0m \u001b[0;36m2\u001b[0m\u001b[0;34m\u001b[0m\u001b[0;34m\u001b[0m\u001b[0m\n\u001b[0m",
      "\u001b[0;32m/usr/local/lib/python3.7/site-packages/pandas/core/ops/common.py\u001b[0m in \u001b[0;36mnew_method\u001b[0;34m(self, other)\u001b[0m\n\u001b[1;32m     67\u001b[0m         \u001b[0mother\u001b[0m \u001b[0;34m=\u001b[0m \u001b[0mitem_from_zerodim\u001b[0m\u001b[0;34m(\u001b[0m\u001b[0mother\u001b[0m\u001b[0;34m)\u001b[0m\u001b[0;34m\u001b[0m\u001b[0;34m\u001b[0m\u001b[0m\n\u001b[1;32m     68\u001b[0m \u001b[0;34m\u001b[0m\u001b[0m\n\u001b[0;32m---> 69\u001b[0;31m         \u001b[0;32mreturn\u001b[0m \u001b[0mmethod\u001b[0m\u001b[0;34m(\u001b[0m\u001b[0mself\u001b[0m\u001b[0;34m,\u001b[0m \u001b[0mother\u001b[0m\u001b[0;34m)\u001b[0m\u001b[0;34m\u001b[0m\u001b[0;34m\u001b[0m\u001b[0m\n\u001b[0m\u001b[1;32m     70\u001b[0m \u001b[0;34m\u001b[0m\u001b[0m\n\u001b[1;32m     71\u001b[0m     \u001b[0;32mreturn\u001b[0m \u001b[0mnew_method\u001b[0m\u001b[0;34m\u001b[0m\u001b[0;34m\u001b[0m\u001b[0m\n",
      "\u001b[0;32m/usr/local/lib/python3.7/site-packages/pandas/core/arraylike.py\u001b[0m in \u001b[0;36m__add__\u001b[0;34m(self, other)\u001b[0m\n\u001b[1;32m     90\u001b[0m     \u001b[0;34m@\u001b[0m\u001b[0munpack_zerodim_and_defer\u001b[0m\u001b[0;34m(\u001b[0m\u001b[0;34m\"__add__\"\u001b[0m\u001b[0;34m)\u001b[0m\u001b[0;34m\u001b[0m\u001b[0;34m\u001b[0m\u001b[0m\n\u001b[1;32m     91\u001b[0m     \u001b[0;32mdef\u001b[0m \u001b[0m__add__\u001b[0m\u001b[0;34m(\u001b[0m\u001b[0mself\u001b[0m\u001b[0;34m,\u001b[0m \u001b[0mother\u001b[0m\u001b[0;34m)\u001b[0m\u001b[0;34m:\u001b[0m\u001b[0;34m\u001b[0m\u001b[0;34m\u001b[0m\u001b[0m\n\u001b[0;32m---> 92\u001b[0;31m         \u001b[0;32mreturn\u001b[0m \u001b[0mself\u001b[0m\u001b[0;34m.\u001b[0m\u001b[0m_arith_method\u001b[0m\u001b[0;34m(\u001b[0m\u001b[0mother\u001b[0m\u001b[0;34m,\u001b[0m \u001b[0moperator\u001b[0m\u001b[0;34m.\u001b[0m\u001b[0madd\u001b[0m\u001b[0;34m)\u001b[0m\u001b[0;34m\u001b[0m\u001b[0;34m\u001b[0m\u001b[0m\n\u001b[0m\u001b[1;32m     93\u001b[0m \u001b[0;34m\u001b[0m\u001b[0m\n\u001b[1;32m     94\u001b[0m     \u001b[0;34m@\u001b[0m\u001b[0munpack_zerodim_and_defer\u001b[0m\u001b[0;34m(\u001b[0m\u001b[0;34m\"__radd__\"\u001b[0m\u001b[0;34m)\u001b[0m\u001b[0;34m\u001b[0m\u001b[0;34m\u001b[0m\u001b[0m\n",
      "\u001b[0;32m/usr/local/lib/python3.7/site-packages/pandas/core/series.py\u001b[0m in \u001b[0;36m_arith_method\u001b[0;34m(self, other, op)\u001b[0m\n\u001b[1;32m   5524\u001b[0m \u001b[0;34m\u001b[0m\u001b[0m\n\u001b[1;32m   5525\u001b[0m         \u001b[0;32mwith\u001b[0m \u001b[0mnp\u001b[0m\u001b[0;34m.\u001b[0m\u001b[0merrstate\u001b[0m\u001b[0;34m(\u001b[0m\u001b[0mall\u001b[0m\u001b[0;34m=\u001b[0m\u001b[0;34m\"ignore\"\u001b[0m\u001b[0;34m)\u001b[0m\u001b[0;34m:\u001b[0m\u001b[0;34m\u001b[0m\u001b[0;34m\u001b[0m\u001b[0m\n\u001b[0;32m-> 5526\u001b[0;31m             \u001b[0mresult\u001b[0m \u001b[0;34m=\u001b[0m \u001b[0mops\u001b[0m\u001b[0;34m.\u001b[0m\u001b[0marithmetic_op\u001b[0m\u001b[0;34m(\u001b[0m\u001b[0mlvalues\u001b[0m\u001b[0;34m,\u001b[0m \u001b[0mrvalues\u001b[0m\u001b[0;34m,\u001b[0m \u001b[0mop\u001b[0m\u001b[0;34m)\u001b[0m\u001b[0;34m\u001b[0m\u001b[0;34m\u001b[0m\u001b[0m\n\u001b[0m\u001b[1;32m   5527\u001b[0m \u001b[0;34m\u001b[0m\u001b[0m\n\u001b[1;32m   5528\u001b[0m         \u001b[0;32mreturn\u001b[0m \u001b[0mself\u001b[0m\u001b[0;34m.\u001b[0m\u001b[0m_construct_result\u001b[0m\u001b[0;34m(\u001b[0m\u001b[0mresult\u001b[0m\u001b[0;34m,\u001b[0m \u001b[0mname\u001b[0m\u001b[0;34m=\u001b[0m\u001b[0mres_name\u001b[0m\u001b[0;34m)\u001b[0m\u001b[0;34m\u001b[0m\u001b[0;34m\u001b[0m\u001b[0m\n",
      "\u001b[0;32m/usr/local/lib/python3.7/site-packages/pandas/core/ops/array_ops.py\u001b[0m in \u001b[0;36marithmetic_op\u001b[0;34m(left, right, op)\u001b[0m\n\u001b[1;32m    222\u001b[0m         \u001b[0m_bool_arith_check\u001b[0m\u001b[0;34m(\u001b[0m\u001b[0mop\u001b[0m\u001b[0;34m,\u001b[0m \u001b[0mleft\u001b[0m\u001b[0;34m,\u001b[0m \u001b[0mright\u001b[0m\u001b[0;34m)\u001b[0m\u001b[0;34m\u001b[0m\u001b[0;34m\u001b[0m\u001b[0m\n\u001b[1;32m    223\u001b[0m \u001b[0;34m\u001b[0m\u001b[0m\n\u001b[0;32m--> 224\u001b[0;31m         \u001b[0mres_values\u001b[0m \u001b[0;34m=\u001b[0m \u001b[0m_na_arithmetic_op\u001b[0m\u001b[0;34m(\u001b[0m\u001b[0mleft\u001b[0m\u001b[0;34m,\u001b[0m \u001b[0mright\u001b[0m\u001b[0;34m,\u001b[0m \u001b[0mop\u001b[0m\u001b[0;34m)\u001b[0m\u001b[0;34m\u001b[0m\u001b[0;34m\u001b[0m\u001b[0m\n\u001b[0m\u001b[1;32m    225\u001b[0m \u001b[0;34m\u001b[0m\u001b[0m\n\u001b[1;32m    226\u001b[0m     \u001b[0;32mreturn\u001b[0m \u001b[0mres_values\u001b[0m\u001b[0;34m\u001b[0m\u001b[0;34m\u001b[0m\u001b[0m\n",
      "\u001b[0;32m/usr/local/lib/python3.7/site-packages/pandas/core/ops/array_ops.py\u001b[0m in \u001b[0;36m_na_arithmetic_op\u001b[0;34m(left, right, op, is_cmp)\u001b[0m\n\u001b[1;32m    171\u001b[0m             \u001b[0;31m# Don't do this for comparisons, as that will handle complex numbers\u001b[0m\u001b[0;34m\u001b[0m\u001b[0;34m\u001b[0m\u001b[0;34m\u001b[0m\u001b[0m\n\u001b[1;32m    172\u001b[0m             \u001b[0;31m#  incorrectly, see GH#32047\u001b[0m\u001b[0;34m\u001b[0m\u001b[0;34m\u001b[0m\u001b[0;34m\u001b[0m\u001b[0m\n\u001b[0;32m--> 173\u001b[0;31m             \u001b[0mresult\u001b[0m \u001b[0;34m=\u001b[0m \u001b[0m_masked_arith_op\u001b[0m\u001b[0;34m(\u001b[0m\u001b[0mleft\u001b[0m\u001b[0;34m,\u001b[0m \u001b[0mright\u001b[0m\u001b[0;34m,\u001b[0m \u001b[0mop\u001b[0m\u001b[0;34m)\u001b[0m\u001b[0;34m\u001b[0m\u001b[0;34m\u001b[0m\u001b[0m\n\u001b[0m\u001b[1;32m    174\u001b[0m         \u001b[0;32melse\u001b[0m\u001b[0;34m:\u001b[0m\u001b[0;34m\u001b[0m\u001b[0;34m\u001b[0m\u001b[0m\n\u001b[1;32m    175\u001b[0m             \u001b[0;32mraise\u001b[0m\u001b[0;34m\u001b[0m\u001b[0;34m\u001b[0m\u001b[0m\n",
      "\u001b[0;32m/usr/local/lib/python3.7/site-packages/pandas/core/ops/array_ops.py\u001b[0m in \u001b[0;36m_masked_arith_op\u001b[0;34m(x, y, op)\u001b[0m\n\u001b[1;32m    129\u001b[0m \u001b[0;34m\u001b[0m\u001b[0m\n\u001b[1;32m    130\u001b[0m         \u001b[0;32mif\u001b[0m \u001b[0mmask\u001b[0m\u001b[0;34m.\u001b[0m\u001b[0many\u001b[0m\u001b[0;34m(\u001b[0m\u001b[0;34m)\u001b[0m\u001b[0;34m:\u001b[0m\u001b[0;34m\u001b[0m\u001b[0;34m\u001b[0m\u001b[0m\n\u001b[0;32m--> 131\u001b[0;31m             \u001b[0mresult\u001b[0m\u001b[0;34m[\u001b[0m\u001b[0mmask\u001b[0m\u001b[0;34m]\u001b[0m \u001b[0;34m=\u001b[0m \u001b[0mop\u001b[0m\u001b[0;34m(\u001b[0m\u001b[0mxrav\u001b[0m\u001b[0;34m[\u001b[0m\u001b[0mmask\u001b[0m\u001b[0;34m]\u001b[0m\u001b[0;34m,\u001b[0m \u001b[0my\u001b[0m\u001b[0;34m)\u001b[0m\u001b[0;34m\u001b[0m\u001b[0;34m\u001b[0m\u001b[0m\n\u001b[0m\u001b[1;32m    132\u001b[0m \u001b[0;34m\u001b[0m\u001b[0m\n\u001b[1;32m    133\u001b[0m     \u001b[0mnp\u001b[0m\u001b[0;34m.\u001b[0m\u001b[0mputmask\u001b[0m\u001b[0;34m(\u001b[0m\u001b[0mresult\u001b[0m\u001b[0;34m,\u001b[0m \u001b[0;34m~\u001b[0m\u001b[0mmask\u001b[0m\u001b[0;34m,\u001b[0m \u001b[0mnp\u001b[0m\u001b[0;34m.\u001b[0m\u001b[0mnan\u001b[0m\u001b[0;34m)\u001b[0m\u001b[0;34m\u001b[0m\u001b[0;34m\u001b[0m\u001b[0m\n",
      "\u001b[0;31mTypeError\u001b[0m: can only concatenate str (not \"int\") to str"
     ]
    }
   ],
   "source": [
    "# 文字列のSeriesに四則演算するとエラーになる\n",
    "s5 = pd.Series(['test'])\n",
    "s5 + 2\n"
   ]
  },
  {
   "cell_type": "markdown",
   "id": "f7879822-65ea-48f6-aa87-3f0c16ed0b1e",
   "metadata": {},
   "source": [
    "### Series同士の足し算\n",
    "Series同士に同じindex名があるとできる"
   ]
  },
  {
   "cell_type": "code",
   "execution_count": 64,
   "id": "b805eb7f-e401-4d7c-80d9-7642b1e29a87",
   "metadata": {},
   "outputs": [
    {
     "data": {
      "text/plain": [
       "0    1\n",
       "1    3\n",
       "2    5\n",
       "3    7\n",
       "4    9\n",
       "dtype: int64"
      ]
     },
     "execution_count": 64,
     "metadata": {},
     "output_type": "execute_result"
    }
   ],
   "source": [
    "s2"
   ]
  },
  {
   "cell_type": "code",
   "execution_count": 66,
   "id": "53698024-bbd8-430c-aabe-5cacce6e51c4",
   "metadata": {},
   "outputs": [
    {
     "data": {
      "text/plain": [
       "suzuki       1\n",
       "takahashi    3\n",
       "tanaka       5\n",
       "ito          7\n",
       "watanabe     9\n",
       "dtype: int64"
      ]
     },
     "execution_count": 66,
     "metadata": {},
     "output_type": "execute_result"
    }
   ],
   "source": [
    "s2.index = ['suzuki', 'takahashi', 'tanaka', 'ito', 'watanabe']\n",
    "s2"
   ]
  },
  {
   "cell_type": "code",
   "execution_count": 67,
   "id": "2fa11c7b-4149-4744-8c19-cb749d9041c0",
   "metadata": {},
   "outputs": [
    {
     "data": {
      "text/plain": [
       "member\n",
       "sato         90\n",
       "suzuki       78\n",
       "takahashi    65\n",
       "tanaka       87\n",
       "ito          72\n",
       "Name: score, dtype: int64"
      ]
     },
     "execution_count": 67,
     "metadata": {},
     "output_type": "execute_result"
    }
   ],
   "source": [
    "s1"
   ]
  },
  {
   "cell_type": "code",
   "execution_count": 68,
   "id": "b92dce35-4520-4910-b2b8-5ca50ff96a43",
   "metadata": {},
   "outputs": [
    {
     "data": {
      "text/plain": [
       "ito          79.0\n",
       "sato          NaN\n",
       "suzuki       79.0\n",
       "takahashi    68.0\n",
       "tanaka       92.0\n",
       "watanabe      NaN\n",
       "dtype: float64"
      ]
     },
     "execution_count": 68,
     "metadata": {},
     "output_type": "execute_result"
    }
   ],
   "source": [
    "s1 + s2"
   ]
  },
  {
   "cell_type": "code",
   "execution_count": 69,
   "id": "0704700f-d8f0-43cb-b15c-a46174dffe10",
   "metadata": {},
   "outputs": [
    {
     "data": {
      "text/plain": [
       "member\n",
       "sato         90\n",
       "suzuki       78\n",
       "takahashi    65\n",
       "tanaka       87\n",
       "ito          72\n",
       "Name: score, dtype: int64"
      ]
     },
     "execution_count": 69,
     "metadata": {},
     "output_type": "execute_result"
    }
   ],
   "source": [
    "s1"
   ]
  },
  {
   "cell_type": "code",
   "execution_count": 70,
   "id": "7396b025-83f2-4ac6-b8d9-9d35a5883495",
   "metadata": {},
   "outputs": [
    {
     "data": {
      "text/plain": [
       "False"
      ]
     },
     "execution_count": 70,
     "metadata": {},
     "output_type": "execute_result"
    }
   ],
   "source": [
    "# 欠損値があるか調べる\n",
    "s1.hasnans"
   ]
  },
  {
   "cell_type": "code",
   "execution_count": 72,
   "id": "b618b998-eac3-4145-a309-03408d0d2c23",
   "metadata": {},
   "outputs": [
    {
     "data": {
      "text/plain": [
       "0    90.0\n",
       "1    78.0\n",
       "2    65.0\n",
       "3     NaN\n",
       "4    72.0\n",
       "dtype: float64"
      ]
     },
     "execution_count": 72,
     "metadata": {},
     "output_type": "execute_result"
    }
   ],
   "source": [
    "s4 = pd.Series([90, 78, 65, None, 72]) \n",
    "s4"
   ]
  },
  {
   "cell_type": "code",
   "execution_count": 74,
   "id": "2505770d-11f3-4166-a515-003b63c90835",
   "metadata": {},
   "outputs": [
    {
     "data": {
      "text/plain": [
       "True"
      ]
     },
     "execution_count": 74,
     "metadata": {},
     "output_type": "execute_result"
    }
   ],
   "source": [
    "# 欠損値があるとtrue\n",
    "s4.hasnans"
   ]
  },
  {
   "cell_type": "code",
   "execution_count": 77,
   "id": "ccd676e9-fb65-4bc1-8bc9-c98331e03f77",
   "metadata": {},
   "outputs": [
    {
     "data": {
      "text/plain": [
       "0    False\n",
       "1    False\n",
       "2    False\n",
       "3     True\n",
       "4    False\n",
       "dtype: bool"
      ]
     },
     "execution_count": 77,
     "metadata": {},
     "output_type": "execute_result"
    }
   ],
   "source": [
    "# どこの値がnanなのか確認\n",
    "pd.isnull(s4)"
   ]
  },
  {
   "cell_type": "markdown",
   "id": "ea063b20-cd34-4d24-bd03-a863971168f2",
   "metadata": {},
   "source": [
    "## DataFrameを使ってSeriesの関係を調べる"
   ]
  },
  {
   "cell_type": "code",
   "execution_count": 79,
   "id": "cefc942b-13a5-4135-b217-3d9efcff3244",
   "metadata": {},
   "outputs": [
    {
     "data": {
      "text/html": [
       "<div>\n",
       "<style scoped>\n",
       "    .dataframe tbody tr th:only-of-type {\n",
       "        vertical-align: middle;\n",
       "    }\n",
       "\n",
       "    .dataframe tbody tr th {\n",
       "        vertical-align: top;\n",
       "    }\n",
       "\n",
       "    .dataframe thead th {\n",
       "        text-align: right;\n",
       "    }\n",
       "</style>\n",
       "<table border=\"1\" class=\"dataframe\">\n",
       "  <thead>\n",
       "    <tr style=\"text-align: right;\">\n",
       "      <th></th>\n",
       "      <th>col01</th>\n",
       "      <th>col02</th>\n",
       "      <th>col03</th>\n",
       "    </tr>\n",
       "  </thead>\n",
       "  <tbody>\n",
       "    <tr>\n",
       "      <th>idx01</th>\n",
       "      <td>1</td>\n",
       "      <td>2</td>\n",
       "      <td>3</td>\n",
       "    </tr>\n",
       "    <tr>\n",
       "      <th>idx02</th>\n",
       "      <td>4</td>\n",
       "      <td>5</td>\n",
       "      <td>6</td>\n",
       "    </tr>\n",
       "    <tr>\n",
       "      <th>idx03</th>\n",
       "      <td>7</td>\n",
       "      <td>8</td>\n",
       "      <td>9</td>\n",
       "    </tr>\n",
       "  </tbody>\n",
       "</table>\n",
       "</div>"
      ],
      "text/plain": [
       "       col01  col02  col03\n",
       "idx01      1      2      3\n",
       "idx02      4      5      6\n",
       "idx03      7      8      9"
      ]
     },
     "execution_count": 79,
     "metadata": {},
     "output_type": "execute_result"
    }
   ],
   "source": [
    "df = pd.DataFrame([[1,2,3], [4,5,6],[7,8,9]],\n",
    "                 columns=['col01', 'col02', 'col03'],\n",
    "                 index=['idx01', 'idx02', 'idx03'])\n",
    "df"
   ]
  },
  {
   "cell_type": "code",
   "execution_count": 84,
   "id": "d8567bf3-7c8a-4221-944f-8c31ec6d0962",
   "metadata": {},
   "outputs": [
    {
     "data": {
      "text/plain": [
       "idx01    1\n",
       "idx02    4\n",
       "idx03    7\n",
       "Name: col01, dtype: int64"
      ]
     },
     "execution_count": 84,
     "metadata": {},
     "output_type": "execute_result"
    }
   ],
   "source": [
    "# DataFrameからSeries取得\n",
    "df['col01']"
   ]
  },
  {
   "cell_type": "code",
   "execution_count": 85,
   "id": "50d95c61-9dfd-43ae-98e5-16b107654c62",
   "metadata": {},
   "outputs": [
    {
     "data": {
      "text/plain": [
       "pandas.core.series.Series"
      ]
     },
     "execution_count": 85,
     "metadata": {},
     "output_type": "execute_result"
    }
   ],
   "source": [
    "# データ型を確認\n",
    "type(df['col01'])"
   ]
  },
  {
   "cell_type": "code",
   "execution_count": 87,
   "id": "8c05d5c6-d09b-40a8-b443-df99659c54ec",
   "metadata": {},
   "outputs": [
    {
     "data": {
      "text/plain": [
       "idx01    10\n",
       "idx02    11\n",
       "idx03    12\n",
       "dtype: int64"
      ]
     },
     "execution_count": 87,
     "metadata": {},
     "output_type": "execute_result"
    }
   ],
   "source": [
    "# DataFrameにSeriesを追加\n",
    "s5 = pd.Series({'idx01':10, 'idx02':11, 'idx03':12})\n",
    "s5"
   ]
  },
  {
   "cell_type": "code",
   "execution_count": 88,
   "id": "8e58b3c8-900f-483f-99e8-59de0cdb9238",
   "metadata": {},
   "outputs": [
    {
     "data": {
      "text/html": [
       "<div>\n",
       "<style scoped>\n",
       "    .dataframe tbody tr th:only-of-type {\n",
       "        vertical-align: middle;\n",
       "    }\n",
       "\n",
       "    .dataframe tbody tr th {\n",
       "        vertical-align: top;\n",
       "    }\n",
       "\n",
       "    .dataframe thead th {\n",
       "        text-align: right;\n",
       "    }\n",
       "</style>\n",
       "<table border=\"1\" class=\"dataframe\">\n",
       "  <thead>\n",
       "    <tr style=\"text-align: right;\">\n",
       "      <th></th>\n",
       "      <th>col01</th>\n",
       "      <th>col02</th>\n",
       "      <th>col03</th>\n",
       "      <th>col04</th>\n",
       "    </tr>\n",
       "  </thead>\n",
       "  <tbody>\n",
       "    <tr>\n",
       "      <th>idx01</th>\n",
       "      <td>1</td>\n",
       "      <td>2</td>\n",
       "      <td>3</td>\n",
       "      <td>10</td>\n",
       "    </tr>\n",
       "    <tr>\n",
       "      <th>idx02</th>\n",
       "      <td>4</td>\n",
       "      <td>5</td>\n",
       "      <td>6</td>\n",
       "      <td>11</td>\n",
       "    </tr>\n",
       "    <tr>\n",
       "      <th>idx03</th>\n",
       "      <td>7</td>\n",
       "      <td>8</td>\n",
       "      <td>9</td>\n",
       "      <td>12</td>\n",
       "    </tr>\n",
       "  </tbody>\n",
       "</table>\n",
       "</div>"
      ],
      "text/plain": [
       "       col01  col02  col03  col04\n",
       "idx01      1      2      3     10\n",
       "idx02      4      5      6     11\n",
       "idx03      7      8      9     12"
      ]
     },
     "execution_count": 88,
     "metadata": {},
     "output_type": "execute_result"
    }
   ],
   "source": [
    "df['col04'] = s5\n",
    "df"
   ]
  },
  {
   "cell_type": "code",
   "execution_count": 93,
   "id": "956c3c22-8e13-42a6-ac1e-273d7dba60b3",
   "metadata": {},
   "outputs": [
    {
     "data": {
      "text/plain": [
       "idx03    13\n",
       "idx04    14\n",
       "idx05    15\n",
       "dtype: int64"
      ]
     },
     "execution_count": 93,
     "metadata": {},
     "output_type": "execute_result"
    }
   ],
   "source": [
    "# index名をあえて違った場合はどうなるか\n",
    "s6 = pd.Series({'idx03':13, 'idx04':14, 'idx05':15})\n",
    "s6"
   ]
  },
  {
   "cell_type": "code",
   "execution_count": 94,
   "id": "e37984c9-449b-47dd-873d-6848573dc1da",
   "metadata": {},
   "outputs": [
    {
     "data": {
      "text/html": [
       "<div>\n",
       "<style scoped>\n",
       "    .dataframe tbody tr th:only-of-type {\n",
       "        vertical-align: middle;\n",
       "    }\n",
       "\n",
       "    .dataframe tbody tr th {\n",
       "        vertical-align: top;\n",
       "    }\n",
       "\n",
       "    .dataframe thead th {\n",
       "        text-align: right;\n",
       "    }\n",
       "</style>\n",
       "<table border=\"1\" class=\"dataframe\">\n",
       "  <thead>\n",
       "    <tr style=\"text-align: right;\">\n",
       "      <th></th>\n",
       "      <th>col01</th>\n",
       "      <th>col02</th>\n",
       "      <th>col03</th>\n",
       "      <th>col04</th>\n",
       "      <th>col05</th>\n",
       "    </tr>\n",
       "  </thead>\n",
       "  <tbody>\n",
       "    <tr>\n",
       "      <th>idx01</th>\n",
       "      <td>1</td>\n",
       "      <td>2</td>\n",
       "      <td>3</td>\n",
       "      <td>10</td>\n",
       "      <td>NaN</td>\n",
       "    </tr>\n",
       "    <tr>\n",
       "      <th>idx02</th>\n",
       "      <td>4</td>\n",
       "      <td>5</td>\n",
       "      <td>6</td>\n",
       "      <td>11</td>\n",
       "      <td>NaN</td>\n",
       "    </tr>\n",
       "    <tr>\n",
       "      <th>idx03</th>\n",
       "      <td>7</td>\n",
       "      <td>8</td>\n",
       "      <td>9</td>\n",
       "      <td>12</td>\n",
       "      <td>13.0</td>\n",
       "    </tr>\n",
       "  </tbody>\n",
       "</table>\n",
       "</div>"
      ],
      "text/plain": [
       "       col01  col02  col03  col04  col05\n",
       "idx01      1      2      3     10    NaN\n",
       "idx02      4      5      6     11    NaN\n",
       "idx03      7      8      9     12   13.0"
      ]
     },
     "execution_count": 94,
     "metadata": {},
     "output_type": "execute_result"
    }
   ],
   "source": [
    "df['col05'] = s6\n",
    "df"
   ]
  },
  {
   "cell_type": "markdown",
   "id": "a354934d-6353-4bae-b21c-0a25efe12d89",
   "metadata": {},
   "source": [
    "### 時系列データ"
   ]
  },
  {
   "cell_type": "code",
   "execution_count": 99,
   "id": "9d2cb508-6699-4ab4-ba04-1024765b0875",
   "metadata": {},
   "outputs": [
    {
     "data": {
      "text/plain": [
       "DatetimeIndex(['2000-01-01', '2000-01-02', '2000-01-03', '2000-01-04',\n",
       "               '2000-01-05'],\n",
       "              dtype='datetime64[ns]', freq='D')"
      ]
     },
     "execution_count": 99,
     "metadata": {},
     "output_type": "execute_result"
    }
   ],
   "source": [
    "dates = pd.date_range('2000/01/01', periods = 5, freq = 'D')\n",
    "dates"
   ]
  },
  {
   "cell_type": "code",
   "execution_count": 100,
   "id": "b08a48a9-175d-4a4c-aac7-89028548ad74",
   "metadata": {},
   "outputs": [
    {
     "data": {
      "text/plain": [
       "pandas.core.indexes.datetimes.DatetimeIndex"
      ]
     },
     "execution_count": 100,
     "metadata": {},
     "output_type": "execute_result"
    }
   ],
   "source": [
    "type(dates)"
   ]
  },
  {
   "cell_type": "code",
   "execution_count": 101,
   "id": "91091cb9-6cf9-4adb-918b-dfd0f8f38939",
   "metadata": {},
   "outputs": [
    {
     "data": {
      "text/plain": [
       "member\n",
       "sato         90\n",
       "suzuki       78\n",
       "takahashi    65\n",
       "tanaka       87\n",
       "ito          72\n",
       "Name: score, dtype: int64"
      ]
     },
     "execution_count": 101,
     "metadata": {},
     "output_type": "execute_result"
    }
   ],
   "source": [
    "s1"
   ]
  },
  {
   "cell_type": "code",
   "execution_count": 105,
   "id": "b8170bcd-3ade-4cf3-a22d-3f87f9214fdf",
   "metadata": {},
   "outputs": [
    {
     "data": {
      "text/plain": [
       "2000-01-01    90\n",
       "2000-01-02    78\n",
       "2000-01-03    65\n",
       "2000-01-04    87\n",
       "2000-01-05    72\n",
       "Freq: D, Name: score, dtype: int64"
      ]
     },
     "execution_count": 105,
     "metadata": {},
     "output_type": "execute_result"
    }
   ],
   "source": [
    "# インデックスを時系列データに変更\n",
    "s1.index = dates\n",
    "s1"
   ]
  },
  {
   "cell_type": "markdown",
   "id": "5822906c-4212-4599-a279-8596cd5f0de3",
   "metadata": {},
   "source": [
    "インデックスが時系列データになると特殊な集計ができるようになります\n"
   ]
  },
  {
   "cell_type": "markdown",
   "id": "bea3d447-eba1-48aa-948c-17316bc6b59f",
   "metadata": {},
   "source": [
    "## 確認問題"
   ]
  },
  {
   "cell_type": "code",
   "execution_count": 108,
   "id": "8487c431-b5c7-4fcf-9587-edcaf68d4125",
   "metadata": {},
   "outputs": [
    {
     "data": {
      "text/html": [
       "<div>\n",
       "<style scoped>\n",
       "    .dataframe tbody tr th:only-of-type {\n",
       "        vertical-align: middle;\n",
       "    }\n",
       "\n",
       "    .dataframe tbody tr th {\n",
       "        vertical-align: top;\n",
       "    }\n",
       "\n",
       "    .dataframe thead th {\n",
       "        text-align: right;\n",
       "    }\n",
       "</style>\n",
       "<table border=\"1\" class=\"dataframe\">\n",
       "  <thead>\n",
       "    <tr style=\"text-align: right;\">\n",
       "      <th></th>\n",
       "      <th>English</th>\n",
       "      <th>Math</th>\n",
       "    </tr>\n",
       "  </thead>\n",
       "  <tbody>\n",
       "    <tr>\n",
       "      <th>sato</th>\n",
       "      <td>90</td>\n",
       "      <td>75</td>\n",
       "    </tr>\n",
       "    <tr>\n",
       "      <th>ito</th>\n",
       "      <td>60</td>\n",
       "      <td>95</td>\n",
       "    </tr>\n",
       "  </tbody>\n",
       "</table>\n",
       "</div>"
      ],
      "text/plain": [
       "      English  Math\n",
       "sato       90    75\n",
       "ito        60    95"
      ]
     },
     "execution_count": 108,
     "metadata": {},
     "output_type": "execute_result"
    }
   ],
   "source": [
    "name = ['sato', 'ito']\n",
    "score = [90, 80]\n",
    "dict01 = {'ito': 50, 'suzuki': None}\n",
    "df = pd.DataFrame([[90, 75], [60, 95]],\n",
    "                  index = ['sato', 'ito'],\n",
    "                  columns = ['English', 'Math'])\n",
    "\n",
    "df"
   ]
  },
  {
   "cell_type": "code",
   "execution_count": 147,
   "id": "d527fe2c-070b-4177-afa0-4aacda798d8e",
   "metadata": {},
   "outputs": [
    {
     "data": {
      "text/plain": [
       "sato    90\n",
       "ito     80\n",
       "dtype: int64"
      ]
     },
     "execution_count": 147,
     "metadata": {},
     "output_type": "execute_result"
    }
   ],
   "source": [
    "# 1.リスト型の変数を使ってSeriesを作成\n",
    "s1 = pd.Series(score)\n",
    "s1\n",
    "s1.index = name\n",
    "s1\n",
    "\n",
    "# 短く書くなら\n",
    "# s_list = pd.Series(score, name)\n",
    "# s_list "
   ]
  },
  {
   "cell_type": "code",
   "execution_count": 148,
   "id": "98e18313-9370-4994-bf77-439cb358c465",
   "metadata": {},
   "outputs": [
    {
     "data": {
      "text/plain": [
       "ito       50.0\n",
       "suzuki     NaN\n",
       "dtype: float64"
      ]
     },
     "execution_count": 148,
     "metadata": {},
     "output_type": "execute_result"
    }
   ],
   "source": [
    "# 2辞書型の変数を使ってSeries作成\n",
    "s2 = pd.Series(dict01)\n",
    "s2"
   ]
  },
  {
   "cell_type": "code",
   "execution_count": 149,
   "id": "37ec5c05-c08b-48c5-8890-fe018fc2fd64",
   "metadata": {},
   "outputs": [
    {
     "data": {
      "text/plain": [
       "Index(['sato', 'ito'], dtype='object')"
      ]
     },
     "execution_count": 149,
     "metadata": {},
     "output_type": "execute_result"
    }
   ],
   "source": [
    "# 3.インデックス取得\n",
    "s1.index"
   ]
  },
  {
   "cell_type": "code",
   "execution_count": 150,
   "id": "3f3ad6b3-14fc-4b01-acaf-cfa21f8ca5d1",
   "metadata": {},
   "outputs": [
    {
     "data": {
      "text/plain": [
       "array([50., nan])"
      ]
     },
     "execution_count": 150,
     "metadata": {},
     "output_type": "execute_result"
    }
   ],
   "source": [
    "# 4.2つめに作成したSeriesの値を取得\n",
    "s2.values"
   ]
  },
  {
   "cell_type": "code",
   "execution_count": 151,
   "id": "12e84c6a-f50e-4ae6-8ee0-de5f883e2b86",
   "metadata": {},
   "outputs": [
    {
     "data": {
      "text/plain": [
       "sato    90\n",
       "dtype: int64"
      ]
     },
     "execution_count": 151,
     "metadata": {},
     "output_type": "execute_result"
    }
   ],
   "source": [
    "# 5.比較演算子を使って、１つ目に作ったSeriesの90点のデータを取得\n",
    "s1[s1 == 90]"
   ]
  },
  {
   "cell_type": "code",
   "execution_count": 152,
   "id": "7ec3e809-b958-44cd-9b94-01d53fc4b1f6",
   "metadata": {},
   "outputs": [
    {
     "data": {
      "text/plain": [
       "ito       False\n",
       "suzuki     True\n",
       "dtype: bool"
      ]
     },
     "execution_count": 152,
     "metadata": {},
     "output_type": "execute_result"
    }
   ],
   "source": [
    "# 6.二つ目に作成したSeriesに「Nan」があるか確認\n",
    "# s2.hasnans\n",
    "pd.isnull(s2)"
   ]
  },
  {
   "cell_type": "code",
   "execution_count": 153,
   "id": "b2b89a89-721b-450e-b33f-43fcfe0bc5ac",
   "metadata": {},
   "outputs": [
    {
     "data": {
      "text/html": [
       "<div>\n",
       "<style scoped>\n",
       "    .dataframe tbody tr th:only-of-type {\n",
       "        vertical-align: middle;\n",
       "    }\n",
       "\n",
       "    .dataframe tbody tr th {\n",
       "        vertical-align: top;\n",
       "    }\n",
       "\n",
       "    .dataframe thead th {\n",
       "        text-align: right;\n",
       "    }\n",
       "</style>\n",
       "<table border=\"1\" class=\"dataframe\">\n",
       "  <thead>\n",
       "    <tr style=\"text-align: right;\">\n",
       "      <th></th>\n",
       "      <th>English</th>\n",
       "      <th>Math</th>\n",
       "      <th>Science</th>\n",
       "    </tr>\n",
       "  </thead>\n",
       "  <tbody>\n",
       "    <tr>\n",
       "      <th>sato</th>\n",
       "      <td>90</td>\n",
       "      <td>75</td>\n",
       "      <td>90</td>\n",
       "    </tr>\n",
       "    <tr>\n",
       "      <th>ito</th>\n",
       "      <td>60</td>\n",
       "      <td>95</td>\n",
       "      <td>80</td>\n",
       "    </tr>\n",
       "  </tbody>\n",
       "</table>\n",
       "</div>"
      ],
      "text/plain": [
       "      English  Math  Science\n",
       "sato       90    75       90\n",
       "ito        60    95       80"
      ]
     },
     "execution_count": 153,
     "metadata": {},
     "output_type": "execute_result"
    }
   ],
   "source": [
    "# 7.一つ目に作成したSeriesをScienceのカラム名として、データフレームに追加\n",
    "df['Science'] = s1\n",
    "df"
   ]
  },
  {
   "cell_type": "markdown",
   "id": "79a5ee0a-c021-45c1-b26b-3467a2b7edaa",
   "metadata": {},
   "source": [
    "## 問題1\n",
    "完成イメージの通りに、下記のリストからシリーズを作成してみましょう。"
   ]
  },
  {
   "cell_type": "markdown",
   "id": "32d2c6db-fc24-4d21-8fa4-0bdf86c982e9",
   "metadata": {},
   "source": [
    "完成イメージ\n",
    "\n",
    "0    90\n",
    "1    78\n",
    "2    65\n",
    "3    87\n",
    "4    72\n",
    "dtype: int64\n"
   ]
  },
  {
   "cell_type": "code",
   "execution_count": 2,
   "id": "5c630ff1-17a3-4c0e-8697-85e17c911234",
   "metadata": {},
   "outputs": [
    {
     "data": {
      "text/plain": [
       "0    90\n",
       "1    78\n",
       "2    65\n",
       "3    87\n",
       "4    72\n",
       "dtype: int64"
      ]
     },
     "execution_count": 2,
     "metadata": {},
     "output_type": "execute_result"
    }
   ],
   "source": [
    "s1 = pd.Series([90, 78, 65, 87, 72])\n",
    "s1"
   ]
  },
  {
   "cell_type": "markdown",
   "id": "d8f959e6-21a4-4e81-884c-b571d7afc594",
   "metadata": {},
   "source": [
    "## 問題2\n",
    "下記のリストを任意の変数に代入します。\n",
    "完成イメージの通りに、リストが代入された変数を使用して、シリーズを作成してみましょう。"
   ]
  },
  {
   "cell_type": "markdown",
   "id": "b3714d0e-efc2-4c45-9466-576fba25f045",
   "metadata": {},
   "source": [
    "完成イメージ\n",
    "\n",
    "0    46\n",
    "1    98\n",
    "2    30\n",
    "3    12\n",
    "dtype: int64"
   ]
  },
  {
   "cell_type": "code",
   "execution_count": 7,
   "id": "363c849d-b358-41b7-80aa-fbb9ca4671f0",
   "metadata": {},
   "outputs": [
    {
     "data": {
      "text/plain": [
       "0    46\n",
       "1    98\n",
       "2    30\n",
       "3    12\n",
       "dtype: int64"
      ]
     },
     "execution_count": 7,
     "metadata": {},
     "output_type": "execute_result"
    }
   ],
   "source": [
    "list = [46, 98, 30, 12]\n",
    "s1 = pd.Series(list)\n",
    "s1"
   ]
  },
  {
   "cell_type": "markdown",
   "id": "ca6fbc73-0d4b-4034-a2bc-c12edeaaf784",
   "metadata": {},
   "source": [
    "## 問題3\n",
    "シリーズのデータに、NumPyライブラリのarange関数で1から9までの間隔を2とする配列を指定して、シリーズを作成してみましょう。"
   ]
  },
  {
   "cell_type": "markdown",
   "id": "e2e5e2a3-05e0-4908-8078-502714022632",
   "metadata": {},
   "source": [
    "完成イメージ\n",
    "\n",
    "0    1\n",
    "1    3\n",
    "2    5\n",
    "3    7\n",
    "4    9\n",
    "dtype: int64"
   ]
  },
  {
   "cell_type": "code",
   "execution_count": 9,
   "id": "d32de39f-e555-43f2-bf83-a2f52abde76a",
   "metadata": {},
   "outputs": [
    {
     "data": {
      "text/plain": [
       "0    1\n",
       "1    3\n",
       "2    5\n",
       "3    7\n",
       "4    9\n",
       "dtype: int64"
      ]
     },
     "execution_count": 9,
     "metadata": {},
     "output_type": "execute_result"
    }
   ],
   "source": [
    "import numpy as np\n",
    "np_data = np.arange(1, 10, 2)\n",
    "s1 = pd.Series(np_data)\n",
    "s1"
   ]
  },
  {
   "cell_type": "markdown",
   "id": "19fb1e74-60d7-4f07-8f73-8ea07d9ac76d",
   "metadata": {},
   "source": [
    "## 問題4\n",
    "\n",
    "シリーズのデータに、NumPyライブラリのlinspace関数で2から10までで要素数を5とする配列を指定して、シリーズを作成してみましょう。"
   ]
  },
  {
   "cell_type": "markdown",
   "id": "f0fda55e-128a-4c09-9611-4c27f32c76a4",
   "metadata": {},
   "source": [
    "完成イメージ\n",
    "\n",
    "\n",
    "0     2.0\n",
    "1     4.0\n",
    "2     6.0\n",
    "3     8.0\n",
    "4    10.0\n",
    "dtype: float64"
   ]
  },
  {
   "cell_type": "code",
   "execution_count": 14,
   "id": "4c8aaa69-6a67-4a5b-aa8d-0c5fb36cb04a",
   "metadata": {},
   "outputs": [
    {
     "data": {
      "text/plain": [
       "0     2.0\n",
       "1     4.0\n",
       "2     6.0\n",
       "3     8.0\n",
       "4    10.0\n",
       "dtype: float64"
      ]
     },
     "execution_count": 14,
     "metadata": {},
     "output_type": "execute_result"
    }
   ],
   "source": [
    "# 参考 https://www.headboost.jp/numpy-linspace/\n",
    "# 公式？ https://numpy.org/doc/stable/reference/generated/numpy.linspace.html\n",
    "\n",
    "np_data2 = np.linspace(2.0, 10, 5)\n",
    "s2 = pd.Series(np_data2)\n",
    "s2"
   ]
  },
  {
   "cell_type": "markdown",
   "id": "bd32b355-002a-4b91-a08b-c3d2c4f1f973",
   "metadata": {},
   "source": [
    "## 問題5\n",
    "完成イメージの通りに、下記シリーズのデータ部分のデータ型を取得してみましょう。"
   ]
  },
  {
   "cell_type": "markdown",
   "id": "ae37d143-fe98-41b5-b92a-061c4b429f9d",
   "metadata": {},
   "source": [
    "完成イメージ\n",
    "\n",
    "dtype('int64')"
   ]
  },
  {
   "cell_type": "code",
   "execution_count": 15,
   "id": "c05d15bd-86ed-426a-bec1-96bd76787f30",
   "metadata": {},
   "outputs": [],
   "source": [
    "# 使用データ\n",
    "ser = pd.Series([90, 78, 65, 87, 72])"
   ]
  },
  {
   "cell_type": "code",
   "execution_count": 17,
   "id": "8f03f865-4d5b-4b56-a8c1-e1fa6849ddbb",
   "metadata": {},
   "outputs": [
    {
     "data": {
      "text/plain": [
       "dtype('int64')"
      ]
     },
     "execution_count": 17,
     "metadata": {},
     "output_type": "execute_result"
    }
   ],
   "source": [
    "ser.dtypes"
   ]
  },
  {
   "cell_type": "markdown",
   "id": "60221fd0-125b-4551-b253-b9175ee9cd97",
   "metadata": {},
   "source": [
    "## 問題6\n",
    "NumPyライブラリのarange関数を使用して、0.1から1.3までの間隔を0.2とする配列を作成します。\n",
    "作成した配列をもとにシリーズを作成し、完成イメージの通りに、データ部分のデータ型を取得してみましょう。"
   ]
  },
  {
   "cell_type": "markdown",
   "id": "bbdc753a-28b7-4c78-ad9d-dee6a6de3116",
   "metadata": {},
   "source": [
    "完成イメージ\n",
    "\n",
    "dtype('float64')\n"
   ]
  },
  {
   "cell_type": "code",
   "execution_count": 21,
   "id": "c8fe9bab-0094-4598-907c-dbb46a073c78",
   "metadata": {},
   "outputs": [
    {
     "data": {
      "text/plain": [
       "dtype('float64')"
      ]
     },
     "execution_count": 21,
     "metadata": {},
     "output_type": "execute_result"
    }
   ],
   "source": [
    "pd.Series(np.arange(0.1, 1.5, 0.2))\n",
    "s2.dtypes"
   ]
  },
  {
   "cell_type": "markdown",
   "id": "4d2b427b-c726-4984-9017-6ed58cc2aa21",
   "metadata": {},
   "source": [
    "## 問題7\n",
    "完成イメージの通りに、下記シリーズのインデックスを取得してみましょう。"
   ]
  },
  {
   "cell_type": "markdown",
   "id": "18073856-f829-4e54-84b7-386a707a62fc",
   "metadata": {},
   "source": [
    "完成イメージ\n",
    "\n",
    "RangeIndex(start=0, stop=5, step=1)"
   ]
  },
  {
   "cell_type": "code",
   "execution_count": 22,
   "id": "1aa1588a-5344-4578-84b5-801b685b2978",
   "metadata": {},
   "outputs": [],
   "source": [
    "# 使用データ\n",
    "ser = pd.Series(np.arange(10, 20, 2))"
   ]
  },
  {
   "cell_type": "code",
   "execution_count": 24,
   "id": "fccd3f9c-114d-4f32-bfa7-acfe8775a2ea",
   "metadata": {},
   "outputs": [
    {
     "data": {
      "text/plain": [
       "RangeIndex(start=0, stop=5, step=1)"
      ]
     },
     "execution_count": 24,
     "metadata": {},
     "output_type": "execute_result"
    }
   ],
   "source": [
    "ser.index"
   ]
  },
  {
   "cell_type": "markdown",
   "id": "ff363b19-c394-4f06-a2b8-88bbb7a6dcc0",
   "metadata": {},
   "source": [
    "## 問題8\n",
    "完成イメージの通りに、下記シリーズにインデックスを設定してみましょう。"
   ]
  },
  {
   "cell_type": "markdown",
   "id": "b5fe6bab-6589-4559-8a2b-0533ef8d2936",
   "metadata": {},
   "source": [
    "完成イメージ\n",
    "\n",
    "\n",
    "Sato      90\n",
    "Yamada    78\n",
    "Suzuki    65\n",
    "Tanaka    87\n",
    "Ito       72\n",
    "dtype: int64"
   ]
  },
  {
   "cell_type": "code",
   "execution_count": 26,
   "id": "68dda7a5-cfb3-470d-ab22-1435e5be1f45",
   "metadata": {},
   "outputs": [
    {
     "data": {
      "text/plain": [
       "sato         90\n",
       "suzuki       78\n",
       "takahashi    65\n",
       "tanaka       87\n",
       "ito          72\n",
       "dtype: int64"
      ]
     },
     "execution_count": 26,
     "metadata": {},
     "output_type": "execute_result"
    }
   ],
   "source": [
    "# 使用データ\n",
    "# シリーズ\n",
    "ser = pd.Series([90, 78, 65, 87, 72])\n",
    "\n",
    "# インデックス\n",
    "#'Sato', 'Yamada', 'Suzuki','Tanaka','Ito'\n",
    "\n",
    "# インデックスの変更\n",
    "ser.index = ['sato', 'suzuki', 'takahashi', 'tanaka', 'ito']\n",
    "ser"
   ]
  },
  {
   "cell_type": "markdown",
   "id": "1942fa5e-9dab-4a4b-b4ee-d2ff35be718b",
   "metadata": {},
   "source": [
    "## 問題9\n",
    "下記の辞書型のデータを使用して、完成イメージの通りにシリーズを作成してみましょう。"
   ]
  },
  {
   "cell_type": "markdown",
   "id": "e8cfbe70-d72d-47a4-934e-9b9bfa0f5b20",
   "metadata": {},
   "source": [
    "完成イメージ\n",
    "\n",
    "Sato      90\n",
    "Yamada    78\n",
    "Suzuki    65\n",
    "Tanaka    87\n",
    "Ito       72\n",
    "dtype: int64"
   ]
  },
  {
   "cell_type": "code",
   "execution_count": 27,
   "id": "5b34e118-af88-44eb-80d3-bdb6d418bf15",
   "metadata": {},
   "outputs": [],
   "source": [
    "# 使用データ\n",
    "d = {'Sato':90, 'Yamada':78, 'Suzuki':65, 'Tanaka':87,'Ito':72}"
   ]
  },
  {
   "cell_type": "code",
   "execution_count": 29,
   "id": "d664dba6-1a35-441f-8a84-0efefe6a632f",
   "metadata": {},
   "outputs": [
    {
     "data": {
      "text/plain": [
       "Sato      90\n",
       "Yamada    78\n",
       "Suzuki    65\n",
       "Tanaka    87\n",
       "Ito       72\n",
       "dtype: int64"
      ]
     },
     "execution_count": 29,
     "metadata": {},
     "output_type": "execute_result"
    }
   ],
   "source": [
    "ser = pd.Series(d)\n",
    "ser"
   ]
  },
  {
   "cell_type": "markdown",
   "id": "3731c968-eb11-4864-9015-e1bc31c5957a",
   "metadata": {},
   "source": [
    "## 問題10\n",
    "下記の辞書型のデータを使用してシリーズを作成します。\n",
    "そして、完成イメージの通りに、シリーズのインデックスを「1,2,3,4」に変更してみましょう。"
   ]
  },
  {
   "cell_type": "markdown",
   "id": "fd79ec86-966e-402c-ad2e-a257cae0655e",
   "metadata": {},
   "source": [
    "完成イメージ\n",
    "\n",
    "\n",
    "1    46\n",
    "2    98\n",
    "3    30\n",
    "4    12\n",
    "dtype: int64"
   ]
  },
  {
   "cell_type": "code",
   "execution_count": 30,
   "id": "bb3cb979-b62b-489f-af89-6b35af259d60",
   "metadata": {},
   "outputs": [],
   "source": [
    "#使用データ\n",
    "d = {'Python':46, 'Ruby':98, 'Java':30, 'C':12}"
   ]
  },
  {
   "cell_type": "code",
   "execution_count": 32,
   "id": "a018114e-79fd-4fb5-9ea3-d68a342a370b",
   "metadata": {},
   "outputs": [
    {
     "data": {
      "text/plain": [
       "1    46\n",
       "2    98\n",
       "3    30\n",
       "4    12\n",
       "dtype: int64"
      ]
     },
     "execution_count": 32,
     "metadata": {},
     "output_type": "execute_result"
    }
   ],
   "source": [
    "ser = pd.Series(d)\n",
    "ser.index = [1, 2, 3, 4]\n",
    "ser"
   ]
  },
  {
   "cell_type": "markdown",
   "id": "d0034b2d-2817-4179-8b00-2decde126925",
   "metadata": {},
   "source": [
    "## 問題11\n",
    "完成イメージの通りに、下記シリーズのデータを取得してみましょう。"
   ]
  },
  {
   "cell_type": "markdown",
   "id": "012bd342-66e8-4972-a6a3-63b9a8f7a0eb",
   "metadata": {},
   "source": [
    "完成イメージ\n",
    "\n",
    "array([1, 3, 5, 7, 9])"
   ]
  },
  {
   "cell_type": "code",
   "execution_count": 35,
   "id": "7bb6253b-93b3-4871-9467-1bf7c3e251cb",
   "metadata": {},
   "outputs": [
    {
     "data": {
      "text/plain": [
       "array([1, 3, 5, 7, 9])"
      ]
     },
     "execution_count": 35,
     "metadata": {},
     "output_type": "execute_result"
    }
   ],
   "source": [
    "# 使用データ\n",
    "ser = pd.Series(np.arange(1, 10, 2))\n",
    "ser.values"
   ]
  },
  {
   "cell_type": "markdown",
   "id": "2a0190a8-d8bc-4b33-b0e4-4ab80863331a",
   "metadata": {},
   "source": [
    "## 問題12\n",
    "完成イメージの通りに、下記シリーズの要素の78を取得してみましょう。"
   ]
  },
  {
   "cell_type": "markdown",
   "id": "37a0b7a8-a7cf-4e11-a5e2-18812f8abcbc",
   "metadata": {},
   "source": [
    "完成イメージ\n",
    "\n",
    "78\n"
   ]
  },
  {
   "cell_type": "code",
   "execution_count": 38,
   "id": "217f68ea-18fe-4f47-93db-7cf4e05cd9fa",
   "metadata": {},
   "outputs": [],
   "source": [
    "# 使用データ\n",
    "ser = pd.Series([90, 78, 65, 87, 72],index = ['sato','suzuki', 'takahashi', 'tanaka', 'ito'])"
   ]
  },
  {
   "cell_type": "code",
   "execution_count": 41,
   "id": "76b84512-c5d9-4823-8ed2-b25064eb0b08",
   "metadata": {},
   "outputs": [
    {
     "data": {
      "text/plain": [
       "78"
      ]
     },
     "execution_count": 41,
     "metadata": {},
     "output_type": "execute_result"
    }
   ],
   "source": [
    "ser['suzuki']"
   ]
  },
  {
   "cell_type": "markdown",
   "id": "a55027f5-e3bb-4b1b-a52d-5b472225fc2d",
   "metadata": {},
   "source": [
    "## 問題13\n",
    "完成イメージの通りに、下記シリーズから'suzuki'と'tanaka'のデータを取得してみましょう。"
   ]
  },
  {
   "cell_type": "markdown",
   "id": "33fd6cf2-70b3-46bb-bfcf-163a6b3f8dd6",
   "metadata": {},
   "source": [
    "完成イメージ\n",
    "\n",
    "suzuki    78\n",
    "tanaka    87\n",
    "dtype: int64"
   ]
  },
  {
   "cell_type": "code",
   "execution_count": 46,
   "id": "c0113878-f739-4a3d-b89e-5f3bd548918c",
   "metadata": {},
   "outputs": [
    {
     "data": {
      "text/plain": [
       "suzuki    78\n",
       "tanaka    87\n",
       "dtype: int64"
      ]
     },
     "execution_count": 46,
     "metadata": {},
     "output_type": "execute_result"
    }
   ],
   "source": [
    "# 使用データ\n",
    "ser = pd.Series([90, 78, 65, 87, 72], index = ['sato','suzuki', 'takahashi', 'tanaka', 'ito'])\n",
    "\n",
    "# リスト\n",
    "# ['suzuki','tanaka']\n",
    "ser[['suzuki','tanaka']]"
   ]
  },
  {
   "cell_type": "markdown",
   "id": "bfda7771-50e2-4e32-b5c0-a9c808645d72",
   "metadata": {},
   "source": [
    "## 問題14\n",
    "完成イメージの通りに、下記シリーズから、80より大きいデータのみ抽出してみましょう。"
   ]
  },
  {
   "cell_type": "markdown",
   "id": "255ef7a2-7afe-41b2-84d7-643b77de61fb",
   "metadata": {},
   "source": [
    "完成イメージ\n",
    "\n",
    "sato      90\n",
    "tanaka    87\n",
    "dtype: int64"
   ]
  },
  {
   "cell_type": "code",
   "execution_count": 50,
   "id": "d89ae4fc-c1fb-4c77-ac7b-80ee347aeead",
   "metadata": {},
   "outputs": [
    {
     "data": {
      "text/plain": [
       "sato      90\n",
       "tanaka    87\n",
       "dtype: int64"
      ]
     },
     "execution_count": 50,
     "metadata": {},
     "output_type": "execute_result"
    }
   ],
   "source": [
    "# 使用データ\n",
    "ser = pd.Series([90, 78, 65, 87, 72], index = ['sato','suzuki', 'takahashi', 'tanaka', 'ito'])\n",
    "ser[ser > 80]\n"
   ]
  },
  {
   "cell_type": "markdown",
   "id": "9eb49714-76ac-4e75-818f-0b649a4e1c35",
   "metadata": {},
   "source": [
    "## 問題15\n",
    "完成イメージの通りに、下記シリーズから、80以下のデータのみ抽出してみましょう。"
   ]
  },
  {
   "cell_type": "markdown",
   "id": "c892f9e4-29e2-4f7b-b2e7-70fd1fcfdca3",
   "metadata": {},
   "source": [
    "完成イメージ\n",
    "\n",
    "\n",
    "suzuki       78\n",
    "takahashi    65\n",
    "ito          72\n",
    "dtype: int64"
   ]
  },
  {
   "cell_type": "code",
   "execution_count": 52,
   "id": "b2a96aa6-f271-46f6-b1ae-c59218621d07",
   "metadata": {},
   "outputs": [
    {
     "data": {
      "text/plain": [
       "suzuki       78\n",
       "takahashi    65\n",
       "ito          72\n",
       "dtype: int64"
      ]
     },
     "execution_count": 52,
     "metadata": {},
     "output_type": "execute_result"
    }
   ],
   "source": [
    "# 使用データ\n",
    "ser = pd.Series([90, 78, 65, 87, 72],index = ['sato','suzuki', 'takahashi', 'tanaka', 'ito'])\n",
    "ser[ser <= 80]"
   ]
  },
  {
   "cell_type": "markdown",
   "id": "ba2d8848-fc53-4223-9ec2-6698abe6cfb8",
   "metadata": {},
   "source": [
    "## 問題16\n",
    "完成イメージの通りに、下記シリーズから、78と等しい値を抽出してみましょう。"
   ]
  },
  {
   "cell_type": "markdown",
   "id": "ebf0f526-25ff-4c4d-b887-91bf80bac32b",
   "metadata": {},
   "source": [
    "完成イメージ\n",
    "\n",
    "suzuki    78\n",
    "dtype: int64"
   ]
  },
  {
   "cell_type": "code",
   "execution_count": 56,
   "id": "41f039d5-1d9d-4110-9908-d41112f041d5",
   "metadata": {},
   "outputs": [
    {
     "data": {
      "text/plain": [
       "suzuki    78\n",
       "dtype: int64"
      ]
     },
     "execution_count": 56,
     "metadata": {},
     "output_type": "execute_result"
    }
   ],
   "source": [
    "# 使用データ\n",
    "ser = pd.Series([90, 78, 65, 87, 72],index = ['sato','suzuki', 'takahashi', 'tanaka', 'ito'])\n",
    "ser[ser == 78]"
   ]
  },
  {
   "cell_type": "markdown",
   "id": "b516f794-12af-4f18-bbb4-0bc4fb95e136",
   "metadata": {},
   "source": [
    "## 問題17\n",
    "完成イメージの通りに、下記シリーズの要素数を取得してみましょう。"
   ]
  },
  {
   "cell_type": "markdown",
   "id": "281e9523-ebe3-46da-a6f8-d36885072d53",
   "metadata": {},
   "source": [
    "完成イメージ\n",
    "\n",
    "5"
   ]
  },
  {
   "cell_type": "code",
   "execution_count": 60,
   "id": "2014027b-2bd9-4ad8-bd25-1ad4c08e65bf",
   "metadata": {},
   "outputs": [
    {
     "data": {
      "text/plain": [
       "5"
      ]
     },
     "execution_count": 60,
     "metadata": {},
     "output_type": "execute_result"
    }
   ],
   "source": [
    "# 使用データ\n",
    "ser = pd.Series([90, 78, 65, 87, 72],index = ['sato','suzuki', 'takahashi', 'tanaka', 'ito'])\n",
    "ser.size\n"
   ]
  },
  {
   "cell_type": "markdown",
   "id": "82fd9dc0-714d-4c1c-8dbf-d694de1aa4d1",
   "metadata": {},
   "source": [
    "## 問題18\n",
    "完成イメージの通りに、下記シリーズの要素数を取得してみましょう。"
   ]
  },
  {
   "cell_type": "markdown",
   "id": "464a10a1-9ebd-408e-8bbd-46cc9363bd79",
   "metadata": {},
   "source": [
    "完成イメージ\n",
    "\n",
    "(5,)"
   ]
  },
  {
   "cell_type": "code",
   "execution_count": 61,
   "id": "e533aaa0-ef09-4ef4-8cdd-c9db201aebdc",
   "metadata": {},
   "outputs": [],
   "source": [
    "# 使用データ\n",
    "ser = pd.Series([90, 78, 65, 87, 72],index = ['sato','suzuki', 'takahashi', 'tanaka', 'ito'])"
   ]
  },
  {
   "cell_type": "code",
   "execution_count": 64,
   "id": "77b46ce2-4b62-4d73-9eb5-98cf903f372b",
   "metadata": {},
   "outputs": [
    {
     "data": {
      "text/plain": [
       "(5,)"
      ]
     },
     "execution_count": 64,
     "metadata": {},
     "output_type": "execute_result"
    }
   ],
   "source": [
    "ser.shape"
   ]
  },
  {
   "cell_type": "markdown",
   "id": "a3f2f1c4-d522-49ae-a6b2-b68bd14d0055",
   "metadata": {},
   "source": [
    "## 問題19\n",
    "完成イメージの通りに、下記シリーズのインデックスとカラムに名前をつけてみましょう。"
   ]
  },
  {
   "cell_type": "markdown",
   "id": "74a1ce77-164e-431e-ad8d-65456ce3c6a3",
   "metadata": {},
   "source": [
    "完成イメージ\n",
    "\n",
    "member\n",
    "sato         90\n",
    "suzuki       78\n",
    "takahashi    65\n",
    "tanaka       87\n",
    "ito          72\n",
    "Name: score, dtype: int64\n"
   ]
  },
  {
   "cell_type": "code",
   "execution_count": 71,
   "id": "66cc2021-c52d-4dee-98a7-00953788812c",
   "metadata": {},
   "outputs": [
    {
     "data": {
      "text/plain": [
       "member\n",
       "sato         90\n",
       "suzuki       78\n",
       "takahashi    65\n",
       "tanaka       87\n",
       "ito          72\n",
       "Name: score, dtype: int64"
      ]
     },
     "execution_count": 71,
     "metadata": {},
     "output_type": "execute_result"
    }
   ],
   "source": [
    "# 使用データ\n",
    "ser = pd.Series([90, 78, 65, 87, 72],index = ['sato','suzuki', 'takahashi', 'tanaka', 'ito'])\n",
    "\n",
    "# インデックス名\n",
    "# 'member'\n",
    "\n",
    "# カラム名\n",
    "# 'score'\n",
    "ser.index.name = 'member'\n",
    "ser.name = 'score'\n",
    "ser"
   ]
  },
  {
   "cell_type": "markdown",
   "id": "0d303245-c477-41a2-ba5d-bffe79f65053",
   "metadata": {},
   "source": [
    "## 問題20\n",
    "下記シリーズの全ての要素に整数の2を足して、完成イメージの通りに表示させてみましょう。"
   ]
  },
  {
   "cell_type": "markdown",
   "id": "5aae70a2-9ff2-44a7-875f-6fc2dfc3135f",
   "metadata": {},
   "source": [
    "完成イメージ\n",
    "\n",
    "\n",
    "\n",
    "sato         92\n",
    "suzuki       80\n",
    "takahashi    67\n",
    "tanaka       89\n",
    "ito          74\n",
    "dtype: int64"
   ]
  },
  {
   "cell_type": "code",
   "execution_count": 76,
   "id": "636e5469-3e1f-49a9-ad95-0bf8a19fc80c",
   "metadata": {},
   "outputs": [
    {
     "data": {
      "text/plain": [
       "sato         92\n",
       "suzuki       80\n",
       "takahashi    67\n",
       "tanaka       89\n",
       "ito          74\n",
       "dtype: int64"
      ]
     },
     "execution_count": 76,
     "metadata": {},
     "output_type": "execute_result"
    }
   ],
   "source": [
    "# 使用データ\n",
    "ser = pd.Series([90, 78, 65, 87, 72],index = ['sato','suzuki', 'takahashi', 'tanaka', 'ito'])\n",
    "ser + 2"
   ]
  },
  {
   "cell_type": "markdown",
   "id": "b6506273-f10d-4562-ab3a-7f53b6ae2ebf",
   "metadata": {},
   "source": [
    "## 問題21\n",
    "完成イメージのように、下記シリーズの各要素と平均値の差を算出してみましょう。"
   ]
  },
  {
   "cell_type": "markdown",
   "id": "419be118-c970-4cfe-8815-3cfec401b2e2",
   "metadata": {},
   "source": [
    "完成イメージ\n",
    "\n",
    "\n",
    "sato         11.6\n",
    "suzuki       -0.4\n",
    "takahashi   -13.4\n",
    "tanaka        8.6\n",
    "ito          -6.4\n",
    "dtype: float64"
   ]
  },
  {
   "cell_type": "code",
   "execution_count": 77,
   "id": "d3e4aed1-3ebe-4bad-bcb2-8f26b3c1cd5e",
   "metadata": {},
   "outputs": [],
   "source": [
    "ser = pd.Series([90, 78, 65, 87, 72],index = ['sato',  'suzuki', 'takahashi', 'tanaka', 'ito'])"
   ]
  },
  {
   "cell_type": "code",
   "execution_count": 84,
   "id": "11010e62-3fea-4afe-b50c-fc5c94c308d7",
   "metadata": {},
   "outputs": [
    {
     "data": {
      "text/plain": [
       "sato         11.6\n",
       "suzuki       -0.4\n",
       "takahashi   -13.4\n",
       "tanaka        8.6\n",
       "ito          -6.4\n",
       "dtype: float64"
      ]
     },
     "execution_count": 84,
     "metadata": {},
     "output_type": "execute_result"
    }
   ],
   "source": [
    "# 参考 https://deepage.net/features/pandas-mean.html\n",
    "ser = ser - ser.mean()\n",
    "ser"
   ]
  },
  {
   "cell_type": "markdown",
   "id": "4dd3a64a-82c4-4abd-ae64-5ca142c54036",
   "metadata": {},
   "source": [
    "## 問題22\n",
    "完成イメージの通りに、下記のシリーズの各要素の偏差値を算出してみましょう。\n",
    "ポイント\n",
    "\n",
    "・偏差値の計算式は、（シリーズの各要素の値 - 平均）× 10 ÷ 標準偏差 + 50 です。"
   ]
  },
  {
   "cell_type": "markdown",
   "id": "bf996ecb-1299-4878-8b7a-dc20b55d0e59",
   "metadata": {},
   "source": [
    "完成イメージ\n",
    "\n",
    "sato         61.198455\n",
    "suzuki       49.613846\n",
    "takahashi    37.063853\n",
    "tanaka       58.302303\n",
    "ito          43.821542\n",
    "dtype: float64"
   ]
  },
  {
   "cell_type": "code",
   "execution_count": 85,
   "id": "3e89d210-2fad-4abd-abd2-57d63353f9e7",
   "metadata": {},
   "outputs": [],
   "source": [
    "# 使用データ\n",
    "ser = pd.Series([90, 78, 65, 87, 72],index = ['sato','suzuki', 'takahashi', 'tanaka', 'ito'])"
   ]
  },
  {
   "cell_type": "code",
   "execution_count": 91,
   "id": "e63c07c4-4cc8-42f6-8bba-678e49617b80",
   "metadata": {},
   "outputs": [
    {
     "data": {
      "text/plain": [
       "sato         61.198455\n",
       "suzuki       49.613846\n",
       "takahashi    37.063853\n",
       "tanaka       58.302303\n",
       "ito          43.821542\n",
       "dtype: float64"
      ]
     },
     "execution_count": 92,
     "metadata": {},
     "output_type": "execute_result"
    }
   ],
   "source": [
    "# ser = (ser - ser.mean()) * 10 / 10 + 50\n",
    "# ser\n",
    "\n",
    "# 平均値の計算\n",
    "# mean = ser.mean()\n",
    "\n",
    "# 標準偏差の計算\n",
    "# std = ser.std()\n",
    "\n",
    "# 偏差値の計算\n",
    "# deviation_values = (ser - mean) / std * 10 + 50\n",
    "\n",
    "# 結果の表示\n",
    "# deviation_values\n",
    "\n",
    "(ser - ser.mean()) / ser.std() * 10 + 50"
   ]
  },
  {
   "cell_type": "markdown",
   "id": "28866135-a081-4db1-aa48-27be7ed2e111",
   "metadata": {},
   "source": [
    "## 問題23\n",
    "完成イメージの通りに、シリーズser1とシリーズser2のデータを足し算してみましょう。"
   ]
  },
  {
   "cell_type": "markdown",
   "id": "c1d39309-7423-435a-9509-b911f289cbbf",
   "metadata": {},
   "source": [
    "完成イメージ\n",
    "\n",
    "\n",
    "ito          144.0\n",
    "sato           NaN\n",
    "suzuki       145.0\n",
    "takahashi    163.0\n",
    "tanaka       142.0\n",
    "watanabe       NaN\n",
    "dtype: float64\n"
   ]
  },
  {
   "cell_type": "code",
   "execution_count": 93,
   "id": "3e4959d8-b2e2-4ffc-91d4-bfcdf70e51f7",
   "metadata": {},
   "outputs": [
    {
     "data": {
      "text/plain": [
       "ito          144.0\n",
       "sato           NaN\n",
       "suzuki       145.0\n",
       "takahashi    163.0\n",
       "tanaka       142.0\n",
       "watanabe       NaN\n",
       "dtype: float64"
      ]
     },
     "execution_count": 93,
     "metadata": {},
     "output_type": "execute_result"
    }
   ],
   "source": [
    "#使用データ\n",
    "ser1 = pd.Series([90, 78, 65, 87, 72],index = ['sato', 'suzuki', 'takahashi', 'tanaka', 'ito'])\n",
    "ser2 = pd.Series([67, 98, 55, 72, 88],index = ['suzuki', 'takahashi', 'tanaka', 'ito', 'watanabe'])\n",
    "ser1 + ser2"
   ]
  },
  {
   "cell_type": "markdown",
   "id": "4e9f49fc-88f2-49bf-b9e3-d2a37a493356",
   "metadata": {},
   "source": [
    "## 問題24\n",
    "\n",
    "シリーズser1とシリーズser2の各要素の引き算の結果が、それぞれ10未満であるか否かの結果を、完成イメージの通りに抽出してみましょう。\n",
    "ポイント\n",
    "\n",
    "・欠損値の場合は条件を満たさないと判定します\n",
    "\n"
   ]
  },
  {
   "cell_type": "markdown",
   "id": "48d003c5-6196-4864-9cbc-6502eb24e633",
   "metadata": {},
   "source": [
    "完成イメージ\n",
    "\n",
    "ito          False\n",
    "sato         False\n",
    "suzuki        True\n",
    "takahashi     True\n",
    "tanaka        True\n",
    "watanabe     False\n",
    "dtype: bool\n"
   ]
  },
  {
   "cell_type": "code",
   "execution_count": 103,
   "id": "b99d5f6b-efde-4f5e-8d58-b627c05af9e2",
   "metadata": {},
   "outputs": [
    {
     "data": {
      "text/plain": [
       "ito          False\n",
       "sato         False\n",
       "suzuki        True\n",
       "takahashi     True\n",
       "tanaka        True\n",
       "watanabe     False\n",
       "dtype: bool"
      ]
     },
     "execution_count": 103,
     "metadata": {},
     "output_type": "execute_result"
    }
   ],
   "source": [
    "# 使用データ\n",
    "ser1 = pd.Series([80, 65, 88, 72, 97],index = ['sato', 'suzuki', 'takahashi', 'tanaka', 'ito'])\n",
    "ser2 = pd.Series([64, 90, 74, 77, 82],index = ['suzuki', 'takahashi', 'tanaka', 'ito', 'watanabe'])\n",
    "res = ser1- ser2\n",
    "res < 10"
   ]
  },
  {
   "cell_type": "markdown",
   "id": "d61c83a3-f3c5-454e-9a5c-37a8c688a3e8",
   "metadata": {},
   "source": [
    "## 問題25\n",
    "下記シリーズser1とシリーズser2の掛け算を行います。\n",
    "完成イメージの通りに、掛け算の結果がNaN（欠損値）となるデータを、掛け算の結果の平均値で置換してみましょう。"
   ]
  },
  {
   "cell_type": "markdown",
   "id": "aa07b550-0c29-41ea-828c-98735a1d287b",
   "metadata": {},
   "source": [
    "完成イメージ\n",
    "\n",
    "\n",
    "A    2000.0\n",
    "B    3100.0\n",
    "C    3500.0\n",
    "D    3750.0\n",
    "E    3150.0\n",
    "F    3100.0\n",
    "dtype: float64"
   ]
  },
  {
   "cell_type": "code",
   "execution_count": 114,
   "id": "aaf863bc-c661-43d0-bca7-2e37decd9b28",
   "metadata": {},
   "outputs": [
    {
     "data": {
      "text/plain": [
       "A    2000.0\n",
       "B    3100.0\n",
       "C    3500.0\n",
       "D    3750.0\n",
       "E    3150.0\n",
       "F    3100.0\n",
       "dtype: float64"
      ]
     },
     "execution_count": 114,
     "metadata": {},
     "output_type": "execute_result"
    }
   ],
   "source": [
    "# 使用データ\n",
    "ser1 = pd.Series([100, 120, 100, 750, 70],index = ['A', 'B', 'C', 'D', 'E'])\n",
    "ser2 = pd.Series([20, 35, 5, 45, 15],index = ['A', 'C', 'D', 'E', 'F'])\n",
    "ser3 = ser1 * ser2\n",
    "ser3.fillna(ser3.mean())"
   ]
  },
  {
   "cell_type": "markdown",
   "id": "1b76052b-d85a-44bf-9bc7-49b7f08d46ea",
   "metadata": {},
   "source": [
    "## 問題26\n",
    "完成イメージの通りに、下記シリーズのデータに欠損値が含まれるかどうかを判定してみましょう。"
   ]
  },
  {
   "cell_type": "markdown",
   "id": "48a29dd2-5da0-4b6d-afec-a6fbd369c0e0",
   "metadata": {},
   "source": [
    "完成イメージ\n",
    "\n",
    "True"
   ]
  },
  {
   "cell_type": "code",
   "execution_count": 117,
   "id": "67661d64-9649-4c8d-bcc0-5557e6d5d3a2",
   "metadata": {},
   "outputs": [
    {
     "data": {
      "text/plain": [
       "True"
      ]
     },
     "execution_count": 117,
     "metadata": {},
     "output_type": "execute_result"
    }
   ],
   "source": [
    "# 使用データ\n",
    "ser = pd.Series([90, 78, 65, None, 72])\n",
    "ser.hasnans"
   ]
  },
  {
   "cell_type": "markdown",
   "id": "1b0032f6-9f23-428f-868d-b35f7ac2438a",
   "metadata": {},
   "source": [
    "## 問題27\n",
    "完成イメージの通りに、下記シリーズの各要素が欠損値であるか否かを判定してみましょう。"
   ]
  },
  {
   "cell_type": "markdown",
   "id": "ee9b0dcb-0d4e-4ec8-bd45-48439f29beb8",
   "metadata": {},
   "source": [
    "完成イメージ\n",
    "\n",
    "0     True\n",
    "1    False\n",
    "2    False\n",
    "3     True\n",
    "4    False\n",
    "dtype: bool"
   ]
  },
  {
   "cell_type": "code",
   "execution_count": 118,
   "id": "095f1976-9a4d-4b6b-aaf8-aca8b75687da",
   "metadata": {},
   "outputs": [],
   "source": [
    "# 使用データ\n",
    "ser = pd.Series([ None, 'Suzuki', 'tanaka', None, 'ito'])"
   ]
  },
  {
   "cell_type": "code",
   "execution_count": 120,
   "id": "a3501a52-24f7-49cc-b247-aa673562aebc",
   "metadata": {},
   "outputs": [
    {
     "data": {
      "text/plain": [
       "0     True\n",
       "1    False\n",
       "2    False\n",
       "3     True\n",
       "4    False\n",
       "dtype: bool"
      ]
     },
     "execution_count": 120,
     "metadata": {},
     "output_type": "execute_result"
    }
   ],
   "source": [
    "ser.isnull()"
   ]
  },
  {
   "cell_type": "markdown",
   "id": "b960d315-ca05-4ae1-830f-339a81dd2a2c",
   "metadata": {},
   "source": [
    "## 問題28\n",
    "完成イメージの通りに、下記シリーズのデータに含まれる欠損値の数を取得してみましょう。"
   ]
  },
  {
   "cell_type": "markdown",
   "id": "54d7bbd5-e535-458f-80ea-2af9b4a37bb2",
   "metadata": {},
   "source": [
    "完成イメージ\n",
    "\n",
    "2"
   ]
  },
  {
   "cell_type": "code",
   "execution_count": 124,
   "id": "1dd4d23d-594d-4ff7-a2b7-be12e61fe9a6",
   "metadata": {},
   "outputs": [
    {
     "data": {
      "text/plain": [
       "2"
      ]
     },
     "execution_count": 124,
     "metadata": {},
     "output_type": "execute_result"
    }
   ],
   "source": [
    "# 使用データ\n",
    "ser = pd.Series([60, 80, None, None, 88])\n",
    "ser.isnull().sum()"
   ]
  },
  {
   "cell_type": "markdown",
   "id": "19cda94c-54a5-468f-b423-a9aba2e34f06",
   "metadata": {},
   "source": [
    "## 問題29\n",
    "完成イメージの通りに、下記データフレームから'col01'列をシリーズとして抽出してみましょう。"
   ]
  },
  {
   "cell_type": "markdown",
   "id": "59829bf0-2f71-4dfc-bcfd-fb955a062ed6",
   "metadata": {},
   "source": [
    "完成イメージ\n",
    "\n",
    "idx01    1\n",
    "idx02    4\n",
    "idx03    7\n",
    "Name: col01, dtype: int64"
   ]
  },
  {
   "cell_type": "code",
   "execution_count": 127,
   "id": "8b657e48-a543-42cd-9d0d-ae4992a610c3",
   "metadata": {},
   "outputs": [
    {
     "data": {
      "text/html": [
       "<div>\n",
       "<style scoped>\n",
       "    .dataframe tbody tr th:only-of-type {\n",
       "        vertical-align: middle;\n",
       "    }\n",
       "\n",
       "    .dataframe tbody tr th {\n",
       "        vertical-align: top;\n",
       "    }\n",
       "\n",
       "    .dataframe thead th {\n",
       "        text-align: right;\n",
       "    }\n",
       "</style>\n",
       "<table border=\"1\" class=\"dataframe\">\n",
       "  <thead>\n",
       "    <tr style=\"text-align: right;\">\n",
       "      <th></th>\n",
       "      <th>col01</th>\n",
       "      <th>col02</th>\n",
       "      <th>col03</th>\n",
       "    </tr>\n",
       "  </thead>\n",
       "  <tbody>\n",
       "    <tr>\n",
       "      <th>idx01</th>\n",
       "      <td>1</td>\n",
       "      <td>2</td>\n",
       "      <td>3</td>\n",
       "    </tr>\n",
       "    <tr>\n",
       "      <th>idx02</th>\n",
       "      <td>4</td>\n",
       "      <td>5</td>\n",
       "      <td>6</td>\n",
       "    </tr>\n",
       "    <tr>\n",
       "      <th>idx03</th>\n",
       "      <td>7</td>\n",
       "      <td>8</td>\n",
       "      <td>9</td>\n",
       "    </tr>\n",
       "  </tbody>\n",
       "</table>\n",
       "</div>"
      ],
      "text/plain": [
       "       col01  col02  col03\n",
       "idx01      1      2      3\n",
       "idx02      4      5      6\n",
       "idx03      7      8      9"
      ]
     },
     "execution_count": 127,
     "metadata": {},
     "output_type": "execute_result"
    }
   ],
   "source": [
    "# 使用データフレーム\n",
    "df = pd.DataFrame([[1, 2, 3], [4, 5, 6], [7, 8, 9]],\n",
    "                  columns=['col01', 'col02', 'col03'],\n",
    "                  index=['idx01', 'idx02', 'idx03'])\n",
    "df"
   ]
  },
  {
   "cell_type": "code",
   "execution_count": 128,
   "id": "58d3a994-03f5-4d53-b852-51ee72a8f387",
   "metadata": {},
   "outputs": [
    {
     "data": {
      "text/plain": [
       "idx01    1\n",
       "idx02    4\n",
       "idx03    7\n",
       "Name: col01, dtype: int64"
      ]
     },
     "execution_count": 128,
     "metadata": {},
     "output_type": "execute_result"
    }
   ],
   "source": [
    "df['col01']"
   ]
  },
  {
   "cell_type": "markdown",
   "id": "f4e83bdf-7225-4c35-a4c3-17ac38164e6a",
   "metadata": {},
   "source": [
    "## 問題30\n",
    "下記データフレームに’col04'列として下記シリーズを追加してみましょう。"
   ]
  },
  {
   "cell_type": "code",
   "execution_count": 132,
   "id": "ae1c6497-365b-451e-b340-25b42512eb56",
   "metadata": {},
   "outputs": [
    {
     "data": {
      "text/html": [
       "<div>\n",
       "<style scoped>\n",
       "    .dataframe tbody tr th:only-of-type {\n",
       "        vertical-align: middle;\n",
       "    }\n",
       "\n",
       "    .dataframe tbody tr th {\n",
       "        vertical-align: top;\n",
       "    }\n",
       "\n",
       "    .dataframe thead th {\n",
       "        text-align: right;\n",
       "    }\n",
       "</style>\n",
       "<table border=\"1\" class=\"dataframe\">\n",
       "  <thead>\n",
       "    <tr style=\"text-align: right;\">\n",
       "      <th></th>\n",
       "      <th>col01</th>\n",
       "      <th>col02</th>\n",
       "      <th>col03</th>\n",
       "      <th>col04</th>\n",
       "    </tr>\n",
       "  </thead>\n",
       "  <tbody>\n",
       "    <tr>\n",
       "      <th>idx01</th>\n",
       "      <td>1</td>\n",
       "      <td>2</td>\n",
       "      <td>3</td>\n",
       "      <td>10</td>\n",
       "    </tr>\n",
       "    <tr>\n",
       "      <th>idx02</th>\n",
       "      <td>4</td>\n",
       "      <td>5</td>\n",
       "      <td>6</td>\n",
       "      <td>11</td>\n",
       "    </tr>\n",
       "    <tr>\n",
       "      <th>idx03</th>\n",
       "      <td>7</td>\n",
       "      <td>8</td>\n",
       "      <td>9</td>\n",
       "      <td>12</td>\n",
       "    </tr>\n",
       "  </tbody>\n",
       "</table>\n",
       "</div>"
      ],
      "text/plain": [
       "       col01  col02  col03  col04\n",
       "idx01      1      2      3     10\n",
       "idx02      4      5      6     11\n",
       "idx03      7      8      9     12"
      ]
     },
     "execution_count": 132,
     "metadata": {},
     "output_type": "execute_result"
    }
   ],
   "source": [
    "# データフレーム\n",
    "df = pd.DataFrame([[1, 2, 3], [4, 5, 6], [7, 8, 9]],\n",
    "                  columns=['col01', 'col02', 'col03'],\n",
    "                  index=['idx01', 'idx02', 'idx03'])\n",
    "# シリーズ\n",
    "ser = pd.Series({'idx01':10, 'idx02':11, 'idx03':12})\n",
    "\n",
    "df['col04'] = ser\n",
    "df"
   ]
  },
  {
   "cell_type": "markdown",
   "id": "3d742fe4-cf25-4531-8217-6594a5980e89",
   "metadata": {},
   "source": [
    "## 問題31\n",
    "下記データフレームdf2から'col04'列を抽出し、データフレームdf01の'col04'として追加してみましょう。"
   ]
  },
  {
   "cell_type": "code",
   "execution_count": 135,
   "id": "a533649c-ba7f-4778-99e2-96c181d51c42",
   "metadata": {},
   "outputs": [
    {
     "data": {
      "text/html": [
       "<div>\n",
       "<style scoped>\n",
       "    .dataframe tbody tr th:only-of-type {\n",
       "        vertical-align: middle;\n",
       "    }\n",
       "\n",
       "    .dataframe tbody tr th {\n",
       "        vertical-align: top;\n",
       "    }\n",
       "\n",
       "    .dataframe thead th {\n",
       "        text-align: right;\n",
       "    }\n",
       "</style>\n",
       "<table border=\"1\" class=\"dataframe\">\n",
       "  <thead>\n",
       "    <tr style=\"text-align: right;\">\n",
       "      <th></th>\n",
       "      <th>col01</th>\n",
       "      <th>col02</th>\n",
       "      <th>col03</th>\n",
       "      <th>col04</th>\n",
       "    </tr>\n",
       "  </thead>\n",
       "  <tbody>\n",
       "    <tr>\n",
       "      <th>idx01</th>\n",
       "      <td>1</td>\n",
       "      <td>2</td>\n",
       "      <td>3</td>\n",
       "      <td>10</td>\n",
       "    </tr>\n",
       "    <tr>\n",
       "      <th>idx02</th>\n",
       "      <td>4</td>\n",
       "      <td>5</td>\n",
       "      <td>6</td>\n",
       "      <td>13</td>\n",
       "    </tr>\n",
       "    <tr>\n",
       "      <th>idx03</th>\n",
       "      <td>7</td>\n",
       "      <td>8</td>\n",
       "      <td>9</td>\n",
       "      <td>16</td>\n",
       "    </tr>\n",
       "  </tbody>\n",
       "</table>\n",
       "</div>"
      ],
      "text/plain": [
       "       col01  col02  col03  col04\n",
       "idx01      1      2      3     10\n",
       "idx02      4      5      6     13\n",
       "idx03      7      8      9     16"
      ]
     },
     "execution_count": 135,
     "metadata": {},
     "output_type": "execute_result"
    }
   ],
   "source": [
    "# 使用データ\n",
    "df1 = pd.DataFrame([[1, 2, 3], [4, 5, 6], [7, 8, 9]],\n",
    "                   columns=['col01', 'col02', 'col03'],\n",
    "                   index=['idx01', 'idx02', 'idx03'])\n",
    "\n",
    "df2 = pd.DataFrame([[10, 11, 12], [13, 14, 15], [16, 17, 18]],\n",
    "                   columns=['col04', 'col05', 'col06'],\n",
    "                   index=['idx01', 'idx02', 'idx03'])\n",
    "\n",
    "df1['col04'] = df2['col04']\n",
    "df1"
   ]
  },
  {
   "cell_type": "markdown",
   "id": "bfbf4e87-840f-405f-bdc9-7d97de248421",
   "metadata": {},
   "source": [
    "## 問題32\n",
    "2000年1月1日から1月5日までの時系列データを作成します。\n",
    "そして、作成した時系列データを使用して、シリーズを作成してみましょう。"
   ]
  },
  {
   "cell_type": "markdown",
   "id": "1c672c71-01f4-4b8e-a282-692d8eababb3",
   "metadata": {},
   "source": [
    "完成イメージ\n",
    "\n",
    "0   2000-01-01\n",
    "1   2000-01-02\n",
    "2   2000-01-03\n",
    "3   2000-01-04\n",
    "4   2000-01-05\n",
    "dtype: datetime64[ns]"
   ]
  },
  {
   "cell_type": "code",
   "execution_count": 139,
   "id": "89294a27-ab36-45be-84f5-7e210072cf8d",
   "metadata": {},
   "outputs": [
    {
     "data": {
      "text/plain": [
       "0   2000-01-01\n",
       "1   2000-01-02\n",
       "2   2000-01-03\n",
       "3   2000-01-04\n",
       "4   2000-01-05\n",
       "dtype: datetime64[ns]"
      ]
     },
     "execution_count": 139,
     "metadata": {},
     "output_type": "execute_result"
    }
   ],
   "source": [
    "# 使用データ\n",
    "# '2000/01/01'\n",
    "dates = pd.date_range('2000/01/01', periods = 5, freq = 'd')\n",
    "ser = pd.Series(dates)\n",
    "ser\n"
   ]
  },
  {
   "cell_type": "markdown",
   "id": "84751db4-7444-4c64-9644-6d7ad130516b",
   "metadata": {},
   "source": [
    "## 問題33\n",
    "\n",
    "2000年1月から6月までの1日の時系列データを作成します。\n",
    "そして、完成イメージの通りに、作成した時系列データを下記シリーズのインデックスに指定してみましょう。"
   ]
  },
  {
   "cell_type": "markdown",
   "id": "fa05449a-ddc4-494f-b927-57d34a48bf9d",
   "metadata": {},
   "source": [
    "完成イメージ\n",
    "\n",
    "2000-01-01    990\n",
    "2000-02-01    650\n",
    "2000-03-01    480\n",
    "2000-04-01    500\n",
    "2000-05-01    750\n",
    "2000-06-01    800\n",
    "Freq: MS, dtype: int64"
   ]
  },
  {
   "cell_type": "code",
   "execution_count": 155,
   "id": "51bc9df1-b538-4690-b742-aefdd9455591",
   "metadata": {},
   "outputs": [
    {
     "data": {
      "text/plain": [
       "2000-01-01    990\n",
       "2000-02-01    650\n",
       "2000-03-01    480\n",
       "2000-04-01    500\n",
       "2000-05-01    750\n",
       "2000-06-01    800\n",
       "Freq: MS, dtype: int64"
      ]
     },
     "execution_count": 155,
     "metadata": {},
     "output_type": "execute_result"
    }
   ],
   "source": [
    "# 使用データ\n",
    "ser = pd.Series([990, 650, 480, 500, 750, 800])\n",
    "# 時系列データの開始日 '2000/01/01'\n",
    "dates = pd.date_range('2000/01/01', periods=6, freq='MS')\n",
    "ser.index = dates\n",
    "ser"
   ]
  },
  {
   "cell_type": "code",
   "execution_count": null,
   "id": "79b1c577-fd08-43f0-a032-5e5a32f98a05",
   "metadata": {},
   "outputs": [],
   "source": []
  }
 ],
 "metadata": {
  "kernelspec": {
   "display_name": "Python 3 (ipykernel)",
   "language": "python",
   "name": "python3"
  },
  "language_info": {
   "codemirror_mode": {
    "name": "ipython",
    "version": 3
   },
   "file_extension": ".py",
   "mimetype": "text/x-python",
   "name": "python",
   "nbconvert_exporter": "python",
   "pygments_lexer": "ipython3",
   "version": "3.7.16"
  }
 },
 "nbformat": 4,
 "nbformat_minor": 5
}
