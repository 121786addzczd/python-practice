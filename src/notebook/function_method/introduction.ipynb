{
 "cells": [
  {
   "cell_type": "markdown",
   "metadata": {},
   "source": [
    "# Python入門・応用"
   ]
  },
  {
   "cell_type": "markdown",
   "metadata": {},
   "source": [
    "## 変数"
   ]
  },
  {
   "cell_type": "code",
   "execution_count": 2,
   "metadata": {},
   "outputs": [
    {
     "name": "stdout",
     "output_type": "stream",
     "text": [
      "1\n"
     ]
    }
   ],
   "source": [
    "num = 1\n",
    "print(num)"
   ]
  },
  {
   "cell_type": "code",
   "execution_count": 3,
   "metadata": {},
   "outputs": [
    {
     "name": "stdout",
     "output_type": "stream",
     "text": [
      "10.5 500\n"
     ]
    }
   ],
   "source": [
    "a = 10.5\n",
    "b = 500\n",
    "print(a, b)"
   ]
  },
  {
   "cell_type": "code",
   "execution_count": 4,
   "metadata": {},
   "outputs": [
    {
     "name": "stdout",
     "output_type": "stream",
     "text": [
      "Pythonを勉強しています\n"
     ]
    }
   ],
   "source": [
    "a = 'Python'\n",
    "a += 'を勉強しています'\n",
    "print(a)"
   ]
  },
  {
   "cell_type": "code",
   "execution_count": 5,
   "metadata": {},
   "outputs": [
    {
     "name": "stdout",
     "output_type": "stream",
     "text": [
      "100\n"
     ]
    }
   ],
   "source": [
    "num = 10\n",
    "print(num * 10)"
   ]
  },
  {
   "cell_type": "code",
   "execution_count": 7,
   "metadata": {},
   "outputs": [
    {
     "name": "stdout",
     "output_type": "stream",
     "text": [
      "毎日8時間働き、3時間勉強しています\n"
     ]
    }
   ],
   "source": [
    "num_1 = 8\n",
    "num_2 = 3\n",
    "print(f'毎日{num_1}時間働き、{num_2}時間勉強しています')\n"
   ]
  },
  {
   "cell_type": "code",
   "execution_count": 8,
   "metadata": {},
   "outputs": [
    {
     "name": "stdout",
     "output_type": "stream",
     "text": [
      "身長：1.7\n",
      "体重：65kg\n",
      "BMI：22.49134948096886\n"
     ]
    }
   ],
   "source": [
    "num_1 = 1.7\n",
    "num_2 = 65\n",
    "print(f'身長：{num_1}')\n",
    "print(f'体重：{num_2}kg')\n",
    "print(f'BMI：{num_2 / (num_1 * num_1)}')"
   ]
  },
  {
   "cell_type": "code",
   "execution_count": 11,
   "metadata": {},
   "outputs": [
    {
     "name": "stdout",
     "output_type": "stream",
     "text": [
      "['False', 'None', 'True', 'and', 'as', 'assert', 'async', 'await', 'break', 'class', 'continue', 'def', 'del', 'elif', 'else', 'except', 'finally', 'for', 'from', 'global', 'if', 'import', 'in', 'is', 'lambda', 'nonlocal', 'not', 'or', 'pass', 'raise', 'return', 'try', 'while', 'with', 'yield']\n",
      "35\n"
     ]
    }
   ],
   "source": [
    "# 予約語\n",
    "import keyword\n",
    "\n",
    "print(keyword.kwlist) # 予約語の一覧\n",
    "print(len(keyword.kwlist)) # 予約語の個数"
   ]
  },
  {
   "cell_type": "code",
   "execution_count": 12,
   "metadata": {},
   "outputs": [
    {
     "name": "stdout",
     "output_type": "stream",
     "text": [
      "True\n",
      "False\n"
     ]
    }
   ],
   "source": [
    "# 予約語かどうか調べる iskeyword\n",
    "print(keyword.iskeyword('return'))\n",
    "print(keyword.iskeyword('Return'))"
   ]
  },
  {
   "cell_type": "code",
   "execution_count": 14,
   "metadata": {},
   "outputs": [
    {
     "name": "stdout",
     "output_type": "stream",
     "text": [
      "1638514033168\n",
      "1638514033168\n",
      "1638514033488\n"
     ]
    }
   ],
   "source": [
    "# 変数のIDを調べる\n",
    "a = 10\n",
    "print(id(a))\n",
    "b = a\n",
    "print(id(b))\n",
    "a = 20\n",
    "print(id(a))"
   ]
  },
  {
   "cell_type": "markdown",
   "metadata": {},
   "source": [
    "## データ型"
   ]
  },
  {
   "cell_type": "code",
   "execution_count": 15,
   "metadata": {},
   "outputs": [
    {
     "name": "stdout",
     "output_type": "stream",
     "text": [
      "<class 'int'>\n",
      "<class 'float'>\n"
     ]
    }
   ],
   "source": [
    "num01 = 123\n",
    "num02 = 1.23\n",
    "print(type(num01))\n",
    "print(type(num02))"
   ]
  },
  {
   "cell_type": "code",
   "execution_count": 19,
   "metadata": {},
   "outputs": [
    {
     "name": "stdout",
     "output_type": "stream",
     "text": [
      "num01：<class 'float'>\n",
      "num02：<class 'float'>\n"
     ]
    }
   ],
   "source": [
    "num01 = 6 / 3\n",
    "num02 = 2 * 0.5\n",
    "print(f'num01：{type(num01)}')\n",
    "print(f'num02：{type(num02)}')"
   ]
  },
  {
   "cell_type": "code",
   "execution_count": 20,
   "metadata": {},
   "outputs": [
    {
     "name": "stdout",
     "output_type": "stream",
     "text": [
      "<class 'str'>\n"
     ]
    }
   ],
   "source": [
    "greeting = 'Hello, World!'\n",
    "print(type(greeting))"
   ]
  },
  {
   "cell_type": "code",
   "execution_count": 21,
   "metadata": {},
   "outputs": [
    {
     "name": "stdout",
     "output_type": "stream",
     "text": [
      "<class 'str'>\n"
     ]
    }
   ],
   "source": [
    "num = '1000'\n",
    "print(type(num))"
   ]
  },
  {
   "cell_type": "code",
   "execution_count": 22,
   "metadata": {},
   "outputs": [
    {
     "name": "stdout",
     "output_type": "stream",
     "text": [
      "あなたの受付番号は45です\n"
     ]
    }
   ],
   "source": [
    "num = '45'\n",
    "print(f'あなたの受付番号は{num}です')"
   ]
  },
  {
   "cell_type": "code",
   "execution_count": 23,
   "metadata": {},
   "outputs": [
    {
     "name": "stdout",
     "output_type": "stream",
     "text": [
      "あなたの好きなものはリンゴです\n"
     ]
    }
   ],
   "source": [
    "s = 'リンゴ'\n",
    "print(f'あなたの好きなものは{s}です')"
   ]
  },
  {
   "cell_type": "code",
   "execution_count": 24,
   "metadata": {},
   "outputs": [
    {
     "name": "stdout",
     "output_type": "stream",
     "text": [
      "True\n",
      "<class 'bool'>\n"
     ]
    }
   ],
   "source": [
    "a = 10\n",
    "b = 1\n",
    "print(a > b)\n",
    "print(type(a > b))"
   ]
  },
  {
   "cell_type": "code",
   "execution_count": 25,
   "metadata": {},
   "outputs": [
    {
     "name": "stdout",
     "output_type": "stream",
     "text": [
      "False\n",
      "<class 'bool'>\n"
     ]
    }
   ],
   "source": [
    "a = 'Python'\n",
    "b = 'SQL'\n",
    "bool = a == b\n",
    "print(bool)\n",
    "print(type(bool))"
   ]
  },
  {
   "cell_type": "code",
   "execution_count": 27,
   "metadata": {},
   "outputs": [
    {
     "name": "stdout",
     "output_type": "stream",
     "text": [
      "<class 'list'>\n"
     ]
    }
   ],
   "source": [
    "a = [1, 2, 3]\n",
    "print(type(a))"
   ]
  },
  {
   "cell_type": "code",
   "execution_count": 29,
   "metadata": {},
   "outputs": [
    {
     "name": "stdout",
     "output_type": "stream",
     "text": [
      "<class 'tuple'>\n"
     ]
    }
   ],
   "source": [
    "b = (1, 2, 3)\n",
    "print(type(b))"
   ]
  },
  {
   "cell_type": "code",
   "execution_count": 183,
   "metadata": {},
   "outputs": [
    {
     "name": "stdout",
     "output_type": "stream",
     "text": [
      "<class 'dict'>\n"
     ]
    }
   ],
   "source": [
    "d = {'a':1, 'b':2, 'c':3, 'd':'dic'}\n",
    "print(type(d))"
   ]
  },
  {
   "cell_type": "code",
   "execution_count": 32,
   "metadata": {},
   "outputs": [
    {
     "name": "stdout",
     "output_type": "stream",
     "text": [
      "{1, 2, 3}\n",
      "{1, 2, 3}\n",
      "<class 'set'>\n",
      "<class 'set'>\n"
     ]
    }
   ],
   "source": [
    "s1 = {1, 2, 3}\n",
    "s2 = {1, 2, 3, 1, 2, 3}\n",
    "print(s1)\n",
    "print(s2)\n",
    "print(type(s1))\n",
    "print(type(s2))"
   ]
  },
  {
   "cell_type": "code",
   "execution_count": 35,
   "metadata": {},
   "outputs": [
    {
     "name": "stdout",
     "output_type": "stream",
     "text": [
      "(1, 2, 3, 'tuple')\n",
      "<class 'tuple'>\n",
      "[1, 2, 3, 'tuple']\n",
      "<class 'list'>\n"
     ]
    }
   ],
   "source": [
    "a = (1, 2, 3, 'tuple')\n",
    "b = list(a)\n",
    "print(a)\n",
    "print(type(a))\n",
    "print(b)\n",
    "print(type(b))"
   ]
  },
  {
   "cell_type": "code",
   "execution_count": 36,
   "metadata": {},
   "outputs": [
    {
     "name": "stdout",
     "output_type": "stream",
     "text": [
      "1234\n",
      "<class 'str'>\n",
      "1234\n",
      "<class 'int'>\n"
     ]
    }
   ],
   "source": [
    "a = '1234'\n",
    "b = int(a)\n",
    "print(a)\n",
    "print(type(a))\n",
    "print(b)\n",
    "print(type(b))"
   ]
  },
  {
   "cell_type": "code",
   "execution_count": 37,
   "metadata": {},
   "outputs": [
    {
     "name": "stdout",
     "output_type": "stream",
     "text": [
      "579\n",
      "<class 'int'>\n",
      "123456\n",
      "<class 'str'>\n"
     ]
    }
   ],
   "source": [
    "a = 123\n",
    "b = '123'\n",
    "c = a + 456\n",
    "d = b + '456'\n",
    "print(c)\n",
    "print(type(c))\n",
    "print(d)\n",
    "print(type(d))"
   ]
  },
  {
   "cell_type": "markdown",
   "metadata": {},
   "source": [
    "## リスト"
   ]
  },
  {
   "cell_type": "code",
   "execution_count": 43,
   "metadata": {},
   "outputs": [
    {
     "name": "stdout",
     "output_type": "stream",
     "text": [
      "['sato', 'suzuki', 'takahashi']\n"
     ]
    }
   ],
   "source": [
    "a = ['sato', 'suzuki', 'takahashi']\n",
    "print(a)"
   ]
  },
  {
   "cell_type": "code",
   "execution_count": 44,
   "metadata": {},
   "outputs": [
    {
     "name": "stdout",
     "output_type": "stream",
     "text": [
      "sato\n",
      "suzuki\n",
      "takahashi\n"
     ]
    }
   ],
   "source": [
    "# index指定\n",
    "a = ['sato', 'suzuki', 'takahashi']\n",
    "print(a[0])\n",
    "print(a[1])\n",
    "print(a[2])"
   ]
  },
  {
   "cell_type": "code",
   "execution_count": 45,
   "metadata": {},
   "outputs": [
    {
     "name": "stdout",
     "output_type": "stream",
     "text": [
      "sato\n",
      "tanaka\n",
      "takahashi\n"
     ]
    }
   ],
   "source": [
    "# リスト内の'suzuki'を'tanaka'に変更\n",
    "a = ['sato', 'suzuki', 'takahashi']\n",
    "a[1] = 'tanaka'\n",
    "print(a[0])\n",
    "print(a[1])\n",
    "print(a[2])"
   ]
  },
  {
   "cell_type": "code",
   "execution_count": 47,
   "metadata": {},
   "outputs": [
    {
     "name": "stdout",
     "output_type": "stream",
     "text": [
      "takahashi\n",
      "suzuki\n"
     ]
    }
   ],
   "source": [
    "a = ['sato', 'suzuki', 'takahashi']\n",
    "print(a[-1])\n",
    "print(a[-2])"
   ]
  },
  {
   "cell_type": "code",
   "execution_count": 50,
   "metadata": {},
   "outputs": [
    {
     "name": "stdout",
     "output_type": "stream",
     "text": [
      "[1, 2, 3]\n"
     ]
    }
   ],
   "source": [
    "a = [0, 1, 2, 3, 4, 5]\n",
    "print(a[1:4])"
   ]
  },
  {
   "cell_type": "code",
   "execution_count": 51,
   "metadata": {},
   "outputs": [
    {
     "name": "stdout",
     "output_type": "stream",
     "text": [
      "[2, 3, 4, 5]\n"
     ]
    }
   ],
   "source": [
    "a = [0, 1, 2, 3, 4, 5]\n",
    "print(a[2:])"
   ]
  },
  {
   "cell_type": "code",
   "execution_count": 55,
   "metadata": {},
   "outputs": [
    {
     "name": "stdout",
     "output_type": "stream",
     "text": [
      "[0, 1]\n"
     ]
    }
   ],
   "source": [
    "a = [0, 1, 2, 3, 4, 5]\n",
    "print(a[:2])"
   ]
  },
  {
   "cell_type": "code",
   "execution_count": 63,
   "metadata": {},
   "outputs": [
    {
     "name": "stdout",
     "output_type": "stream",
     "text": [
      "[0, 2, 4]\n"
     ]
    }
   ],
   "source": [
    "a = [0, 1, 2, 3, 4, 5]\n",
    "print(a[::2])"
   ]
  },
  {
   "cell_type": "code",
   "execution_count": 66,
   "metadata": {},
   "outputs": [
    {
     "name": "stdout",
     "output_type": "stream",
     "text": [
      "[5, 2]\n"
     ]
    }
   ],
   "source": [
    "a = [0, 1, 2, 3, 4, 5]\n",
    "print(a[::-3])"
   ]
  },
  {
   "cell_type": "code",
   "execution_count": 71,
   "metadata": {},
   "outputs": [
    {
     "name": "stdout",
     "output_type": "stream",
     "text": [
      "sato\n",
      "suzuki\n",
      "takahashi\n",
      "tanaka\n"
     ]
    }
   ],
   "source": [
    "a = [['sato', 'suzuki'], ['takahashi', 'tanaka']]\n",
    "print(a[0][0])\n",
    "print(a[0][1])\n",
    "print(a[1][0])\n",
    "print(a[1][1])"
   ]
  },
  {
   "cell_type": "code",
   "execution_count": 73,
   "metadata": {},
   "outputs": [
    {
     "name": "stdout",
     "output_type": "stream",
     "text": [
      "['sato', 'suzuki', 'takahashi', 'tanaka', 'sato']\n"
     ]
    }
   ],
   "source": [
    "a = ['sato', 'suzuki', 'takahashi']\n",
    "a += ['tanaka', 'sato']\n",
    "print(a)"
   ]
  },
  {
   "cell_type": "code",
   "execution_count": 79,
   "metadata": {},
   "outputs": [
    {
     "name": "stdout",
     "output_type": "stream",
     "text": [
      "['sato', 'suzuki', 'takahashi', 'sato', 'suzuki', 'takahashi']\n"
     ]
    }
   ],
   "source": [
    "a = ['sato','suzuki','takahashi']\n",
    "print(a * 2)"
   ]
  },
  {
   "cell_type": "code",
   "execution_count": 81,
   "metadata": {},
   "outputs": [
    {
     "name": "stdout",
     "output_type": "stream",
     "text": [
      "['sato', 'suzuki', 'takahashi', 'tanaka']\n"
     ]
    }
   ],
   "source": [
    "a = ['sato', 'suzuki', 'takahashi']\n",
    "a.append('tanaka')\n",
    "print(a)"
   ]
  },
  {
   "cell_type": "code",
   "execution_count": 84,
   "metadata": {},
   "outputs": [
    {
     "name": "stdout",
     "output_type": "stream",
     "text": [
      "['sato', 'suzuki', 'takahashi', ['tanaka', 'sasaki']]\n"
     ]
    }
   ],
   "source": [
    "a = ['sato', 'suzuki', 'takahashi']\n",
    "a.append(['tanaka', 'sasaki'])\n",
    "print(a)"
   ]
  },
  {
   "cell_type": "code",
   "execution_count": 86,
   "metadata": {},
   "outputs": [
    {
     "name": "stdout",
     "output_type": "stream",
     "text": [
      "['sato', 'suzuki', 'takahashi', 'tanaka', 'sasaki']\n"
     ]
    }
   ],
   "source": [
    "a = ['sato', 'suzuki', 'takahashi']\n",
    "a.extend(['tanaka', 'sasaki'])\n",
    "print(a)"
   ]
  },
  {
   "cell_type": "code",
   "execution_count": 87,
   "metadata": {},
   "outputs": [
    {
     "name": "stdout",
     "output_type": "stream",
     "text": [
      "['sato', 'suzuki', 'takahashi', 't', 'a', 'n', 'a', 'k', 'a']\n"
     ]
    }
   ],
   "source": [
    "a = ['sato', 'suzuki', 'takahashi']\n",
    "a.extend('tanaka')\n",
    "print(a)"
   ]
  },
  {
   "cell_type": "code",
   "execution_count": 91,
   "metadata": {},
   "outputs": [
    {
     "name": "stdout",
     "output_type": "stream",
     "text": [
      "['tanaka', 'sato', 'suzuki', 'takahashi']\n"
     ]
    }
   ],
   "source": [
    "a = ['sato', 'suzuki', 'takahashi']\n",
    "a.insert(0,'tanaka')\n",
    "print(a)"
   ]
  },
  {
   "cell_type": "code",
   "execution_count": 96,
   "metadata": {},
   "outputs": [
    {
     "data": {
      "text/plain": [
       "['sato', 'takahashi']"
      ]
     },
     "execution_count": 96,
     "metadata": {},
     "output_type": "execute_result"
    }
   ],
   "source": [
    "a = ['sato', 'suzuki', 'takahashi']\n",
    "del a[1]\n",
    "a"
   ]
  },
  {
   "cell_type": "code",
   "execution_count": 102,
   "metadata": {},
   "outputs": [
    {
     "name": "stdout",
     "output_type": "stream",
     "text": [
      "suzuki\n",
      "['sato', 'takahashi']\n"
     ]
    }
   ],
   "source": [
    "a = ['sato', 'suzuki', 'takahashi']\n",
    "a1 = a.pop(1)\n",
    "print(a1)\n",
    "print(a)"
   ]
  },
  {
   "cell_type": "code",
   "execution_count": 107,
   "metadata": {},
   "outputs": [
    {
     "name": "stdout",
     "output_type": "stream",
     "text": [
      "['sato', 'takahashi']\n"
     ]
    }
   ],
   "source": [
    "a = ['sato', 'suzuki', 'takahashi']\n",
    "a.remove('suzuki')\n",
    "print(a)"
   ]
  },
  {
   "cell_type": "code",
   "execution_count": 108,
   "metadata": {},
   "outputs": [
    {
     "name": "stdout",
     "output_type": "stream",
     "text": [
      "['sato', 'takahashi', 'suzuki']\n"
     ]
    }
   ],
   "source": [
    "a = ['sato', 'suzuki', 'takahashi', 'suzuki']\n",
    "a.remove('suzuki')\n",
    "print(a)"
   ]
  },
  {
   "cell_type": "code",
   "execution_count": 110,
   "metadata": {},
   "outputs": [
    {
     "name": "stdout",
     "output_type": "stream",
     "text": [
      "[]\n"
     ]
    }
   ],
   "source": [
    "a = ['sato', 'suzuki', 'takahashi']\n",
    "a.clear()\n",
    "print(a)"
   ]
  },
  {
   "cell_type": "code",
   "execution_count": 112,
   "metadata": {},
   "outputs": [
    {
     "name": "stdout",
     "output_type": "stream",
     "text": [
      "True\n",
      "False\n"
     ]
    }
   ],
   "source": [
    "a = ['sato', 'suzuki', 'takahashi']\n",
    "print('sato' in a)\n",
    "print('tanaka' in a)"
   ]
  },
  {
   "cell_type": "code",
   "execution_count": 114,
   "metadata": {},
   "outputs": [
    {
     "name": "stdout",
     "output_type": "stream",
     "text": [
      "2\n"
     ]
    }
   ],
   "source": [
    "a = ['sato', 'suzuki', 'takahashi', 'sato']\n",
    "print(a.count('sato'))"
   ]
  },
  {
   "cell_type": "code",
   "execution_count": 116,
   "metadata": {},
   "outputs": [
    {
     "name": "stdout",
     "output_type": "stream",
     "text": [
      "0\n"
     ]
    }
   ],
   "source": [
    "a = ['sato', 'suzuki', 'takahashi']\n",
    "print(a.index('sato'))"
   ]
  },
  {
   "cell_type": "code",
   "execution_count": 122,
   "metadata": {},
   "outputs": [
    {
     "name": "stdout",
     "output_type": "stream",
     "text": [
      "[1, 3, 5, 6, 8, 9]\n"
     ]
    }
   ],
   "source": [
    "a = [9, 5, 3, 1, 8, 6]\n",
    "a.sort()\n",
    "print(a)"
   ]
  },
  {
   "cell_type": "code",
   "execution_count": 123,
   "metadata": {},
   "outputs": [
    {
     "name": "stdout",
     "output_type": "stream",
     "text": [
      "['takahashi', 'suzuki', 'sato']\n"
     ]
    }
   ],
   "source": [
    "a = ['sato', 'suzuki', 'takahashi']\n",
    "a.reverse()\n",
    "print(a)"
   ]
  },
  {
   "cell_type": "code",
   "execution_count": 124,
   "metadata": {},
   "outputs": [
    {
     "name": "stdout",
     "output_type": "stream",
     "text": [
      "[9, 8, 6, 5, 3, 1]\n"
     ]
    }
   ],
   "source": [
    "a = [8, 5, 3, 1, 9, 6]\n",
    "a= sorted(a, reverse=True)\n",
    "print(a)"
   ]
  },
  {
   "cell_type": "code",
   "execution_count": 128,
   "metadata": {},
   "outputs": [
    {
     "name": "stdout",
     "output_type": "stream",
     "text": [
      "9\n",
      "1\n"
     ]
    }
   ],
   "source": [
    "a = [8, 5, 3, 1, 9, 6]\n",
    "print(max(a))\n",
    "print(min(a))"
   ]
  },
  {
   "cell_type": "code",
   "execution_count": 131,
   "metadata": {},
   "outputs": [
    {
     "name": "stdout",
     "output_type": "stream",
     "text": [
      "4\n"
     ]
    }
   ],
   "source": [
    "a = [8, 5, 3, 1, 9, 6]\n",
    "print(a.index(max(a)))"
   ]
  },
  {
   "cell_type": "code",
   "execution_count": 137,
   "metadata": {},
   "outputs": [
    {
     "name": "stdout",
     "output_type": "stream",
     "text": [
      "3\n"
     ]
    }
   ],
   "source": [
    "a = ['sato', 'suzuki', 'takahashi']\n",
    "print(len(a))"
   ]
  },
  {
   "cell_type": "markdown",
   "metadata": {},
   "source": [
    "## タプル\n"
   ]
  },
  {
   "cell_type": "code",
   "execution_count": 138,
   "metadata": {},
   "outputs": [
    {
     "name": "stdout",
     "output_type": "stream",
     "text": [
      "('sato', 'suzuki', 'takahashi')\n"
     ]
    }
   ],
   "source": [
    "a = ('sato', 'suzuki', 'takahashi')\n",
    "print(a)"
   ]
  },
  {
   "cell_type": "code",
   "execution_count": 140,
   "metadata": {},
   "outputs": [
    {
     "name": "stdout",
     "output_type": "stream",
     "text": [
      "sato\n",
      "suzuki\n",
      "takahashi\n"
     ]
    }
   ],
   "source": [
    "a = ('sato', 'suzuki', 'takahashi')\n",
    "print(a[0])\n",
    "print(a[1])\n",
    "print(a[2])"
   ]
  },
  {
   "cell_type": "code",
   "execution_count": 143,
   "metadata": {},
   "outputs": [
    {
     "name": "stdout",
     "output_type": "stream",
     "text": [
      "('suzuki', 'takahashi')\n"
     ]
    }
   ],
   "source": [
    "a = ('sato', 'suzuki', 'takahashi')\n",
    "print(a[1:3])"
   ]
  },
  {
   "cell_type": "code",
   "execution_count": 148,
   "metadata": {},
   "outputs": [
    {
     "name": "stdout",
     "output_type": "stream",
     "text": [
      "('sato', 'takahashi')\n"
     ]
    }
   ],
   "source": [
    "a = ('sato', 'suzuki', 'takahashi')\n",
    "print(a[::2])"
   ]
  },
  {
   "cell_type": "code",
   "execution_count": 149,
   "metadata": {},
   "outputs": [
    {
     "name": "stdout",
     "output_type": "stream",
     "text": [
      "sato\n",
      "suzuki\n",
      "takahashi\n",
      "tanaka\n"
     ]
    }
   ],
   "source": [
    "a = (('sato', 'suzuki'), ('takahashi', 'tanaka'))\n",
    "print(a[0][0])\n",
    "print(a[0][1])\n",
    "print(a[1][0])\n",
    "print(a[1][1])"
   ]
  },
  {
   "cell_type": "code",
   "execution_count": 150,
   "metadata": {},
   "outputs": [
    {
     "name": "stdout",
     "output_type": "stream",
     "text": [
      "('sato', 'suzuki', 'takahashi', 'tanaka', 'sato')\n"
     ]
    }
   ],
   "source": [
    "a = ('sato', 'suzuki', 'takahashi')\n",
    "print(a + ('tanaka', 'sato'))"
   ]
  },
  {
   "cell_type": "code",
   "execution_count": 153,
   "metadata": {},
   "outputs": [
    {
     "name": "stdout",
     "output_type": "stream",
     "text": [
      "('sato', 'suzuki', 'takahashi', 'sato', 'suzuki', 'takahashi')\n"
     ]
    }
   ],
   "source": [
    "a = ('sato', 'suzuki', 'takahashi')\n",
    "a = a * 2\n",
    "print(a)"
   ]
  },
  {
   "cell_type": "code",
   "execution_count": 154,
   "metadata": {},
   "outputs": [
    {
     "name": "stdout",
     "output_type": "stream",
     "text": [
      "0\n"
     ]
    }
   ],
   "source": [
    "a = ('sato', 'suzuki', 'takahashi')\n",
    "print(a.index('sato'))"
   ]
  },
  {
   "cell_type": "code",
   "execution_count": 155,
   "metadata": {},
   "outputs": [
    {
     "name": "stdout",
     "output_type": "stream",
     "text": [
      "2\n"
     ]
    }
   ],
   "source": [
    "a = ('sato', 'suzuki', 'takahashi', 'sato')\n",
    "print(a.count('sato'))"
   ]
  },
  {
   "cell_type": "code",
   "execution_count": 156,
   "metadata": {},
   "outputs": [
    {
     "name": "stdout",
     "output_type": "stream",
     "text": [
      "True\n",
      "False\n"
     ]
    }
   ],
   "source": [
    "a = ('sato', 'suzuki', 'takahashi')\n",
    "print('sato' in a)\n",
    "print('tanaka' in a)"
   ]
  },
  {
   "cell_type": "code",
   "execution_count": 164,
   "metadata": {},
   "outputs": [
    {
     "name": "stdout",
     "output_type": "stream",
     "text": [
      "(2017, 2058, 2163, 2244, 2349, 2504)\n"
     ]
    }
   ],
   "source": [
    "a = (2349, 2244, 2017, 2163, 2504, 2058)\n",
    "a = sorted(a)\n",
    "a = tuple(a)\n",
    "print(a)"
   ]
  },
  {
   "cell_type": "code",
   "execution_count": 165,
   "metadata": {},
   "outputs": [
    {
     "name": "stdout",
     "output_type": "stream",
     "text": [
      "(2504, 2349, 2244, 2163, 2058, 2017)\n"
     ]
    }
   ],
   "source": [
    "a = (2349, 2244, 2017, 2163, 2504, 2058)\n",
    "a = sorted(a, reverse=True)\n",
    "a = tuple(a)\n",
    "print(a)"
   ]
  },
  {
   "cell_type": "code",
   "execution_count": 168,
   "metadata": {},
   "outputs": [
    {
     "name": "stdout",
     "output_type": "stream",
     "text": [
      "2504\n",
      "2017\n"
     ]
    }
   ],
   "source": [
    "a = (2349, 2244, 2017, 2163, 2504, 2058)\n",
    "print(max(a))\n",
    "print(min(a))"
   ]
  },
  {
   "cell_type": "markdown",
   "metadata": {},
   "source": [
    "## 辞書"
   ]
  },
  {
   "cell_type": "code",
   "execution_count": 187,
   "metadata": {},
   "outputs": [
    {
     "name": "stdout",
     "output_type": "stream",
     "text": [
      "{'リンゴ': 10, 'オレンジ': 20, 'バナナ': 30}\n"
     ]
    }
   ],
   "source": [
    "d = {'リンゴ': 10, 'オレンジ': 20, 'バナナ': 30}\n",
    "print(d)"
   ]
  },
  {
   "cell_type": "code",
   "execution_count": 188,
   "metadata": {},
   "outputs": [
    {
     "name": "stdout",
     "output_type": "stream",
     "text": [
      "<class 'dict'>\n"
     ]
    }
   ],
   "source": [
    "d = {'リンゴ': 10, 'オレンジ': 20, 'バナナ': 30}\n",
    "print(type(d))"
   ]
  },
  {
   "cell_type": "code",
   "execution_count": null,
   "metadata": {},
   "outputs": [],
   "source": [
    "d = dict(リンゴ=10, オレンジ=20, バナナ=30)\n",
    "print(d)\n",
    "print(type(d))"
   ]
  },
  {
   "cell_type": "code",
   "execution_count": null,
   "metadata": {},
   "outputs": [],
   "source": [
    "d = dict([['リンゴ', 10], ['オレンジ', 20], ['バナナ', 30]])\n",
    "print(d)\n",
    "print(type(d))"
   ]
  },
  {
   "cell_type": "code",
   "execution_count": 190,
   "metadata": {},
   "outputs": [
    {
     "name": "stdout",
     "output_type": "stream",
     "text": [
      "{'リンゴ': 40, 'オレンジ': 20, 'バナナ': 30}\n"
     ]
    }
   ],
   "source": [
    "d = {'リンゴ': 10, 'オレンジ': 20, 'バナナ': 30}\n",
    "d['リンゴ'] = 40\n",
    "print(d)"
   ]
  },
  {
   "cell_type": "code",
   "execution_count": 192,
   "metadata": {},
   "outputs": [
    {
     "name": "stdout",
     "output_type": "stream",
     "text": [
      "dict_keys(['リンゴ', 'オレンジ', 'バナナ'])\n"
     ]
    }
   ],
   "source": [
    "d = {'リンゴ': 10, 'オレンジ': 20, 'バナナ': 30}\n",
    "print(d.keys())"
   ]
  },
  {
   "cell_type": "code",
   "execution_count": 193,
   "metadata": {},
   "outputs": [
    {
     "name": "stdout",
     "output_type": "stream",
     "text": [
      "dict_values([10, 20, 30])\n"
     ]
    }
   ],
   "source": [
    "d = {'リンゴ': 10, 'オレンジ': 20, 'バナナ': 30}\n",
    "print(d.values())"
   ]
  },
  {
   "cell_type": "code",
   "execution_count": 194,
   "metadata": {},
   "outputs": [
    {
     "name": "stdout",
     "output_type": "stream",
     "text": [
      "10\n"
     ]
    }
   ],
   "source": [
    "d = {'リンゴ': 10, 'オレンジ': 20, 'バナナ': 30}\n",
    "print(d['リンゴ'])"
   ]
  },
  {
   "cell_type": "code",
   "execution_count": 196,
   "metadata": {},
   "outputs": [
    {
     "name": "stdout",
     "output_type": "stream",
     "text": [
      "{'リンゴ': 10, 'オレンジ': 20, 'バナナ': 100}\n"
     ]
    }
   ],
   "source": [
    "d = {'リンゴ': 10, 'オレンジ': 20, 'バナナ': 30}\n",
    "d['バナナ'] = 100\n",
    "print(d)"
   ]
  },
  {
   "cell_type": "code",
   "execution_count": 199,
   "metadata": {},
   "outputs": [
    {
     "name": "stdout",
     "output_type": "stream",
     "text": [
      "{'リンゴ': 10, 'オレンジ': 20, 'バナナ': 30, 'スイカ': 40}\n"
     ]
    }
   ],
   "source": [
    "d = {'リンゴ': 10, 'オレンジ': 20, 'バナナ': 30}\n",
    "d['スイカ'] = 40\n",
    "print(d)"
   ]
  },
  {
   "cell_type": "code",
   "execution_count": 200,
   "metadata": {},
   "outputs": [
    {
     "name": "stdout",
     "output_type": "stream",
     "text": [
      "{'リンゴ': 10, 'オレンジ': 20, 'バナナ': 30, 'スイカ': 40, 'メロン': 50}\n"
     ]
    }
   ],
   "source": [
    "d1 = {'リンゴ': 10, 'オレンジ': 20, 'バナナ': 30}\n",
    "d2 = {'スイカ': 40, 'メロン': 50}\n",
    "d1.update(d2)\n",
    "print(d1)"
   ]
  },
  {
   "cell_type": "code",
   "execution_count": 201,
   "metadata": {},
   "outputs": [
    {
     "name": "stdout",
     "output_type": "stream",
     "text": [
      "{'リンゴ': 10, 'オレンジ': 20}\n"
     ]
    }
   ],
   "source": [
    "d = {'リンゴ': 10, 'オレンジ': 20, 'バナナ': 30}\n",
    "del d['バナナ']\n",
    "print(d)"
   ]
  },
  {
   "cell_type": "code",
   "execution_count": 205,
   "metadata": {},
   "outputs": [
    {
     "name": "stdout",
     "output_type": "stream",
     "text": [
      "{'オレンジ': 20}\n"
     ]
    }
   ],
   "source": [
    "d = {'リンゴ': 10, 'オレンジ': 20, 'バナナ': 30}\n",
    "del d['リンゴ'], d['バナナ']\n",
    "print(d)"
   ]
  },
  {
   "cell_type": "code",
   "execution_count": 206,
   "metadata": {},
   "outputs": [
    {
     "data": {
      "text/plain": [
       "30"
      ]
     },
     "execution_count": 206,
     "metadata": {},
     "output_type": "execute_result"
    }
   ],
   "source": [
    "d = {'リンゴ': 10, 'オレンジ': 20, 'バナナ': 30}\n",
    "d.pop('バナナ')"
   ]
  },
  {
   "cell_type": "code",
   "execution_count": 207,
   "metadata": {},
   "outputs": [
    {
     "name": "stdout",
     "output_type": "stream",
     "text": [
      "{'リンゴ': 10, 'オレンジ': 20}\n"
     ]
    }
   ],
   "source": [
    "print(d)"
   ]
  },
  {
   "cell_type": "code",
   "execution_count": 210,
   "metadata": {},
   "outputs": [
    {
     "name": "stdout",
     "output_type": "stream",
     "text": [
      "{}\n"
     ]
    }
   ],
   "source": [
    "d = {'リンゴ': 10, 'オレンジ': 20, 'バナナ': 30}\n",
    "d.clear()\n",
    "print(d)"
   ]
  },
  {
   "cell_type": "code",
   "execution_count": 211,
   "metadata": {},
   "outputs": [
    {
     "name": "stdout",
     "output_type": "stream",
     "text": [
      "True\n"
     ]
    }
   ],
   "source": [
    "d = {'リンゴ': 10, 'オレンジ': 20, 'バナナ': 30}\n",
    "print('リンゴ' in d)"
   ]
  },
  {
   "cell_type": "code",
   "execution_count": 213,
   "metadata": {},
   "outputs": [
    {
     "name": "stdout",
     "output_type": "stream",
     "text": [
      "True\n"
     ]
    }
   ],
   "source": [
    "d = {'リンゴ': 10, 'オレンジ': 20, 'バナナ': 30}\n",
    "x = 'リンゴ'\n",
    "print(x in d)"
   ]
  },
  {
   "cell_type": "markdown",
   "metadata": {},
   "source": [
    "## 集合"
   ]
  },
  {
   "cell_type": "code",
   "execution_count": 214,
   "metadata": {},
   "outputs": [
    {
     "name": "stdout",
     "output_type": "stream",
     "text": [
      "{0, 1, 2, 3}\n"
     ]
    }
   ],
   "source": [
    "s = {0, 2, 1, 1, 2, 3, 1}\n",
    "print(s)"
   ]
  },
  {
   "cell_type": "code",
   "execution_count": 215,
   "metadata": {},
   "outputs": [
    {
     "name": "stdout",
     "output_type": "stream",
     "text": [
      "<class 'set'>\n"
     ]
    }
   ],
   "source": [
    "s = {0, 2, 1, 1, 2, 3, 1}\n",
    "print(type(s))"
   ]
  },
  {
   "cell_type": "code",
   "execution_count": 216,
   "metadata": {},
   "outputs": [
    {
     "name": "stdout",
     "output_type": "stream",
     "text": [
      "{1.23, 123, (1, 2, 3)}\n"
     ]
    }
   ],
   "source": [
    "s = {123, 1.23, (1, 2, 3), 123, 1.23}\n",
    "print(s)"
   ]
  },
  {
   "cell_type": "code",
   "execution_count": 217,
   "metadata": {},
   "outputs": [
    {
     "name": "stdout",
     "output_type": "stream",
     "text": [
      "{0, 1, 2, 3}\n"
     ]
    }
   ],
   "source": [
    "a = set([0, 2, 1, 1, 2, 3, 1])\n",
    "print(a)"
   ]
  },
  {
   "cell_type": "code",
   "execution_count": 220,
   "metadata": {},
   "outputs": [
    {
     "name": "stdout",
     "output_type": "stream",
     "text": [
      "<class 'set'>\n"
     ]
    }
   ],
   "source": [
    "s1 = set()\n",
    "print(type(s1))"
   ]
  },
  {
   "cell_type": "code",
   "execution_count": 221,
   "metadata": {},
   "outputs": [
    {
     "name": "stdout",
     "output_type": "stream",
     "text": [
      "{0, 1, 2, 3}\n"
     ]
    }
   ],
   "source": [
    "s = {0, 1, 2}\n",
    "s.add(3)\n",
    "print(s)"
   ]
  },
  {
   "cell_type": "code",
   "execution_count": 223,
   "metadata": {},
   "outputs": [
    {
     "name": "stdout",
     "output_type": "stream",
     "text": [
      "{0, 2}\n"
     ]
    }
   ],
   "source": [
    "s = {0, 1, 2}\n",
    "s.remove(1)\n",
    "print(s)"
   ]
  },
  {
   "cell_type": "code",
   "execution_count": 224,
   "metadata": {},
   "outputs": [
    {
     "name": "stdout",
     "output_type": "stream",
     "text": [
      "set()\n"
     ]
    }
   ],
   "source": [
    "s = {0, 1, 2}\n",
    "s.clear()\n",
    "print(s)"
   ]
  },
  {
   "cell_type": "code",
   "execution_count": 225,
   "metadata": {},
   "outputs": [
    {
     "name": "stdout",
     "output_type": "stream",
     "text": [
      "frozenset({0, 1, 2, 3})\n"
     ]
    }
   ],
   "source": [
    "a = [0, 2, 1, 1, 2, 3, 1]\n",
    "s = frozenset(a)\n",
    "print(s)"
   ]
  },
  {
   "cell_type": "code",
   "execution_count": 226,
   "metadata": {},
   "outputs": [
    {
     "name": "stdout",
     "output_type": "stream",
     "text": [
      "{0, 1, 2, 3}\n"
     ]
    }
   ],
   "source": [
    "s1 = {0, 1, 2}\n",
    "s2 = {1, 2, 3}\n",
    "print(s1 | s2)"
   ]
  },
  {
   "cell_type": "code",
   "execution_count": 227,
   "metadata": {},
   "outputs": [
    {
     "name": "stdout",
     "output_type": "stream",
     "text": [
      "{2}\n"
     ]
    }
   ],
   "source": [
    "s1 = {0, 1, 2}\n",
    "s2 = {1, 2, 3}\n",
    "s3 = {2, 3, 4}\n",
    "print(s1 & s2 & s3)"
   ]
  },
  {
   "cell_type": "code",
   "execution_count": 229,
   "metadata": {},
   "outputs": [
    {
     "name": "stdout",
     "output_type": "stream",
     "text": [
      "{0}\n"
     ]
    }
   ],
   "source": [
    "s1 = {0, 1, 2}\n",
    "s2 = {1, 2, 3}\n",
    "print(s1 - s2)\n"
   ]
  },
  {
   "cell_type": "code",
   "execution_count": 230,
   "metadata": {},
   "outputs": [
    {
     "name": "stdout",
     "output_type": "stream",
     "text": [
      "{0, 3}\n"
     ]
    }
   ],
   "source": [
    "# 2つの集合の対称差集合\n",
    "s1 = {0, 1, 2}\n",
    "s2 = {1, 2, 3}\n",
    "print(s1 ^ s2)"
   ]
  },
  {
   "cell_type": "code",
   "execution_count": 231,
   "metadata": {},
   "outputs": [
    {
     "name": "stdout",
     "output_type": "stream",
     "text": [
      "True\n"
     ]
    }
   ],
   "source": [
    "s1 = {0, 1, 2}\n",
    "s2 = {0, 1, 2, 3, 4}\n",
    "print(s1 <= s2)"
   ]
  },
  {
   "cell_type": "code",
   "execution_count": 233,
   "metadata": {},
   "outputs": [
    {
     "name": "stdout",
     "output_type": "stream",
     "text": [
      "False\n",
      "True\n"
     ]
    }
   ],
   "source": [
    "s1 = {0, 1, 2}\n",
    "s2 = {0, 1, 2, 3, 4}\n",
    "s3 = {2, 1, 0}\n",
    "print(s1 == s2)\n",
    "print(s1 == s3)"
   ]
  },
  {
   "cell_type": "code",
   "execution_count": 234,
   "metadata": {},
   "outputs": [
    {
     "name": "stdout",
     "output_type": "stream",
     "text": [
      "True\n",
      "False\n"
     ]
    }
   ],
   "source": [
    "# 真部分集合\n",
    "s1 = {0, 1, 2}\n",
    "s2 = {0, 1, 2, 3, 4}\n",
    "s3 = {2, 1, 0}\n",
    "print(s1 < s2)\n",
    "print(s1 < s3)\n"
   ]
  },
  {
   "cell_type": "code",
   "execution_count": 235,
   "metadata": {},
   "outputs": [
    {
     "name": "stdout",
     "output_type": "stream",
     "text": [
      "True\n",
      "False\n"
     ]
    }
   ],
   "source": [
    "# 集合Aと集合Bが互いに素かどうか確認（集合Aの要素と集合Bの要素が一つも一致しない)\n",
    "s1 = {0, 1, 2}\n",
    "s2 = {3, 4, 5}\n",
    "s3 = {2, 3, 4}\n",
    "print(s1.isdisjoint(s2))\n",
    "print(s1.isdisjoint(s3))"
   ]
  },
  {
   "cell_type": "code",
   "execution_count": 236,
   "metadata": {},
   "outputs": [
    {
     "name": "stdout",
     "output_type": "stream",
     "text": [
      "True\n",
      "False\n"
     ]
    }
   ],
   "source": [
    "s = {1, 2, 3, 4, 5}\n",
    "print(1 in s)\n",
    "print(0 in s)"
   ]
  },
  {
   "cell_type": "code",
   "execution_count": 237,
   "metadata": {},
   "outputs": [
    {
     "name": "stdout",
     "output_type": "stream",
     "text": [
      "1\n",
      "2\n",
      "3\n",
      "4\n"
     ]
    }
   ],
   "source": [
    "s = {4, 3, 2, 1}\n",
    "for i in s:\n",
    "    print(i)"
   ]
  },
  {
   "cell_type": "code",
   "execution_count": 239,
   "metadata": {},
   "outputs": [
    {
     "name": "stdout",
     "output_type": "stream",
     "text": [
      "1\n"
     ]
    }
   ],
   "source": [
    "s = {1, 2, 3, 4}\n",
    "l = list(s)\n",
    "print(l[0])"
   ]
  },
  {
   "cell_type": "markdown",
   "metadata": {},
   "source": [
    "## 演算子"
   ]
  },
  {
   "cell_type": "code",
   "execution_count": 245,
   "metadata": {},
   "outputs": [
    {
     "name": "stdout",
     "output_type": "stream",
     "text": [
      "12\n",
      "8\n",
      "20\n",
      "5.0\n",
      "0\n"
     ]
    }
   ],
   "source": [
    "x, y = 10, 2\n",
    "print(x + y)\n",
    "print(x - y)\n",
    "print(x * y)\n",
    "print(x / y)\n",
    "print(x % y)"
   ]
  },
  {
   "cell_type": "code",
   "execution_count": 246,
   "metadata": {},
   "outputs": [
    {
     "name": "stdout",
     "output_type": "stream",
     "text": [
      "True\n"
     ]
    }
   ],
   "source": [
    "x, y = 10, 2\n",
    "print(x > y)"
   ]
  },
  {
   "cell_type": "code",
   "execution_count": 247,
   "metadata": {},
   "outputs": [
    {
     "name": "stdout",
     "output_type": "stream",
     "text": [
      "False\n"
     ]
    }
   ],
   "source": [
    "x, y = 10, 2\n",
    "print(x < y)"
   ]
  },
  {
   "cell_type": "code",
   "execution_count": 249,
   "metadata": {},
   "outputs": [
    {
     "name": "stdout",
     "output_type": "stream",
     "text": [
      "False\n",
      "True\n"
     ]
    }
   ],
   "source": [
    "x, y, z = 10, 2, 10\n",
    "print(x <= y)\n",
    "print(x >= z)"
   ]
  },
  {
   "cell_type": "code",
   "execution_count": 250,
   "metadata": {},
   "outputs": [
    {
     "name": "stdout",
     "output_type": "stream",
     "text": [
      "False\n"
     ]
    }
   ],
   "source": [
    "x, y = 10, 2\n",
    "print(x == y)"
   ]
  },
  {
   "cell_type": "code",
   "execution_count": 252,
   "metadata": {},
   "outputs": [
    {
     "name": "stdout",
     "output_type": "stream",
     "text": [
      "True\n",
      "False\n"
     ]
    }
   ],
   "source": [
    "x, y = 8, 3\n",
    "print(5 <= x <= 10)\n",
    "print(5 <= y <= 10)"
   ]
  },
  {
   "cell_type": "code",
   "execution_count": 253,
   "metadata": {},
   "outputs": [
    {
     "name": "stdout",
     "output_type": "stream",
     "text": [
      "True\n",
      "False\n"
     ]
    }
   ],
   "source": [
    "x, y = 8, 3\n",
    "print(x == 3 or y == 3)\n",
    "print(x == 1 or y == 1)"
   ]
  },
  {
   "cell_type": "code",
   "execution_count": 254,
   "metadata": {},
   "outputs": [
    {
     "name": "stdout",
     "output_type": "stream",
     "text": [
      "x：18\n",
      "z：32\n"
     ]
    }
   ],
   "source": [
    "x, y, z = 8, 12, 20\n",
    "x += 10\n",
    "z += y\n",
    "print(f'x：{x}')\n",
    "print(f'z：{z}')"
   ]
  },
  {
   "cell_type": "code",
   "execution_count": 255,
   "metadata": {},
   "outputs": [
    {
     "name": "stdout",
     "output_type": "stream",
     "text": [
      "True\n",
      "True\n",
      "1638601448896\n",
      "1638601456384\n",
      "1638601448896\n"
     ]
    }
   ],
   "source": [
    "l1 = [1, 2, 3, 4, 5]\n",
    "l2 = [1, 2, 3, 4, 5]\n",
    "l3 = l1\n",
    "print(l1 == l2)\n",
    "print(l1 == l3)\n",
    "print(id(l1))\n",
    "print(id(l2))\n",
    "print(id(l3))\n"
   ]
  },
  {
   "cell_type": "code",
   "execution_count": 257,
   "metadata": {},
   "outputs": [
    {
     "name": "stdout",
     "output_type": "stream",
     "text": [
      "False\n",
      "True\n",
      "1638601450688\n",
      "1638601636416\n",
      "1638601450688\n"
     ]
    }
   ],
   "source": [
    "l1 = [1, 2, 3, 4, 5]\n",
    "l2 = [1, 2, 3, 4, 5]\n",
    "l3 = l1\n",
    "print(l1 is l2)\n",
    "print(l1 is l3)\n",
    "print(id(l1))\n",
    "print(id(l2))\n",
    "print(id(l3))"
   ]
  },
  {
   "cell_type": "code",
   "execution_count": 263,
   "metadata": {},
   "outputs": [
    {
     "name": "stdout",
     "output_type": "stream",
     "text": [
      "[1, 2, 3, 4, 5] 1638600899136\n",
      "[1, 2, 3, 4, 5, 6] 1638600899136\n",
      "[1, 2, 3, 4, 5]\n",
      "[1, 2, 3, 4, 5, 6]\n"
     ]
    }
   ],
   "source": [
    "l1 = [1, 2, 3, 4, 5]\n",
    "l2 = [1, 2, 3, 4, 5]\n",
    "l3 = l1\n",
    "print(l1, id(l1))\n",
    "l1.append(6)\n",
    "print(l1, id(l1))\n",
    "print(l2)\n",
    "print(l3)\n"
   ]
  },
  {
   "cell_type": "code",
   "execution_count": 265,
   "metadata": {},
   "outputs": [
    {
     "name": "stdout",
     "output_type": "stream",
     "text": [
      "True\n",
      "False\n"
     ]
    }
   ],
   "source": [
    "l1 = [1, 2, 3, 4, 5]\n",
    "l2 = [1, 2, 3, 4, 5]\n",
    "l3 = l1\n",
    "print(l1 is not l2)\n",
    "print(l1 is not l3)"
   ]
  },
  {
   "cell_type": "code",
   "execution_count": 266,
   "metadata": {},
   "outputs": [
    {
     "name": "stdout",
     "output_type": "stream",
     "text": [
      "True\n",
      "False\n"
     ]
    }
   ],
   "source": [
    "l = ['Yamada', 'Sato', 'Takahashi']\n",
    "print('Yamada' in l)\n",
    "print('Suzuki' in l)"
   ]
  },
  {
   "cell_type": "code",
   "execution_count": 267,
   "metadata": {},
   "outputs": [
    {
     "name": "stdout",
     "output_type": "stream",
     "text": [
      "False\n",
      "True\n"
     ]
    }
   ],
   "source": [
    "l = ['Yamada', 'Sato', 'Takahashi']\n",
    "print('Yamada' not in l)\n",
    "print('Suzuki' not in l)"
   ]
  },
  {
   "cell_type": "code",
   "execution_count": 270,
   "metadata": {},
   "outputs": [
    {
     "name": "stdout",
     "output_type": "stream",
     "text": [
      "2\n",
      "4\n",
      "10\n"
     ]
    }
   ],
   "source": [
    "# 2進数を10進数に\n",
    "print(0b10)\n",
    "print(0b100)\n",
    "print(0b1010)"
   ]
  },
  {
   "cell_type": "code",
   "execution_count": 273,
   "metadata": {},
   "outputs": [
    {
     "name": "stdout",
     "output_type": "stream",
     "text": [
      "0b10\n",
      "0b1000\n",
      "0b1010\n"
     ]
    }
   ],
   "source": [
    "# 10進数を2進数に変換\n",
    "print(bin(2))\n",
    "print(bin(8))\n",
    "print(bin(10))"
   ]
  },
  {
   "cell_type": "markdown",
   "metadata": {},
   "source": [
    "## 条件分岐"
   ]
  },
  {
   "cell_type": "code",
   "execution_count": 275,
   "metadata": {},
   "outputs": [
    {
     "name": "stdout",
     "output_type": "stream",
     "text": [
      "adult\n"
     ]
    }
   ],
   "source": [
    "age = 22\n",
    "if age >= 20:\n",
    "    print('adult')"
   ]
  },
  {
   "cell_type": "code",
   "execution_count": 279,
   "metadata": {},
   "outputs": [
    {
     "name": "stdout",
     "output_type": "stream",
     "text": [
      "child\n"
     ]
    }
   ],
   "source": [
    "# 変数ageの値が20以上の場合は'adult'、それ以外の場合は'child'と表示する条件分岐を記述\n",
    "age = 18\n",
    "print ('adult' if age >= 20 else 'child')"
   ]
  },
  {
   "cell_type": "code",
   "execution_count": 280,
   "metadata": {},
   "outputs": [
    {
     "name": "stdout",
     "output_type": "stream",
     "text": [
      "adult\n"
     ]
    }
   ],
   "source": [
    "age = 22\n",
    "print ('adult' if age >= 20 else 'child')"
   ]
  },
  {
   "cell_type": "code",
   "execution_count": 281,
   "metadata": {},
   "outputs": [
    {
     "name": "stdout",
     "output_type": "stream",
     "text": [
      "baby\n"
     ]
    }
   ],
   "source": [
    "age = 0\n",
    "if age >= 20:\n",
    "    print('adult')\n",
    "elif age == 0:\n",
    "    print('baby')\n",
    "else:\n",
    "    print('child')"
   ]
  },
  {
   "cell_type": "code",
   "execution_count": 282,
   "metadata": {},
   "outputs": [
    {
     "name": "stdout",
     "output_type": "stream",
     "text": [
      "6の倍数です\n"
     ]
    }
   ],
   "source": [
    "number = 24\n",
    "if number % 2 == 0 and number % 3 == 0:\n",
    "    print('6の倍数です')\n",
    "elif number % 2 == 0 and number % 3 != 0:\n",
    "    print('2の倍数です')\n",
    "elif number % 2 != 0 and number % 3 ==0:\n",
    "    print('3の倍数です')\n",
    "else:\n",
    "    print('2と3の倍数ではありません')"
   ]
  },
  {
   "cell_type": "code",
   "execution_count": 284,
   "metadata": {},
   "outputs": [
    {
     "name": "stdout",
     "output_type": "stream",
     "text": [
      "みかん\n"
     ]
    }
   ],
   "source": [
    "fruit = 'orange'\n",
    "if fruit == 'apple':\n",
    "    print('りんご')\n",
    "elif fruit == 'orange':\n",
    "    print('みかん')\n",
    "elif fruit == 'grape':\n",
    "    print('ぶどう')\n",
    "elif fruit == 'peach':\n",
    "    print('もも')\n",
    "else:\n",
    "    print('その他の果物')"
   ]
  },
  {
   "cell_type": "code",
   "execution_count": 285,
   "metadata": {},
   "outputs": [
    {
     "name": "stdout",
     "output_type": "stream",
     "text": [
      "child\n"
     ]
    }
   ],
   "source": [
    "age = 18\n",
    "print ('adult' if age >= 20 else 'child')"
   ]
  },
  {
   "cell_type": "markdown",
   "metadata": {},
   "source": [
    "## 繰り返し"
   ]
  },
  {
   "cell_type": "code",
   "execution_count": 287,
   "metadata": {},
   "outputs": [
    {
     "name": "stdout",
     "output_type": "stream",
     "text": [
      "0\n",
      "1\n",
      "2\n",
      "3\n",
      "4\n"
     ]
    }
   ],
   "source": [
    "nums = [0, 1, 2, 3, 4]\n",
    "for i in nums:\n",
    "    print(i)"
   ]
  },
  {
   "cell_type": "code",
   "execution_count": 288,
   "metadata": {},
   "outputs": [
    {
     "name": "stdout",
     "output_type": "stream",
     "text": [
      "0\n",
      "1\n",
      "2\n",
      "3\n",
      "4\n"
     ]
    }
   ],
   "source": [
    "for i in range(5):\n",
    "    print(i)"
   ]
  },
  {
   "cell_type": "code",
   "execution_count": 289,
   "metadata": {},
   "outputs": [
    {
     "name": "stdout",
     "output_type": "stream",
     "text": [
      "0\n",
      "1\n",
      "2\n"
     ]
    }
   ],
   "source": [
    "for i in range(5):\n",
    "    if i == 3:\n",
    "        break\n",
    "    print(i)"
   ]
  },
  {
   "cell_type": "code",
   "execution_count": 290,
   "metadata": {},
   "outputs": [
    {
     "name": "stdout",
     "output_type": "stream",
     "text": [
      "0\n",
      "1\n",
      "2\n",
      "4\n"
     ]
    }
   ],
   "source": [
    "for i in range(5):\n",
    "    if i == 3:\n",
    "        continue\n",
    "    print(i)"
   ]
  },
  {
   "cell_type": "code",
   "execution_count": 291,
   "metadata": {},
   "outputs": [
    {
     "name": "stdout",
     "output_type": "stream",
     "text": [
      "0-0\n",
      "0-1\n",
      "0-2\n",
      "1-0\n",
      "1-1\n",
      "1-2\n",
      "2-0\n",
      "2-1\n",
      "2-2\n"
     ]
    }
   ],
   "source": [
    "for i in range(3):\n",
    "    for j in range(3):\n",
    "        print(f'{i}-{j}')"
   ]
  },
  {
   "cell_type": "code",
   "execution_count": 292,
   "metadata": {},
   "outputs": [
    {
     "name": "stdout",
     "output_type": "stream",
     "text": [
      "Tokyo\n",
      "Osaka\n",
      "Nagoya\n"
     ]
    }
   ],
   "source": [
    "\n",
    "prefectures = ['Tokyo', 'Osaka', 'Nagoya']\n",
    "for i in prefectures:\n",
    "    print(i)"
   ]
  },
  {
   "cell_type": "code",
   "execution_count": 298,
   "metadata": {},
   "outputs": [
    {
     "name": "stdout",
     "output_type": "stream",
     "text": [
      "30\n"
     ]
    }
   ],
   "source": [
    "arr = [2, 4, 6, 8, 10]\n",
    "total_sum = 0\n",
    "for i in arr:\n",
    "    total_sum += i\n",
    "print(total_sum)"
   ]
  },
  {
   "cell_type": "code",
   "execution_count": 1,
   "metadata": {},
   "outputs": [
    {
     "name": "stdout",
     "output_type": "stream",
     "text": [
      "0\n",
      "1\n",
      "2\n",
      "3\n",
      "4\n"
     ]
    }
   ],
   "source": [
    "num = 0\n",
    "while num < 5:\n",
    "    print(num)\n",
    "    num += 1"
   ]
  },
  {
   "cell_type": "code",
   "execution_count": 3,
   "metadata": {},
   "outputs": [
    {
     "name": "stdout",
     "output_type": "stream",
     "text": [
      "1\n",
      "2\n",
      "4\n",
      "8\n",
      "16\n",
      "32\n",
      "64\n",
      "Finish\n"
     ]
    }
   ],
   "source": [
    "num = 1\n",
    "while num < 100:\n",
    "    print(num)\n",
    "    num = num *2\n",
    "print(\"Finish\")"
   ]
  },
  {
   "cell_type": "code",
   "execution_count": 4,
   "metadata": {},
   "outputs": [
    {
     "name": "stdout",
     "output_type": "stream",
     "text": [
      "200\n",
      "Finish\n"
     ]
    }
   ],
   "source": [
    "num = 200\n",
    "while True:\n",
    "    print(num)\n",
    "    num = num * 2\n",
    "    if num > 100:\n",
    "        break\n",
    "print(\"Finish\")"
   ]
  },
  {
   "cell_type": "markdown",
   "metadata": {},
   "source": [
    "## 文字列"
   ]
  },
  {
   "cell_type": "code",
   "execution_count": 6,
   "metadata": {},
   "outputs": [
    {
     "name": "stdout",
     "output_type": "stream",
     "text": [
      "abcde <class 'str'>\n",
      "あいうえお <class 'str'>\n",
      "12345 <class 'str'>\n"
     ]
    }
   ],
   "source": [
    "a = 'abcde'\n",
    "b = \"あいうえお\"\n",
    "str = '12345'\n",
    "print(a, type(a))\n",
    "print(b, type(b))\n",
    "print(str, type(str))"
   ]
  },
  {
   "cell_type": "code",
   "execution_count": 9,
   "metadata": {},
   "outputs": [
    {
     "name": "stdout",
     "output_type": "stream",
     "text": [
      "a\n",
      "あ\n",
      "1\n"
     ]
    }
   ],
   "source": [
    "a = 'abcde'\n",
    "b = \"あいうえお\"\n",
    "str = '12345'\n",
    "print(a[:1])\n",
    "print(b[:1])\n",
    "print(str[:1])"
   ]
  },
  {
   "cell_type": "code",
   "execution_count": 10,
   "metadata": {},
   "outputs": [
    {
     "name": "stdout",
     "output_type": "stream",
     "text": [
      "aaabbb\n"
     ]
    }
   ],
   "source": [
    "print('aaa' + 'bbb')"
   ]
  },
  {
   "cell_type": "code",
   "execution_count": 11,
   "metadata": {},
   "outputs": [
    {
     "name": "stdout",
     "output_type": "stream",
     "text": [
      "abcabcabcabcabc\n"
     ]
    }
   ],
   "source": [
    "string = 'abc'\n",
    "result = string * 5\n",
    "print(result)\n"
   ]
  },
  {
   "cell_type": "code",
   "execution_count": 15,
   "metadata": {},
   "outputs": [
    {
     "name": "stdout",
     "output_type": "stream",
     "text": [
      "a-b-c\n"
     ]
    }
   ],
   "source": [
    "s = [\"a\", \"b\", \"c\"]\n",
    "x = \"-\".join(s)\n",
    "print(x)"
   ]
  },
  {
   "cell_type": "code",
   "execution_count": 17,
   "metadata": {},
   "outputs": [
    {
     "name": "stdout",
     "output_type": "stream",
     "text": [
      "123456\n"
     ]
    }
   ],
   "source": [
    "print(\"123\"+\"456\")"
   ]
  },
  {
   "cell_type": "code",
   "execution_count": 19,
   "metadata": {},
   "outputs": [
    {
     "name": "stdout",
     "output_type": "stream",
     "text": [
      "['I', 'study', 'Python']\n"
     ]
    }
   ],
   "source": [
    "x = \"I study Python\"\n",
    "print(x.split())"
   ]
  },
  {
   "cell_type": "code",
   "execution_count": 20,
   "metadata": {},
   "outputs": [
    {
     "name": "stdout",
     "output_type": "stream",
     "text": [
      "['I', 'study', 'Python']\n"
     ]
    }
   ],
   "source": [
    "x = \"I-study-Python\"\n",
    "print(x.split('-'))"
   ]
  },
  {
   "cell_type": "code",
   "execution_count": 22,
   "metadata": {},
   "outputs": [
    {
     "name": "stdout",
     "output_type": "stream",
     "text": [
      "True\n"
     ]
    }
   ],
   "source": [
    "x = \"I study Python\"\n",
    "print('s' in x)"
   ]
  },
  {
   "cell_type": "code",
   "execution_count": 24,
   "metadata": {},
   "outputs": [
    {
     "name": "stdout",
     "output_type": "stream",
     "text": [
      "True\n",
      "False\n"
     ]
    }
   ],
   "source": [
    "x = \"I study Python\"\n",
    "print('study' in x)\n",
    "print('python' in x)"
   ]
  },
  {
   "cell_type": "code",
   "execution_count": 26,
   "metadata": {},
   "outputs": [
    {
     "name": "stdout",
     "output_type": "stream",
     "text": [
      "2\n"
     ]
    }
   ],
   "source": [
    "x = \"I study Python\"\n",
    "print(x.find('s'))"
   ]
  },
  {
   "cell_type": "code",
   "execution_count": 27,
   "metadata": {},
   "outputs": [
    {
     "name": "stdout",
     "output_type": "stream",
     "text": [
      "2\n",
      "-1\n"
     ]
    }
   ],
   "source": [
    "x = \"I study Python\"\n",
    "print(x.find('study'))\n",
    "print(x.find('python'))"
   ]
  },
  {
   "cell_type": "code",
   "execution_count": 31,
   "metadata": {},
   "outputs": [
    {
     "name": "stdout",
     "output_type": "stream",
     "text": [
      "I study ruby\n"
     ]
    }
   ],
   "source": [
    "x = \"I study Python\"\n",
    "x = x.replace('Python', 'ruby')\n",
    "print(x)"
   ]
  },
  {
   "cell_type": "code",
   "execution_count": 33,
   "metadata": {},
   "outputs": [
    {
     "name": "stdout",
     "output_type": "stream",
     "text": [
      "IstudyPython\n"
     ]
    }
   ],
   "source": [
    "x = \"I study Python\"\n",
    "print(x.replace(' ', ''))"
   ]
  },
  {
   "cell_type": "code",
   "execution_count": 34,
   "metadata": {},
   "outputs": [
    {
     "name": "stdout",
     "output_type": "stream",
     "text": [
      "1 + 2 = 3\n"
     ]
    }
   ],
   "source": [
    "x = 3\n",
    "print(f'1 + 2 = {x}')"
   ]
  },
  {
   "cell_type": "code",
   "execution_count": 35,
   "metadata": {},
   "outputs": [
    {
     "name": "stdout",
     "output_type": "stream",
     "text": [
      "1 + 2 = 3\n"
     ]
    }
   ],
   "source": [
    "x, y = 1, 2\n",
    "print(f'{x} + {y} = 3')"
   ]
  },
  {
   "cell_type": "code",
   "execution_count": 36,
   "metadata": {},
   "outputs": [
    {
     "name": "stdout",
     "output_type": "stream",
     "text": [
      "2 + 1 = 3\n"
     ]
    }
   ],
   "source": [
    "x, y = 1, 2\n",
    "print(f'{y} + {x} = 3')"
   ]
  },
  {
   "cell_type": "code",
   "execution_count": 41,
   "metadata": {},
   "outputs": [
    {
     "name": "stdout",
     "output_type": "stream",
     "text": [
      "1 ÷ 2 = 0.5\n"
     ]
    }
   ],
   "source": [
    "x, y = 1, 2\n",
    "print(f'{x} ÷ {y} = {x / y}')"
   ]
  },
  {
   "cell_type": "code",
   "execution_count": 40,
   "metadata": {},
   "outputs": [
    {
     "name": "stdout",
     "output_type": "stream",
     "text": [
      "1 ÷ 2 = 0.5\n"
     ]
    }
   ],
   "source": [
    "x, y = 1, 2\n",
    "\n",
    "print(f\"{x} ÷ {y} = {x / y}\")"
   ]
  },
  {
   "cell_type": "markdown",
   "metadata": {},
   "source": [
    "## 例外処理"
   ]
  },
  {
   "cell_type": "code",
   "execution_count": 42,
   "metadata": {},
   "outputs": [
    {
     "name": "stdout",
     "output_type": "stream",
     "text": [
      "Start!!\n",
      "0除算エラーです\n"
     ]
    }
   ],
   "source": [
    "a, b = 2, 0\n",
    "try:\n",
    "    print(\"Start!!\")\n",
    "    print(a/b)\n",
    "except:\n",
    "    print(\"0除算エラーです\")"
   ]
  },
  {
   "cell_type": "code",
   "execution_count": 43,
   "metadata": {},
   "outputs": [
    {
     "name": "stdout",
     "output_type": "stream",
     "text": [
      "Start!!\n",
      "2.0\n"
     ]
    }
   ],
   "source": [
    "a, b = 2, 1\n",
    "try:\n",
    "    print(\"Start!!\")\n",
    "    print(a/b)\n",
    "except:\n",
    "    print(\"0除算エラーです\")"
   ]
  },
  {
   "cell_type": "code",
   "execution_count": 45,
   "metadata": {},
   "outputs": [
    {
     "name": "stdout",
     "output_type": "stream",
     "text": [
      "Start!!\n",
      "0除算エラーです\n"
     ]
    }
   ],
   "source": [
    "a, b = 2, 0\n",
    "try:\n",
    "    print(\"Start!!\")\n",
    "    print(a/b)\n",
    "except:\n",
    "    print(\"0除算エラーです\")\n",
    "else:\n",
    "    print(\"エラーは発生しませんでした\")"
   ]
  },
  {
   "cell_type": "code",
   "execution_count": 46,
   "metadata": {},
   "outputs": [
    {
     "name": "stdout",
     "output_type": "stream",
     "text": [
      "Start!!\n",
      "2.0\n",
      "エラーは発生しませんでした\n"
     ]
    }
   ],
   "source": [
    "a, b = 2, 1\n",
    "try:\n",
    "    print(\"Start!!\")\n",
    "    print(a/b)\n",
    "except:\n",
    "    print(\"0除算エラーです\")\n",
    "else:\n",
    "    print(\"エラーは発生しませんでした\")"
   ]
  },
  {
   "cell_type": "code",
   "execution_count": 47,
   "metadata": {},
   "outputs": [
    {
     "name": "stdout",
     "output_type": "stream",
     "text": [
      "Start!!\n",
      "0除算エラーです\n",
      "Finish!!\n"
     ]
    }
   ],
   "source": [
    "a, b = 2, 0\n",
    "try:\n",
    "    print(\"Start!!\")\n",
    "    print(a/b)\n",
    "except:\n",
    "    print(\"0除算エラーです\")\n",
    "else:\n",
    "    print(\"エラーは発生しませんでした\")\n",
    "finally:\n",
    "    print(\"Finish!!\")"
   ]
  },
  {
   "cell_type": "code",
   "execution_count": 48,
   "metadata": {},
   "outputs": [
    {
     "name": "stdout",
     "output_type": "stream",
     "text": [
      "Start!!\n",
      "2.0\n",
      "エラーは発生しませんでした\n",
      "Finish!!\n"
     ]
    }
   ],
   "source": [
    "a, b = 2, 1\n",
    "try:\n",
    "    print(\"Start!!\")\n",
    "    print(a/b)\n",
    "except:\n",
    "    print(\"0除算エラーです\")\n",
    "else:\n",
    "    print(\"エラーは発生しませんでした\")\n",
    "finally:\n",
    "    print(\"Finish!!\")"
   ]
  },
  {
   "cell_type": "code",
   "execution_count": 50,
   "metadata": {},
   "outputs": [
    {
     "name": "stdout",
     "output_type": "stream",
     "text": [
      "Start!!\n",
      "データ型エラーです\n"
     ]
    }
   ],
   "source": [
    "a, b = 2, \"2\"\n",
    "try:\n",
    "    print(\"Start!!\")\n",
    "    print(a/b)\n",
    "except ZeroDivisionError:\n",
    "    print(\"0除算エラーです\")\n",
    "except TypeError:\n",
    "    print(\"データ型エラーです\")"
   ]
  },
  {
   "cell_type": "code",
   "execution_count": 51,
   "metadata": {},
   "outputs": [
    {
     "name": "stdout",
     "output_type": "stream",
     "text": [
      "Start!!\n",
      "division by zero\n",
      "Finish!!\n"
     ]
    }
   ],
   "source": [
    "a, b = 2, 0\n",
    "try:\n",
    "    print(\"Start!!\")\n",
    "    print(a / b)\n",
    "except Exception as e:\n",
    "    print(e)\n",
    "finally:\n",
    "    print(\"Finish!!\")"
   ]
  },
  {
   "cell_type": "markdown",
   "metadata": {},
   "source": [
    "## 内包表記"
   ]
  },
  {
   "cell_type": "code",
   "execution_count": 58,
   "metadata": {},
   "outputs": [
    {
     "name": "stdout",
     "output_type": "stream",
     "text": [
      "[0, 1, 2, 3, 4]\n",
      "[0, 1, 2, 3, 4]\n"
     ]
    }
   ],
   "source": [
    "# リスト・辞書などの簡潔な記述方法\n",
    "l1 = []\n",
    "for i in range(5):\n",
    "    l1.append(i)\n",
    "\n",
    "l2 = [i for i in range(5)] # 簡単に記載する場合\n",
    "print(l1)\n",
    "print(l2)"
   ]
  },
  {
   "cell_type": "code",
   "execution_count": 61,
   "metadata": {},
   "outputs": [
    {
     "name": "stdout",
     "output_type": "stream",
     "text": [
      "[0.0, 0.5, 1.0, 1.5, 2.0]\n"
     ]
    }
   ],
   "source": [
    "list = [i / 2 for i in range(5)]\n",
    "print(list)\n"
   ]
  },
  {
   "cell_type": "code",
   "execution_count": 64,
   "metadata": {},
   "outputs": [
    {
     "name": "stdout",
     "output_type": "stream",
     "text": [
      "{0, 1, 2, 3, 4}\n"
     ]
    }
   ],
   "source": [
    "# 0から4の集合\n",
    "s = {i for i in range(5)}\n",
    "print(s)\n"
   ]
  },
  {
   "cell_type": "code",
   "execution_count": 65,
   "metadata": {},
   "outputs": [
    {
     "name": "stdout",
     "output_type": "stream",
     "text": [
      "{0.0, 0.5, 2.0, 1.0, 1.5}\n"
     ]
    }
   ],
   "source": [
    "s = {i / 2 for i in range(5)}\n",
    "print(s)"
   ]
  },
  {
   "cell_type": "code",
   "execution_count": 67,
   "metadata": {},
   "outputs": [
    {
     "name": "stdout",
     "output_type": "stream",
     "text": [
      "{0: 0, 1: 2, 2: 4, 3: 6, 4: 8}\n"
     ]
    }
   ],
   "source": [
    "d = {i: i * 2 for i in range(5)}\n",
    "print(d)"
   ]
  },
  {
   "cell_type": "code",
   "execution_count": 80,
   "metadata": {},
   "outputs": [
    {
     "name": "stdout",
     "output_type": "stream",
     "text": [
      "[0, 2, 4, 6, 8]\n"
     ]
    }
   ],
   "source": [
    "even_numbers = [num for num in range(10) if num % 2 == 0]\n",
    "print(even_numbers)\n",
    "\n",
    "\n"
   ]
  },
  {
   "cell_type": "code",
   "execution_count": 86,
   "metadata": {},
   "outputs": [
    {
     "name": "stdout",
     "output_type": "stream",
     "text": [
      "{0: 'even', 1: 'odd', 2: 'even', 3: 'odd', 4: 'even', 5: 'odd', 6: 'even', 7: 'odd', 8: 'even', 9: 'odd'}\n"
     ]
    }
   ],
   "source": [
    "\"\"\" \n",
    "辞書内包表記を使って、0から9までの整数をキーとする辞書を作成。\n",
    "キーが偶数の場合には\"even\"、偶数ではない場合には\"odd\"という文字列を辞書のバリューとする。\n",
    "\"\"\"\n",
    "\n",
    "d = {num: \"even\" if num % 2 == 0 else \"odd\" for num in range(10)}\n",
    "print(d)\n"
   ]
  },
  {
   "cell_type": "code",
   "execution_count": 90,
   "metadata": {},
   "outputs": [
    {
     "name": "stdout",
     "output_type": "stream",
     "text": [
      "[11, 12, 13, 101, 102, 103, 1001, 1002, 1003]\n"
     ]
    }
   ],
   "source": [
    "l1 = []\n",
    "for i in (10, 100, 1000):\n",
    "    for j in (1, 2, 3):\n",
    "        l1.append(i + j)\n",
    "print(l1)\n",
    "\n",
    "# 一行にすると見づらい？\n",
    "l1 = [i + j for i in (10, 100, 1000) for j in (1, 2, 3)]\n"
   ]
  },
  {
   "cell_type": "markdown",
   "metadata": {},
   "source": [
    "## 関数"
   ]
  },
  {
   "cell_type": "code",
   "execution_count": 92,
   "metadata": {},
   "outputs": [
    {
     "name": "stdout",
     "output_type": "stream",
     "text": [
      "Hello World\n"
     ]
    }
   ],
   "source": [
    "def say_hello():\n",
    "    print('Hello World')\n",
    "\n",
    "say_hello()"
   ]
  },
  {
   "cell_type": "code",
   "execution_count": 98,
   "metadata": {},
   "outputs": [
    {
     "name": "stdout",
     "output_type": "stream",
     "text": [
      "Hello world\n",
      "Good morning\n"
     ]
    }
   ],
   "source": [
    "def say_hello(greeting):\n",
    "    print(greeting)\n",
    "\n",
    "say_hello('Hello world')\n",
    "hello = say_hello\n",
    "hello('Good morning')"
   ]
  },
  {
   "cell_type": "code",
   "execution_count": 99,
   "metadata": {},
   "outputs": [
    {
     "name": "stdout",
     "output_type": "stream",
     "text": [
      "8\n"
     ]
    }
   ],
   "source": [
    "def add(x, y):\n",
    "    print(x + y)\n",
    "\n",
    "num1, num2 = 6, 2\n",
    "add(num1, num2)\n"
   ]
  },
  {
   "cell_type": "code",
   "execution_count": 100,
   "metadata": {},
   "outputs": [
    {
     "name": "stdout",
     "output_type": "stream",
     "text": [
      "8\n"
     ]
    }
   ],
   "source": [
    "def add(x, y):\n",
    "    return x + y\n",
    "\n",
    "num1, num2 = 6, 2\n",
    "result = add(num1, num2)\n",
    "print(result)"
   ]
  },
  {
   "cell_type": "code",
   "execution_count": 108,
   "metadata": {},
   "outputs": [
    {
     "name": "stdout",
     "output_type": "stream",
     "text": [
      "5.0\n"
     ]
    }
   ],
   "source": [
    "import sys\n",
    "\n",
    "def div(x, y, z):\n",
    "    return (x + y + z) / 3\n",
    "\n",
    "div_result = div(9, 4, 2)\n",
    "print(div_result)"
   ]
  },
  {
   "cell_type": "code",
   "execution_count": 109,
   "metadata": {},
   "outputs": [
    {
     "name": "stdout",
     "output_type": "stream",
     "text": [
      "1\n",
      "2\n"
     ]
    }
   ],
   "source": [
    "\"\"\"\"\n",
    "関数名をshow_number、引数名は第一引数をa、第二引数をbとして関数を作成します。\n",
    "デフォルトの値として、aに1を、bに2を渡します。\n",
    "\"\"\"\n",
    "\n",
    "def show_number(num1=1, num2=2):\n",
    "    print(num1)\n",
    "    print(num2)\n",
    "\n",
    "show_number()\n"
   ]
  },
  {
   "cell_type": "code",
   "execution_count": 110,
   "metadata": {},
   "outputs": [
    {
     "name": "stdout",
     "output_type": "stream",
     "text": [
      "3\n",
      "4\n"
     ]
    }
   ],
   "source": [
    "def show_number(num1=1, num2=2):\n",
    "    print(num1)\n",
    "    print(num2)\n",
    "\n",
    "show_number(3, 4)"
   ]
  },
  {
   "cell_type": "code",
   "execution_count": 112,
   "metadata": {},
   "outputs": [
    {
     "name": "stdout",
     "output_type": "stream",
     "text": [
      "1\n",
      "10\n",
      "100\n"
     ]
    }
   ],
   "source": [
    "# キーワード引数\n",
    "def show_number(num1, num2, num3):\n",
    "    print(num1)\n",
    "    print(num2)\n",
    "    print(num3)\n",
    "\n",
    "show_number(num1=1, num2=10, num3=100)"
   ]
  },
  {
   "cell_type": "code",
   "execution_count": 119,
   "metadata": {},
   "outputs": [
    {
     "name": "stdout",
     "output_type": "stream",
     "text": [
      "1\n",
      "2\n",
      "(3, 4, 5)\n"
     ]
    }
   ],
   "source": [
    "# 可変長位置引数\n",
    "def show_number(num1, num2, *args):\n",
    "    print(num1)\n",
    "    print(num2)\n",
    "    print(args)\n",
    "\n",
    "show_number(1, 2, 3, 4, 5)"
   ]
  },
  {
   "cell_type": "code",
   "execution_count": 120,
   "metadata": {},
   "outputs": [
    {
     "name": "stdout",
     "output_type": "stream",
     "text": [
      "1\n",
      "2\n",
      "3 4 5\n"
     ]
    }
   ],
   "source": [
    "def show_number(num1, num2, *args):\n",
    "    print(num1)\n",
    "    print(num2)\n",
    "    print(*args)\n",
    "\n",
    "show_number(1, 2, 3, 4, 5)"
   ]
  },
  {
   "cell_type": "code",
   "execution_count": 121,
   "metadata": {},
   "outputs": [
    {
     "name": "stdout",
     "output_type": "stream",
     "text": [
      "1\n",
      "2\n",
      "3\n",
      "4\n",
      "5\n"
     ]
    }
   ],
   "source": [
    "def show_number(num1, num2, *args):\n",
    "    print(num1)\n",
    "    print(num2)\n",
    "    for i in args:\n",
    "        print(i)\n",
    "\n",
    "show_number(1, 2, 3, 4, 5)"
   ]
  },
  {
   "cell_type": "code",
   "execution_count": 131,
   "metadata": {},
   "outputs": [
    {
     "name": "stdout",
     "output_type": "stream",
     "text": [
      "{'a': 1, 'b': 2, 'c': 3}\n"
     ]
    }
   ],
   "source": [
    "\n",
    "# def show_number(num1, num2, num3):\n",
    "#     d = {\"a\":num1, \"b\":num2, \"c\":num2}\n",
    "#     print(d)\n",
    "\n",
    "# 仮引数名の前に**(アスタリスク2つ)を付けると複数のキーワード引数を辞書として受け取れる。\n",
    "def show_number(**kwargs):\n",
    "    print(kwargs)\n",
    "\n",
    "show_number(a=1, b=2, c=3)"
   ]
  },
  {
   "cell_type": "code",
   "execution_count": 133,
   "metadata": {},
   "outputs": [
    {
     "name": "stdout",
     "output_type": "stream",
     "text": [
      "{'a': 1, 'b': 2, 'c': 3}\n"
     ]
    }
   ],
   "source": [
    "def show_number(**kwargs):\n",
    "    print(kwargs)\n",
    "\n",
    "d = {'a': 1, 'b': 2, 'c': 3}\n",
    "show_number(**d)"
   ]
  },
  {
   "cell_type": "code",
   "execution_count": 137,
   "metadata": {},
   "outputs": [
    {
     "name": "stdout",
     "output_type": "stream",
     "text": [
      "1\n",
      "2\n"
     ]
    }
   ],
   "source": [
    "def outer_func(a, b):\n",
    "    def inner_func(c, d):\n",
    "        return c-d\n",
    "\n",
    "    x = inner_func(2, 1)\n",
    "    y = inner_func(a, b)\n",
    "    print(x)\n",
    "    print(y)\n",
    "\n",
    "outer_func(3, 1)"
   ]
  },
  {
   "cell_type": "code",
   "execution_count": 139,
   "metadata": {},
   "outputs": [
    {
     "name": "stdout",
     "output_type": "stream",
     "text": [
      "<function circle_area at 0x000001B57B676A70>\n"
     ]
    }
   ],
   "source": [
    "def circle_area(pi, radius):\n",
    "    return pi * radius * radius\n",
    "\n",
    "area = circle_area\n",
    "print(area)"
   ]
  },
  {
   "cell_type": "code",
   "execution_count": 142,
   "metadata": {},
   "outputs": [
    {
     "name": "stdout",
     "output_type": "stream",
     "text": [
      "12.56\n"
     ]
    }
   ],
   "source": [
    "def circle_area(pi, radius):\n",
    "    return pi * radius * radius\n",
    "\n",
    "area = circle_area\n",
    "print(area(3.14, 2))"
   ]
  },
  {
   "cell_type": "code",
   "execution_count": 153,
   "metadata": {},
   "outputs": [
    {
     "name": "stdout",
     "output_type": "stream",
     "text": [
      "12.56\n",
      "12\n"
     ]
    }
   ],
   "source": [
    "def circle_area(pi):\n",
    "    def calculation(radius):\n",
    "        return pi * radius * radius\n",
    "    return calculation\n",
    "\n",
    "area1 = circle_area(3.14)\n",
    "area2 = circle_area(3)\n",
    "\n",
    "print(area1(2))\n",
    "print(area2(2))\n"
   ]
  },
  {
   "cell_type": "code",
   "execution_count": 157,
   "metadata": {},
   "outputs": [
    {
     "name": "stdout",
     "output_type": "stream",
     "text": [
      "Start!!\n",
      "3\n",
      "Finish!!\n",
      "Start!!\n",
      "7\n",
      "Finish!!\n"
     ]
    }
   ],
   "source": [
    "def add(a, b):\n",
    "    return a +b\n",
    "\n",
    "print(\"Start!!\")\n",
    "print(add(1, 2))\n",
    "print(\"Finish!!\")\n",
    "\n",
    "print(\"Start!!\")\n",
    "print(add(3, 4))\n",
    "print(\"Finish!!\")\n"
   ]
  },
  {
   "cell_type": "code",
   "execution_count": 161,
   "metadata": {},
   "outputs": [
    {
     "name": "stdout",
     "output_type": "stream",
     "text": [
      "Start!!\n",
      "3\n",
      "Finish!!\n",
      "Start!!\n",
      "7\n",
      "Finish!!\n"
     ]
    }
   ],
   "source": [
    "# クロージャー\n",
    "\n",
    "def info(func):\n",
    "    def wapper(a, b):\n",
    "        print(\"Start!!\")\n",
    "        func(a, b)\n",
    "        print(\"Finish!!\")\n",
    "    return wapper\n",
    "\n",
    "def add(a, b):\n",
    "    print(a + b)\n",
    "\n",
    "add_result = info(add)\n",
    "\n",
    "add_result(1, 2)\n",
    "add_result(3, 4)\n",
    "\n"
   ]
  },
  {
   "cell_type": "code",
   "execution_count": 174,
   "metadata": {},
   "outputs": [
    {
     "name": "stdout",
     "output_type": "stream",
     "text": [
      "Start!!\n",
      "3\n",
      "Finish!!\n",
      "Start!!\n",
      "12\n",
      "Finish!!\n"
     ]
    }
   ],
   "source": [
    "def info(func):\n",
    "    def wapper(*args, **kwargs):\n",
    "        print(\"Start!!\")\n",
    "        func(*args, **kwargs)\n",
    "        print(\"Finish!!\")\n",
    "    return wapper\n",
    "\n",
    "@info\n",
    "def add(a, b):\n",
    "    print(a + b)\n",
    "\n",
    "@info\n",
    "def add2(c, d, e):\n",
    "    print(c + d + e)\n",
    "\n",
    "add(1, 2)\n",
    "add2(3, 4, 5)\n"
   ]
  },
  {
   "cell_type": "markdown",
   "metadata": {},
   "source": [
    "## モジュール、パッケージ、ライブラリ"
   ]
  },
  {
   "cell_type": "code",
   "execution_count": 178,
   "metadata": {},
   "outputs": [
    {
     "name": "stdout",
     "output_type": "stream",
     "text": [
      "1\n"
     ]
    }
   ],
   "source": [
    "import datetime\n",
    "a = datetime.MINYEAR\n",
    "print(a)"
   ]
  },
  {
   "cell_type": "code",
   "execution_count": 181,
   "metadata": {},
   "outputs": [
    {
     "name": "stdout",
     "output_type": "stream",
     "text": [
      "2023-01-01\n"
     ]
    }
   ],
   "source": [
    "import datetime\n",
    "a = datetime.date(2023, 1, 1)\n",
    "print(a)"
   ]
  },
  {
   "cell_type": "code",
   "execution_count": 182,
   "metadata": {},
   "outputs": [
    {
     "name": "stdout",
     "output_type": "stream",
     "text": [
      "2023-01-01\n"
     ]
    }
   ],
   "source": [
    "from datetime import date\n",
    "a = date(2023, 1, 1)\n",
    "print(a)"
   ]
  },
  {
   "cell_type": "code",
   "execution_count": 184,
   "metadata": {},
   "outputs": [
    {
     "name": "stdout",
     "output_type": "stream",
     "text": [
      "2023-01-01\n"
     ]
    }
   ],
   "source": [
    "from datetime import date as d\n",
    "a = d(2023, 1, 1)\n",
    "print(a)"
   ]
  },
  {
   "cell_type": "code",
   "execution_count": 185,
   "metadata": {},
   "outputs": [
    {
     "name": "stdout",
     "output_type": "stream",
     "text": [
      "['', 'ftp', 'http', 'gopher', 'nntp', 'imap', 'wais', 'file', 'https', 'shttp', 'mms', 'prospero', 'rtsp', 'rtspu', 'sftp', 'svn', 'svn+ssh', 'ws', 'wss']\n"
     ]
    }
   ],
   "source": [
    "from urllib import parse\n",
    "a = parse.uses_relative\n",
    "print(a)"
   ]
  },
  {
   "cell_type": "code",
   "execution_count": 186,
   "metadata": {},
   "outputs": [
    {
     "name": "stdout",
     "output_type": "stream",
     "text": [
      "['', 'ftp', 'http', 'gopher', 'nntp', 'imap', 'wais', 'file', 'https', 'shttp', 'mms', 'prospero', 'rtsp', 'rtspu', 'sftp', 'svn', 'svn+ssh', 'ws', 'wss']\n"
     ]
    }
   ],
   "source": [
    "from urllib.parse import uses_relative\n",
    "a = uses_relative\n",
    "print(a)"
   ]
  },
  {
   "cell_type": "markdown",
   "metadata": {},
   "source": [
    "## 名前空間とスコープ"
   ]
  },
  {
   "cell_type": "code",
   "execution_count": null,
   "metadata": {},
   "outputs": [],
   "source": [
    "a = 1\n",
    "def func():\n",
    "    b = 2\n",
    "\n",
    "print(globals())"
   ]
  },
  {
   "cell_type": "code",
   "execution_count": 191,
   "metadata": {},
   "outputs": [
    {
     "name": "stdout",
     "output_type": "stream",
     "text": [
      "1\n",
      "1\n"
     ]
    }
   ],
   "source": [
    "a = 1\n",
    "def func():\n",
    "    b = 2\n",
    "    print(a)\n",
    "\n",
    "print(a)\n",
    "func()"
   ]
  },
  {
   "cell_type": "code",
   "execution_count": null,
   "metadata": {},
   "outputs": [],
   "source": [
    "a = 1\n",
    "def func():\n",
    "    b = 2\n",
    "    print(a)\n",
    "\n",
    "print(globals())"
   ]
  },
  {
   "cell_type": "code",
   "execution_count": 195,
   "metadata": {},
   "outputs": [
    {
     "name": "stdout",
     "output_type": "stream",
     "text": [
      "1\n",
      "0\n"
     ]
    }
   ],
   "source": [
    "a = 0\n",
    "def func():\n",
    "    a = 1\n",
    "    print(a)\n",
    "\n",
    "func()\n",
    "print(a)"
   ]
  },
  {
   "cell_type": "code",
   "execution_count": null,
   "metadata": {},
   "outputs": [],
   "source": [
    "a = 0\n",
    "def func():\n",
    "    a = 1\n",
    "    print(locals())\n",
    "\n",
    "func()\n",
    "print(locals())"
   ]
  },
  {
   "cell_type": "code",
   "execution_count": 1,
   "metadata": {},
   "outputs": [
    {
     "name": "stdout",
     "output_type": "stream",
     "text": [
      "2\n",
      "1\n",
      "0\n"
     ]
    }
   ],
   "source": [
    "a = 0\n",
    "def func1():\n",
    "    a = 1\n",
    "\n",
    "    def func2():\n",
    "        a = 2\n",
    "        print(a)\n",
    "\n",
    "    func2()\n",
    "    print(a)\n",
    "\n",
    "func1()\n",
    "print(a)"
   ]
  },
  {
   "cell_type": "code",
   "execution_count": 2,
   "metadata": {},
   "outputs": [
    {
     "name": "stdout",
     "output_type": "stream",
     "text": [
      "2\n",
      "1\n",
      "2\n"
     ]
    }
   ],
   "source": [
    "a = 0\n",
    "def func1():\n",
    "    a = 1\n",
    "\n",
    "    def func2():\n",
    "        global a\n",
    "        a = 2\n",
    "        print(a)\n",
    "    func2()\n",
    "    print(a)\n",
    "\n",
    "func1()\n",
    "print(a)"
   ]
  },
  {
   "cell_type": "code",
   "execution_count": 4,
   "metadata": {},
   "outputs": [
    {
     "name": "stdout",
     "output_type": "stream",
     "text": [
      "2\n",
      "2\n",
      "0\n"
     ]
    }
   ],
   "source": [
    "a = 0\n",
    "def func1():\n",
    "    a = 1\n",
    "\n",
    "    def func2():\n",
    "        nonlocal a\n",
    "        a = 2\n",
    "        print(a)\n",
    "    func2()\n",
    "    print(a)\n",
    "\n",
    "func1()\n",
    "print(a)"
   ]
  },
  {
   "cell_type": "code",
   "execution_count": 5,
   "metadata": {},
   "outputs": [
    {
     "name": "stdout",
     "output_type": "stream",
     "text": [
      "2\n",
      "1\n",
      "1\n"
     ]
    }
   ],
   "source": [
    "a = 0\n",
    "def func1():\n",
    "    global a\n",
    "    a  = 1\n",
    "\n",
    "    def func2():\n",
    "        a = 2\n",
    "        print(a)\n",
    "\n",
    "    func2()\n",
    "    print(a)\n",
    "\n",
    "func1()\n",
    "print(a)"
   ]
  },
  {
   "cell_type": "markdown",
   "metadata": {},
   "source": [
    "## 組み込み関数"
   ]
  },
  {
   "cell_type": "code",
   "execution_count": 6,
   "metadata": {},
   "outputs": [
    {
     "name": "stdout",
     "output_type": "stream",
     "text": [
      "Python Ruby PHP\n",
      "Java\n"
     ]
    }
   ],
   "source": [
    "print(\"Python\", \"Ruby\", \"PHP\")\n",
    "print(\"Java\")\n"
   ]
  },
  {
   "cell_type": "code",
   "execution_count": 8,
   "metadata": {},
   "outputs": [
    {
     "name": "stdout",
     "output_type": "stream",
     "text": [
      "Python-Ruby-PHP\n",
      "Java\n"
     ]
    }
   ],
   "source": [
    "print(\"Python\", \"Ruby\", \"PHP\", sep=\"-\")\n",
    "print(\"Java\")\n"
   ]
  },
  {
   "cell_type": "code",
   "execution_count": 9,
   "metadata": {},
   "outputs": [
    {
     "name": "stdout",
     "output_type": "stream",
     "text": [
      "Python-Ruby-PHP-Java\n"
     ]
    }
   ],
   "source": [
    "print(\"Python\", \"Ruby\", \"PHP\", sep=\"-\", end=\"-\")\n",
    "print(\"Java\")"
   ]
  },
  {
   "cell_type": "code",
   "execution_count": 14,
   "metadata": {},
   "outputs": [
    {
     "name": "stdout",
     "output_type": "stream",
     "text": [
      "<class 'str'>\n",
      "<class 'int'>\n",
      "<class 'list'>\n",
      "<class 'dict'>\n"
     ]
    }
   ],
   "source": [
    "print(type('Hello'))\n",
    "print(type(10))\n",
    "print(type([1,2,3]))\n",
    "print(type({'Python': 1, 'Ruby': 2, 'PHP': 3}))"
   ]
  },
  {
   "cell_type": "code",
   "execution_count": 15,
   "metadata": {},
   "outputs": [
    {
     "name": "stdout",
     "output_type": "stream",
     "text": [
      "True\n",
      "False\n"
     ]
    }
   ],
   "source": [
    "print(type(\"Hello\") is str)\n",
    "print(type(\"Hello\") is int)"
   ]
  },
  {
   "cell_type": "code",
   "execution_count": 16,
   "metadata": {},
   "outputs": [
    {
     "name": "stdout",
     "output_type": "stream",
     "text": [
      "10.0\n",
      "<class 'float'>\n"
     ]
    }
   ],
   "source": [
    "a = '10.0'\n",
    "print(float(a))\n",
    "print(type(float(a)))"
   ]
  },
  {
   "cell_type": "code",
   "execution_count": 20,
   "metadata": {},
   "outputs": [
    {
     "name": "stdout",
     "output_type": "stream",
     "text": [
      "3.3333333333333335\n",
      "True\n",
      "False\n",
      "0.2\n",
      "0.30000000000000004\n"
     ]
    }
   ],
   "source": [
    "print(10 /3)\n",
    "print(0.1 * 2 == 0.2)\n",
    "print(0.1 * 3 == 0.3)\n",
    "print(0.1 * 2)\n",
    "print(0.1 * 3)"
   ]
  },
  {
   "cell_type": "code",
   "execution_count": 22,
   "metadata": {},
   "outputs": [
    {
     "name": "stdout",
     "output_type": "stream",
     "text": [
      "1.23\n"
     ]
    }
   ],
   "source": [
    "print(round(1.234, 2))"
   ]
  },
  {
   "cell_type": "code",
   "execution_count": 28,
   "metadata": {},
   "outputs": [
    {
     "name": "stdout",
     "output_type": "stream",
     "text": [
      "2\n",
      "2\n",
      "3\n"
     ]
    }
   ],
   "source": [
    "# 1.5、2.5、2.501を整数に丸めて表示\n",
    "print(round(1.5))\n",
    "print(round(2.5))\n",
    "print(round(2.501))"
   ]
  },
  {
   "cell_type": "code",
   "execution_count": 31,
   "metadata": {},
   "outputs": [
    {
     "name": "stdout",
     "output_type": "stream",
     "text": [
      "1200.0\n"
     ]
    }
   ],
   "source": [
    "print(round(1234.56, -2))"
   ]
  },
  {
   "cell_type": "code",
   "execution_count": 33,
   "metadata": {},
   "outputs": [
    {
     "name": "stdout",
     "output_type": "stream",
     "text": [
      "True\n",
      "True\n",
      "True\n",
      "True\n",
      "True\n"
     ]
    }
   ],
   "source": [
    "print(bool(2 > 1))\n",
    "print(bool(True))\n",
    "print(bool(1))\n",
    "print(bool('Hello'))\n",
    "print(bool([1, 2, 3]))"
   ]
  },
  {
   "cell_type": "code",
   "execution_count": 34,
   "metadata": {},
   "outputs": [
    {
     "name": "stdout",
     "output_type": "stream",
     "text": [
      "False\n",
      "False\n",
      "False\n",
      "False\n",
      "False\n",
      "False\n"
     ]
    }
   ],
   "source": [
    "print(bool(1 > 2))\n",
    "print(bool(False))\n",
    "print(bool(None))\n",
    "print(bool(0))\n",
    "print(bool(''))\n",
    "print(bool([]))"
   ]
  },
  {
   "cell_type": "code",
   "execution_count": 35,
   "metadata": {},
   "outputs": [
    {
     "name": "stdout",
     "output_type": "stream",
     "text": [
      "5\n"
     ]
    }
   ],
   "source": [
    "# 要素数\n",
    "print(len('Hello'))"
   ]
  },
  {
   "cell_type": "code",
   "execution_count": 41,
   "metadata": {},
   "outputs": [
    {
     "name": "stdout",
     "output_type": "stream",
     "text": [
      "4\n",
      "5\n",
      "3\n"
     ]
    }
   ],
   "source": [
    "print(len([1, 2, 3, 4]))\n",
    "print(len([1, 2, 3, 4, 5]))\n",
    "print(len({'Python': 1, 'Ruby': 2, 'PHP': 3}))"
   ]
  },
  {
   "cell_type": "code",
   "execution_count": 42,
   "metadata": {},
   "outputs": [
    {
     "name": "stdout",
     "output_type": "stream",
     "text": [
      "10\n"
     ]
    }
   ],
   "source": [
    "x = [1, 2, 3, 4]\n",
    "print(sum(x))"
   ]
  },
  {
   "cell_type": "code",
   "execution_count": 45,
   "metadata": {},
   "outputs": [
    {
     "name": "stdout",
     "output_type": "stream",
     "text": [
      "110\n"
     ]
    }
   ],
   "source": [
    "x = [1, 2, 3, 4]\n",
    "print(sum(x, 100))"
   ]
  },
  {
   "cell_type": "code",
   "execution_count": 47,
   "metadata": {},
   "outputs": [
    {
     "name": "stdout",
     "output_type": "stream",
     "text": [
      "5\n"
     ]
    }
   ],
   "source": [
    "x = [1, 2, 3, 4, 5]\n",
    "print(max(x))"
   ]
  },
  {
   "cell_type": "code",
   "execution_count": 48,
   "metadata": {},
   "outputs": [
    {
     "name": "stdout",
     "output_type": "stream",
     "text": [
      "Python\n"
     ]
    }
   ],
   "source": [
    "li = ['Python', 'JavaScript', 'PHP']\n",
    "print(max(li))"
   ]
  },
  {
   "cell_type": "code",
   "execution_count": 53,
   "metadata": {},
   "outputs": [
    {
     "name": "stdout",
     "output_type": "stream",
     "text": [
      "JavaScript\n"
     ]
    }
   ],
   "source": [
    "li = ['Python', 'JavaScript', 'PHP']\n",
    "print(max(li, key=len))"
   ]
  },
  {
   "cell_type": "code",
   "execution_count": 54,
   "metadata": {},
   "outputs": [
    {
     "name": "stdout",
     "output_type": "stream",
     "text": [
      "c\n"
     ]
    }
   ],
   "source": [
    "d = {'a': 3, 'b': 2, 'c': 1}\n",
    "print(max(d))"
   ]
  },
  {
   "cell_type": "code",
   "execution_count": 57,
   "metadata": {},
   "outputs": [
    {
     "name": "stdout",
     "output_type": "stream",
     "text": [
      "3\n"
     ]
    }
   ],
   "source": [
    "d = {'a': 3, 'b': 2, 'c': 1}\n",
    "print(max(d.values()))"
   ]
  },
  {
   "cell_type": "code",
   "execution_count": 58,
   "metadata": {},
   "outputs": [
    {
     "name": "stdout",
     "output_type": "stream",
     "text": [
      "1\n"
     ]
    }
   ],
   "source": [
    "li = [1, 2, 3, 4, 5]\n",
    "print(min(li))"
   ]
  },
  {
   "cell_type": "code",
   "execution_count": 59,
   "metadata": {},
   "outputs": [
    {
     "name": "stdout",
     "output_type": "stream",
     "text": [
      "JavaScript\n"
     ]
    }
   ],
   "source": [
    "li = ['Python', 'JavaScript', 'PHP']\n",
    "print(min(li))"
   ]
  },
  {
   "cell_type": "code",
   "execution_count": 60,
   "metadata": {},
   "outputs": [
    {
     "name": "stdout",
     "output_type": "stream",
     "text": [
      "PHP\n"
     ]
    }
   ],
   "source": [
    "li = ['Python', 'JavaScript', 'PHP']\n",
    "print(min(li, key=len))"
   ]
  },
  {
   "cell_type": "code",
   "execution_count": 62,
   "metadata": {},
   "outputs": [
    {
     "name": "stdout",
     "output_type": "stream",
     "text": [
      "range(0, 5)\n",
      "<class 'range'>\n"
     ]
    }
   ],
   "source": [
    "print(range(0, 5))\n",
    "print(type(range(0, 5)))"
   ]
  },
  {
   "cell_type": "code",
   "execution_count": 63,
   "metadata": {},
   "outputs": [
    {
     "name": "stdout",
     "output_type": "stream",
     "text": [
      "0\n",
      "1\n",
      "2\n",
      "3\n",
      "4\n"
     ]
    }
   ],
   "source": [
    "for i in range(5):\n",
    "    print(i)"
   ]
  },
  {
   "cell_type": "code",
   "execution_count": 68,
   "metadata": {},
   "outputs": [
    {
     "name": "stdout",
     "output_type": "stream",
     "text": [
      "5\n",
      "6\n",
      "7\n",
      "8\n",
      "9\n"
     ]
    }
   ],
   "source": [
    "for i in range(5, 10):\n",
    "    print(i)"
   ]
  },
  {
   "cell_type": "code",
   "execution_count": 69,
   "metadata": {},
   "outputs": [
    {
     "name": "stdout",
     "output_type": "stream",
     "text": [
      "5\n",
      "7\n",
      "9\n"
     ]
    }
   ],
   "source": [
    "for i  in range(5, 10, 2):\n",
    "    print(i)"
   ]
  },
  {
   "cell_type": "code",
   "execution_count": 74,
   "metadata": {},
   "outputs": [
    {
     "name": "stdout",
     "output_type": "stream",
     "text": [
      "<zip object at 0x00000201B16D7000>\n",
      "<class 'zip'>\n"
     ]
    }
   ],
   "source": [
    "name = [\"Python\", \"Ruby\", \"PHP\"]\n",
    "number = [10, 100, 1000]\n",
    "print(zip(name, number))\n",
    "print(type(zip(name, number)))"
   ]
  },
  {
   "cell_type": "code",
   "execution_count": 79,
   "metadata": {},
   "outputs": [
    {
     "name": "stdout",
     "output_type": "stream",
     "text": [
      "('Python', 10)\n",
      "('Ruby', 100)\n",
      "('PHP', 1000)\n"
     ]
    }
   ],
   "source": [
    "name = [\"Python\", \"Ruby\", \"PHP\"]\n",
    "number = [10, 100, 1000]\n",
    "\n",
    "for i in zip(name, number):\n",
    "    print(i)\n"
   ]
  },
  {
   "cell_type": "code",
   "execution_count": 80,
   "metadata": {},
   "outputs": [
    {
     "name": "stdout",
     "output_type": "stream",
     "text": [
      "Python\n",
      "10\n",
      "Ruby\n",
      "100\n",
      "PHP\n",
      "1000\n"
     ]
    }
   ],
   "source": [
    "name = [\"Python\", \"Ruby\", \"PHP\"]\n",
    "number = [10, 100, 1000]\n",
    "\n",
    "for i, j in zip(name, number):\n",
    "    print(i)\n",
    "    print(j)"
   ]
  },
  {
   "cell_type": "code",
   "execution_count": 82,
   "metadata": {},
   "outputs": [
    {
     "name": "stdout",
     "output_type": "stream",
     "text": [
      "<enumerate object at 0x00000201B0B5C940>\n",
      "<class 'enumerate'>\n"
     ]
    }
   ],
   "source": [
    "name = [\"Python\", \"Ruby\", \"PHP\"]\n",
    "\n",
    "print(enumerate(name))\n",
    "print(type(enumerate(name)))"
   ]
  },
  {
   "cell_type": "code",
   "execution_count": 85,
   "metadata": {},
   "outputs": [
    {
     "name": "stdout",
     "output_type": "stream",
     "text": [
      "(0, 'Python')\n",
      "(1, 'Ruby')\n",
      "(2, 'PHP')\n"
     ]
    }
   ],
   "source": [
    "name = [\"Python\", \"Ruby\", \"PHP\"]\n",
    "for i in enumerate(name):\n",
    "    print(i)"
   ]
  },
  {
   "cell_type": "code",
   "execution_count": 86,
   "metadata": {},
   "outputs": [
    {
     "name": "stdout",
     "output_type": "stream",
     "text": [
      "0\n",
      "Python\n",
      "1\n",
      "Ruby\n",
      "2\n",
      "PHP\n"
     ]
    }
   ],
   "source": [
    "name = [\"Python\", \"Ruby\", \"PHP\"]\n",
    "for i, j in enumerate(name):\n",
    "    print(i)\n",
    "    print(j)"
   ]
  },
  {
   "cell_type": "markdown",
   "metadata": {},
   "source": [
    "## クラス応用"
   ]
  },
  {
   "cell_type": "code",
   "execution_count": 94,
   "metadata": {},
   "outputs": [
    {
     "name": "stdout",
     "output_type": "stream",
     "text": [
      "Yamada\n",
      "DELETE!!\n",
      "---------\n"
     ]
    }
   ],
   "source": [
    "class Student:\n",
    "\n",
    "    def __init__(self, name):\n",
    "        self.name = name\n",
    "    \n",
    "    def __del__(self):\n",
    "        print('DELETE!!')\n",
    "\n",
    "person = Student('Yamada')\n",
    "print(person.name)\n",
    "del person\n",
    "print('---------')"
   ]
  },
  {
   "cell_type": "code",
   "execution_count": 95,
   "metadata": {},
   "outputs": [
    {
     "name": "stdout",
     "output_type": "stream",
     "text": [
      "---------\n"
     ]
    }
   ],
   "source": [
    "class Student:\n",
    "\n",
    "    def __init__(self, name):\n",
    "        self.name = name\n",
    "    \n",
    "    def __del__(self):\n",
    "        print('DELETE!!')\n",
    "\n",
    "person = Student('Yamada')\n",
    "person2 = person \n",
    "del person\n",
    "print('---------')"
   ]
  },
  {
   "cell_type": "code",
   "execution_count": 103,
   "metadata": {},
   "outputs": [
    {
     "name": "stdout",
     "output_type": "stream",
     "text": [
      "50\n",
      "60\n",
      "70\n"
     ]
    }
   ],
   "source": [
    "class Student:\n",
    "\n",
    "    def math(self, score):\n",
    "        print(score)\n",
    "\n",
    "class Grade1:\n",
    "\n",
    "    def math(self, score):\n",
    "        print(score)\n",
    "\n",
    "    def english(self, score):\n",
    "        print(score)\n",
    "\n",
    "studentA = Student()\n",
    "studentB = Grade1()\n",
    "studentA.math(50)\n",
    "studentB.math(60)\n",
    "studentB.english(70)"
   ]
  },
  {
   "cell_type": "code",
   "execution_count": 104,
   "metadata": {},
   "outputs": [
    {
     "name": "stdout",
     "output_type": "stream",
     "text": [
      "50\n",
      "60\n",
      "70\n"
     ]
    }
   ],
   "source": [
    "class Student:\n",
    "\n",
    "    def math(self, score):\n",
    "        print(score)\n",
    "\n",
    "class Grade1(Student):\n",
    "\n",
    "    def english(self, score):\n",
    "        print(score)\n",
    "\n",
    "studentA = Student()\n",
    "studentB = Grade1()\n",
    "studentA.math(50)\n",
    "studentB.math(60)\n",
    "studentB.english(70)"
   ]
  },
  {
   "cell_type": "code",
   "execution_count": 110,
   "metadata": {},
   "outputs": [
    {
     "name": "stdout",
     "output_type": "stream",
     "text": [
      "Name:Sato\n",
      " Age:12\n"
     ]
    }
   ],
   "source": [
    "class Student:\n",
    "\n",
    "    def __init__(self, name, age):\n",
    "        self.name = name\n",
    "        self.age = age\n",
    "\n",
    "    def math(self, score):\n",
    "        print(score)\n",
    "\n",
    "class Grade1(Student):\n",
    "\n",
    "    def __init__(self, name, age):\n",
    "        self.name = name\n",
    "        self.age = age\n",
    "        print(f\"Name:{studentB.name}\")\n",
    "        print(f\" Age:{studentB.age}\")\n",
    "\n",
    "\n",
    "    def english(self, score):\n",
    "        print(score)\n",
    "\n",
    "studentA = Student('Yamada', 15)\n",
    "studentB = Grade1('Sato', 12)"
   ]
  },
  {
   "cell_type": "code",
   "execution_count": 113,
   "metadata": {},
   "outputs": [
    {
     "name": "stdout",
     "output_type": "stream",
     "text": [
      "Name:Sato\n",
      " Age:12\n"
     ]
    }
   ],
   "source": [
    "class Student:\n",
    "\n",
    "    def __init__(self, name, age):\n",
    "        self.name = name\n",
    "        self.age = age\n",
    "\n",
    "    def math(self, score):\n",
    "        print(score)\n",
    "\n",
    "class Grade1(Student):\n",
    "\n",
    "    def __init__(self, name, age):\n",
    "        super().__init__(name, age)\n",
    "        print(f\"Name:{self.name}\")\n",
    "        print(f\" Age:{self.age}\")\n",
    "\n",
    "\n",
    "    def english(self, score):\n",
    "        print(score)\n",
    "\n",
    "studentA = Student('Yamada', 15)\n",
    "studentB = Grade1('Sato', 12)"
   ]
  },
  {
   "cell_type": "code",
   "execution_count": 119,
   "metadata": {},
   "outputs": [
    {
     "name": "stdout",
     "output_type": "stream",
     "text": [
      "junior high school student\n",
      "Yamada\n",
      "15\n",
      "junior high school student\n",
      "Sato\n",
      "12\n"
     ]
    }
   ],
   "source": [
    "class Student:\n",
    "\n",
    "    job = 'junior high school student'\n",
    "\n",
    "    def __init__(self, name, age):\n",
    "        self.name = name\n",
    "        self.age = age\n",
    "\n",
    "studentA = Student('Yamada', 15)\n",
    "print(studentA.job)\n",
    "print(studentA.name)\n",
    "print(studentA.age)\n",
    "\n",
    "studentB = Student('Sato', 12)\n",
    "print(studentB.job)\n",
    "print(studentB.name)\n",
    "print(studentB.age)\n"
   ]
  },
  {
   "cell_type": "code",
   "execution_count": 129,
   "metadata": {},
   "outputs": [
    {
     "name": "stdout",
     "output_type": "stream",
     "text": [
      "junior high school student\n",
      "13\n"
     ]
    }
   ],
   "source": [
    "class Student:\n",
    "\n",
    "    job = 'junior high school student'\n",
    "    age = 13\n",
    "\n",
    "    def __init__(self, name, age):\n",
    "        self.name = name\n",
    "        self.age = age\n",
    "\n",
    "    # @classmethod\n",
    "    # def job(cls):\n",
    "    #     return cls.job\n",
    "\n",
    "    # @classmethod\n",
    "    # def age(cls):\n",
    "    #     return cls.age\n",
    "\n",
    "print(Student.job)\n",
    "print(Student.age)\n"
   ]
  },
  {
   "cell_type": "code",
   "execution_count": 132,
   "metadata": {},
   "outputs": [
    {
     "name": "stdout",
     "output_type": "stream",
     "text": [
      "14\n"
     ]
    }
   ],
   "source": [
    "class Student:\n",
    "\n",
    "    job = 'junior high school student'\n",
    "    age = 13\n",
    "\n",
    "    def __init__(self, name, age):\n",
    "        self.name = name\n",
    "        self.age = age\n",
    "\n",
    "    @classmethod\n",
    "    def add_age(cls):\n",
    "        return cls.age + 1\n",
    "\n",
    "print(Student.add_age())"
   ]
  },
  {
   "cell_type": "code",
   "execution_count": 134,
   "metadata": {},
   "outputs": [
    {
     "name": "stdout",
     "output_type": "stream",
     "text": [
      "14\n"
     ]
    }
   ],
   "source": [
    "class Student:\n",
    "\n",
    "    job = 'junior high school student'\n",
    "    age = 13\n",
    "\n",
    "    def __init__(self, name, age):\n",
    "        self.name = name\n",
    "        self.age = age\n",
    "\n",
    "    @classmethod\n",
    "    def add_age(cls):\n",
    "        return cls.age + 1\n",
    "\n",
    "studentA = Student('Yamada', 15)\n",
    "print(studentA.add_age())\n"
   ]
  },
  {
   "cell_type": "code",
   "execution_count": 135,
   "metadata": {},
   "outputs": [
    {
     "name": "stdout",
     "output_type": "stream",
     "text": [
      "Hello\n"
     ]
    }
   ],
   "source": [
    "class Student:\n",
    "\n",
    "    job = 'junior high school student'\n",
    "    age = 13\n",
    "\n",
    "    def __init__(self, name, age):\n",
    "        self.name = name\n",
    "        self.age = age\n",
    "\n",
    "    @staticmethod\n",
    "    def greeting():\n",
    "        print(\"Hello\")\n",
    "\n",
    "Student.greeting()"
   ]
  },
  {
   "cell_type": "code",
   "execution_count": 138,
   "metadata": {},
   "outputs": [
    {
     "name": "stdout",
     "output_type": "stream",
     "text": [
      "Hello\n",
      "I am 13\n"
     ]
    }
   ],
   "source": [
    "class Student:\n",
    "\n",
    "    job = 'junior high school student'\n",
    "    age = 13\n",
    "\n",
    "    def __init__(self, name, age):\n",
    "        self.name = name\n",
    "        self.age = age\n",
    "\n",
    "    @staticmethod\n",
    "    def greeting():\n",
    "        print(\"Hello\")\n",
    "        print(f\"I am {Student.age}\")\n",
    "\n",
    "Student.greeting()"
   ]
  },
  {
   "cell_type": "code",
   "execution_count": 142,
   "metadata": {},
   "outputs": [
    {
     "name": "stdout",
     "output_type": "stream",
     "text": [
      "hello\n",
      "I am 13\n"
     ]
    }
   ],
   "source": [
    "class Student:\n",
    "\n",
    "    job = \"junior high school student\"\n",
    "    age = 13\n",
    "\n",
    "    def __init__(self, name, age):\n",
    "        self.name = name\n",
    "        self.age = age\n",
    "\n",
    "def greeting():\n",
    "    print(\"hello\")\n",
    "    print(f\"I am {Student.age}\")\n",
    "\n",
    "greeting()"
   ]
  },
  {
   "cell_type": "code",
   "execution_count": null,
   "metadata": {},
   "outputs": [],
   "source": []
  }
 ],
 "metadata": {
  "kernelspec": {
   "display_name": "Python 3.10.11 64-bit (microsoft store)",
   "language": "python",
   "name": "python3"
  },
  "language_info": {
   "codemirror_mode": {
    "name": "ipython",
    "version": 3
   },
   "file_extension": ".py",
   "mimetype": "text/x-python",
   "name": "python",
   "nbconvert_exporter": "python",
   "pygments_lexer": "ipython3",
   "version": "3.10.11"
  },
  "vscode": {
   "interpreter": {
    "hash": "0ca7422375180c3cfda9e1f6b7d05fa95892bd5344d5b04adb495ff288cb2f91"
   }
  }
 },
 "nbformat": 4,
 "nbformat_minor": 2
}
