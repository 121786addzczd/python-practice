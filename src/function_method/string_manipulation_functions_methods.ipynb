{
 "cells": [
  {
   "cell_type": "markdown",
   "id": "77d79809-3ebe-4f4c-8adb-1372bd616c9d",
   "metadata": {},
   "source": [
    "## 文字列操作に関する関数・メソッド"
   ]
  },
  {
   "cell_type": "markdown",
   "id": "30c0e6ee-a370-4d77-be80-76ffe0de02d9",
   "metadata": {},
   "source": [
    "## 文字列の整形｜str.joinメソッド"
   ]
  },
  {
   "cell_type": "code",
   "execution_count": 5,
   "id": "f3e74201-416c-4b02-be57-498b8672412a",
   "metadata": {},
   "outputs": [
    {
     "data": {
      "text/plain": [
       "'applebananapeach'"
      ]
     },
     "execution_count": 5,
     "metadata": {},
     "output_type": "execute_result"
    }
   ],
   "source": [
    "fruits = ['apple', 'banana', 'peach']\n",
    "''.join(fruits)"
   ]
  },
  {
   "cell_type": "code",
   "execution_count": 7,
   "id": "284e002b-b0af-4267-91bd-f79643d912d2",
   "metadata": {},
   "outputs": [
    {
     "data": {
      "text/plain": [
       "'apple&banana&peach'"
      ]
     },
     "execution_count": 7,
     "metadata": {},
     "output_type": "execute_result"
    }
   ],
   "source": [
    "fruits = ['apple', 'banana', 'peach']\n",
    "'&'.join(fruits)"
   ]
  },
  {
   "cell_type": "code",
   "execution_count": 8,
   "id": "b5bc34b7-7c41-47fb-8405-7c453afb9a7f",
   "metadata": {},
   "outputs": [
    {
     "data": {
      "text/plain": [
       "'I--study--Python'"
      ]
     },
     "execution_count": 8,
     "metadata": {},
     "output_type": "execute_result"
    }
   ],
   "source": [
    "'--'.join(['I', 'study', 'Python'])"
   ]
  },
  {
   "cell_type": "code",
   "execution_count": 9,
   "id": "b8cbb81e-b756-4d58-83b3-fb1eff53ed24",
   "metadata": {},
   "outputs": [
    {
     "data": {
      "text/plain": [
       "'s/t/u/d/y'"
      ]
     },
     "execution_count": 9,
     "metadata": {},
     "output_type": "execute_result"
    }
   ],
   "source": [
    "'/'.join('study')"
   ]
  },
  {
   "cell_type": "markdown",
   "id": "2b789b37-57cd-462a-bcac-7662ea2ad013",
   "metadata": {},
   "source": [
    "## 文字列の整形｜str.splitメソッド"
   ]
  },
  {
   "cell_type": "code",
   "execution_count": 12,
   "id": "2ad516d1-995f-4e5e-9e8e-4ea3fea4a476",
   "metadata": {},
   "outputs": [
    {
     "data": {
      "text/plain": [
       "['kinocode', ' kino', ' code', ' python', ' pandas']"
      ]
     },
     "execution_count": 12,
     "metadata": {},
     "output_type": "execute_result"
    }
   ],
   "source": [
    "text = 'kinocode, kino, code, python, pandas'\n",
    "text.split(',')"
   ]
  },
  {
   "cell_type": "code",
   "execution_count": 13,
   "id": "752ba9a2-f083-4cd9-9500-efb3aeb65682",
   "metadata": {},
   "outputs": [
    {
     "data": {
      "text/plain": [
       "['kinocode', 'kino', 'code', 'python', 'pandas']"
      ]
     },
     "execution_count": 13,
     "metadata": {},
     "output_type": "execute_result"
    }
   ],
   "source": [
    "text = 'kinocode kino code python pandas'\n",
    "text.split()"
   ]
  },
  {
   "cell_type": "code",
   "execution_count": 14,
   "id": "b9db2584-d62f-4c58-b5bf-f748210a436d",
   "metadata": {},
   "outputs": [
    {
     "data": {
      "text/plain": [
       "['kinocode', 'kino', 'code', 'python', 'pandas']"
      ]
     },
     "execution_count": 14,
     "metadata": {},
     "output_type": "execute_result"
    }
   ],
   "source": [
    "text = 'kinocodeあkinoあcodeあpythonあpandas'\n",
    "text.split('あ')"
   ]
  },
  {
   "cell_type": "markdown",
   "id": "9838b10f-0989-42b8-bd00-c782bf86cab8",
   "metadata": {},
   "source": [
    "## 文字列の整形｜str.splitlinesメソッド"
   ]
  },
  {
   "cell_type": "code",
   "execution_count": 15,
   "id": "1e00163f-95da-49e0-945b-bd377a4e41db",
   "metadata": {},
   "outputs": [],
   "source": [
    "fruits = 'apple\\n orange\\n banaba\\n'"
   ]
  },
  {
   "cell_type": "code",
   "execution_count": 20,
   "id": "d99fcda8-a7ef-471e-8e1c-5579805a60bb",
   "metadata": {},
   "outputs": [
    {
     "data": {
      "text/plain": [
       "['apple', ' orange', ' banaba']"
      ]
     },
     "execution_count": 20,
     "metadata": {},
     "output_type": "execute_result"
    }
   ],
   "source": [
    "fruits.splitlines()"
   ]
  },
  {
   "cell_type": "code",
   "execution_count": 21,
   "id": "a59f726a-4a41-4bb1-89b3-27accc5bd4e8",
   "metadata": {},
   "outputs": [
    {
     "data": {
      "text/plain": [
       "['apple', ' orange', ' banana']"
      ]
     },
     "execution_count": 21,
     "metadata": {},
     "output_type": "execute_result"
    }
   ],
   "source": [
    "fruits = 'apple\\r\\n orange\\r banana\\r\\n'\n",
    "fruits.splitlines()"
   ]
  },
  {
   "cell_type": "code",
   "execution_count": 24,
   "id": "8421bf97-937e-496c-ab06-d873c0b017eb",
   "metadata": {},
   "outputs": [
    {
     "data": {
      "text/plain": [
       "['apple\\r\\n', ' orange\\r', ' banana\\r\\n']"
      ]
     },
     "execution_count": 24,
     "metadata": {},
     "output_type": "execute_result"
    }
   ],
   "source": [
    "fruits = 'apple\\r\\n orange\\r banana\\r\\n'\n",
    "fruits.splitlines(True)\n",
    "              "
   ]
  },
  {
   "cell_type": "markdown",
   "id": "07d964e1-d9b7-4a9a-bb85-af6dd7e86e54",
   "metadata": {},
   "source": [
    "## 文字列の整形｜str.rjustメソッド/ljustメソッド/centerメソッド"
   ]
  },
  {
   "cell_type": "code",
   "execution_count": 25,
   "id": "d98ef6aa-09a9-42c2-a4ed-754a94e6a332",
   "metadata": {},
   "outputs": [
    {
     "data": {
      "text/plain": [
       "'    Python'"
      ]
     },
     "execution_count": 25,
     "metadata": {},
     "output_type": "execute_result"
    }
   ],
   "source": [
    "word = 'Python'\n",
    "word.rjust(10)"
   ]
  },
  {
   "cell_type": "code",
   "execution_count": 29,
   "id": "f3369568-d5de-459d-9a96-8c9d3c2d5927",
   "metadata": {},
   "outputs": [
    {
     "data": {
      "text/plain": [
       "'++++Python'"
      ]
     },
     "execution_count": 29,
     "metadata": {},
     "output_type": "execute_result"
    }
   ],
   "source": [
    "word = 'Python'\n",
    "word.rjust(10, '+')"
   ]
  },
  {
   "cell_type": "code",
   "execution_count": 31,
   "id": "04ee9680-99cd-4a8b-b7a6-db7f331b1bb7",
   "metadata": {},
   "outputs": [
    {
     "data": {
      "text/plain": [
       "'Python+++++++++'"
      ]
     },
     "execution_count": 31,
     "metadata": {},
     "output_type": "execute_result"
    }
   ],
   "source": [
    "word = 'Python'\n",
    "word.ljust(15, '+')"
   ]
  },
  {
   "cell_type": "code",
   "execution_count": 33,
   "id": "65ba2ded-0309-4dcc-91c8-c23c3ff1fdea",
   "metadata": {},
   "outputs": [
    {
     "data": {
      "text/plain": [
       "'+++Python+++'"
      ]
     },
     "execution_count": 33,
     "metadata": {},
     "output_type": "execute_result"
    }
   ],
   "source": [
    "word = 'Python'\n",
    "word.center(12,'+')"
   ]
  },
  {
   "cell_type": "markdown",
   "id": "149c9c0d-78ed-4ebc-9190-7215f5696311",
   "metadata": {},
   "source": [
    "## 文字列の整形｜str.stripメソッド"
   ]
  },
  {
   "cell_type": "code",
   "execution_count": 36,
   "id": "c837f7b3-19b3-4eed-bc74-fb0a6a95fd12",
   "metadata": {},
   "outputs": [
    {
     "data": {
      "text/plain": [
       "'Python'"
      ]
     },
     "execution_count": 36,
     "metadata": {},
     "output_type": "execute_result"
    }
   ],
   "source": [
    "word = ' Python '\n",
    "word.strip()"
   ]
  },
  {
   "cell_type": "code",
   "execution_count": 39,
   "id": "20a13093-84c3-4527-b2b2-a3855003a038",
   "metadata": {},
   "outputs": [
    {
     "data": {
      "text/plain": [
       "'Python'"
      ]
     },
     "execution_count": 39,
     "metadata": {},
     "output_type": "execute_result"
    }
   ],
   "source": [
    "word = 'xxx_Python_xxx'\n",
    "word.strip('x, _')"
   ]
  },
  {
   "cell_type": "markdown",
   "id": "0243fef0-0cc9-4ef6-97a7-74da47cae8b0",
   "metadata": {},
   "source": [
    "## 文字列の整形｜str.lstripメソッド"
   ]
  },
  {
   "cell_type": "code",
   "execution_count": 41,
   "id": "1a3542d2-d969-4bcb-b6da-2968649aa47f",
   "metadata": {},
   "outputs": [
    {
     "data": {
      "text/plain": [
       "'Python\\n'"
      ]
     },
     "execution_count": 41,
     "metadata": {},
     "output_type": "execute_result"
    }
   ],
   "source": [
    "word = '\\nPython\\n'\n",
    "word.lstrip()"
   ]
  },
  {
   "cell_type": "code",
   "execution_count": 45,
   "id": "b77e5a2e-93e3-4594-a267-6f3618e15548",
   "metadata": {},
   "outputs": [
    {
     "data": {
      "text/plain": [
       "'Python_x'"
      ]
     },
     "execution_count": 45,
     "metadata": {},
     "output_type": "execute_result"
    }
   ],
   "source": [
    "str = 'x_Python_x'\n",
    "str.lstrip('x_')"
   ]
  },
  {
   "cell_type": "code",
   "execution_count": 46,
   "id": "7169eeb0-6fa2-4be4-b068-466d3cade22b",
   "metadata": {},
   "outputs": [
    {
     "data": {
      "text/plain": [
       "'x_Python'"
      ]
     },
     "execution_count": 46,
     "metadata": {},
     "output_type": "execute_result"
    }
   ],
   "source": [
    "str = 'x_Python_x'\n",
    "str.rstrip('_x')"
   ]
  },
  {
   "cell_type": "code",
   "execution_count": 48,
   "id": "006e149a-df38-4abf-a7f4-634a2e1bf25d",
   "metadata": {},
   "outputs": [
    {
     "data": {
      "text/plain": [
       "'\\nPython'"
      ]
     },
     "execution_count": 48,
     "metadata": {},
     "output_type": "execute_result"
    }
   ],
   "source": [
    "word = '\\nPython\\n'\n",
    "word.rstrip()"
   ]
  },
  {
   "cell_type": "markdown",
   "id": "4a82445c-55ed-4e67-a714-ea2fc2137ef6",
   "metadata": {},
   "source": [
    "## 文字列の変換｜str.replaceメソッド"
   ]
  },
  {
   "cell_type": "code",
   "execution_count": 49,
   "id": "efe46a96-b112-4fbc-b2de-67231b39fb46",
   "metadata": {},
   "outputs": [
    {
     "data": {
      "text/plain": [
       "'nice language python'"
      ]
     },
     "execution_count": 49,
     "metadata": {},
     "output_type": "execute_result"
    }
   ],
   "source": [
    "words = 'cool language python'\n",
    "words.replace('cool', 'nice')"
   ]
  },
  {
   "cell_type": "code",
   "execution_count": 50,
   "id": "59d05feb-d2df-4f98-9f7d-7857b8793917",
   "metadata": {},
   "outputs": [
    {
     "data": {
      "text/plain": [
       "'go python, go life'"
      ]
     },
     "execution_count": 50,
     "metadata": {},
     "output_type": "execute_result"
    }
   ],
   "source": [
    "words = 'no python, no life'\n",
    "words.replace('no', 'go')"
   ]
  },
  {
   "cell_type": "code",
   "execution_count": 51,
   "id": "ac8e32a1-300b-44ef-81f7-228eb024f966",
   "metadata": {},
   "outputs": [
    {
     "data": {
      "text/plain": [
       "'no , no life'"
      ]
     },
     "execution_count": 51,
     "metadata": {},
     "output_type": "execute_result"
    }
   ],
   "source": [
    "words = 'no python, no life'\n",
    "words.replace('python', '')"
   ]
  },
  {
   "cell_type": "code",
   "execution_count": 60,
   "id": "49092a17-e9d5-4274-8474-071a5520c095",
   "metadata": {},
   "outputs": [
    {
     "name": "stdout",
     "output_type": "stream",
     "text": [
      "python\n",
      "Java\n",
      "Go\n"
     ]
    }
   ],
   "source": [
    "words = 'python,Java,Go'\n",
    "print(words.replace(',','\\n'))"
   ]
  },
  {
   "cell_type": "markdown",
   "id": "2aa2d43e-2f23-49dd-a5fd-267dcd04c578",
   "metadata": {},
   "source": [
    "## 文字列の変換｜str.swapcaseメソッド"
   ]
  },
  {
   "cell_type": "code",
   "execution_count": 61,
   "id": "c753686d-02b0-4652-9562-31e83bfce0d6",
   "metadata": {},
   "outputs": [
    {
     "data": {
      "text/plain": [
       "'cOOl lANgUAgE pYthON'"
      ]
     },
     "execution_count": 61,
     "metadata": {},
     "output_type": "execute_result"
    }
   ],
   "source": [
    "words = 'CooL LanGuaGe PyTHon'\n",
    "words.swapcase()"
   ]
  },
  {
   "cell_type": "code",
   "execution_count": 62,
   "id": "89d03278-d618-43bb-9465-1c0e3dbf2534",
   "metadata": {},
   "outputs": [
    {
     "data": {
      "text/plain": [
       "'pyTHOn楽しい-123'"
      ]
     },
     "execution_count": 62,
     "metadata": {},
     "output_type": "execute_result"
    }
   ],
   "source": [
    "words = 'PYthoN楽しい-123'\n",
    "words.swapcase()"
   ]
  },
  {
   "cell_type": "code",
   "execution_count": 63,
   "id": "57ed6ab9-ff6f-4c6e-88de-ffb606076121",
   "metadata": {},
   "outputs": [
    {
     "data": {
      "text/plain": [
       "'COOL LANGUAGE PYTHON'"
      ]
     },
     "execution_count": 63,
     "metadata": {},
     "output_type": "execute_result"
    }
   ],
   "source": [
    "words = 'CooL LanGuaGe PyTHon'\n",
    "words.upper()"
   ]
  },
  {
   "cell_type": "code",
   "execution_count": 65,
   "id": "4c6b8506-ce65-4161-a75f-e4d341cbfbbd",
   "metadata": {},
   "outputs": [
    {
     "data": {
      "text/plain": [
       "'cool language python'"
      ]
     },
     "execution_count": 65,
     "metadata": {},
     "output_type": "execute_result"
    }
   ],
   "source": [
    "words = 'CooL LanGuaGe PyTHon'\n",
    "words.lower()"
   ]
  },
  {
   "cell_type": "code",
   "execution_count": 69,
   "id": "95459ce1-acd2-40c6-a4ca-a4c923dddbbf",
   "metadata": {},
   "outputs": [
    {
     "data": {
      "text/plain": [
       "'Cool language python'"
      ]
     },
     "execution_count": 69,
     "metadata": {},
     "output_type": "execute_result"
    }
   ],
   "source": [
    "words = 'CooL LanGuaGe PyTHon'\n",
    "words.capitalize()"
   ]
  },
  {
   "cell_type": "code",
   "execution_count": 70,
   "id": "d724d3b3-7fd0-4af5-9d6c-b65b50fb749f",
   "metadata": {},
   "outputs": [
    {
     "data": {
      "text/plain": [
       "'Cool Language Python'"
      ]
     },
     "execution_count": 70,
     "metadata": {},
     "output_type": "execute_result"
    }
   ],
   "source": [
    "words = 'CooL LanGuaGe PyTHon'\n",
    "words.title()"
   ]
  },
  {
   "cell_type": "markdown",
   "id": "4bce50fd-8e7c-4ebc-8ab4-dbb40d19f4e5",
   "metadata": {},
   "source": [
    "## 文字列の変換｜str.casefoldメソッド"
   ]
  },
  {
   "cell_type": "code",
   "execution_count": 71,
   "id": "d6fe8d2b-2e30-4afc-b2fc-056f62292772",
   "metadata": {},
   "outputs": [
    {
     "data": {
      "text/plain": [
       "'python'"
      ]
     },
     "execution_count": 71,
     "metadata": {},
     "output_type": "execute_result"
    }
   ],
   "source": [
    "word = 'PYTHON'\n",
    "word.casefold()"
   ]
  },
  {
   "cell_type": "code",
   "execution_count": 73,
   "id": "b25a5ad7-c255-4bb2-a149-a0fe6deedc26",
   "metadata": {},
   "outputs": [
    {
     "data": {
      "text/plain": [
       "'ss'"
      ]
     },
     "execution_count": 73,
     "metadata": {},
     "output_type": "execute_result"
    }
   ],
   "source": [
    "word = 'ß'\n",
    "word.casefold() # 特殊文字変換できる"
   ]
  },
  {
   "cell_type": "markdown",
   "id": "7e19004c-d9bb-40d0-a847-2c28f826ca61",
   "metadata": {},
   "source": [
    "## 文字列の変換｜str.upperメソッド、str.lowerメソッド"
   ]
  },
  {
   "cell_type": "code",
   "execution_count": 74,
   "id": "1416b0c8-e40f-4e3a-a125-ad7fd85dda5b",
   "metadata": {},
   "outputs": [
    {
     "data": {
      "text/plain": [
       "'COOL LANGUAGE PYTHON'"
      ]
     },
     "execution_count": 74,
     "metadata": {},
     "output_type": "execute_result"
    }
   ],
   "source": [
    "words = 'Cool language python'\n",
    "words.upper()"
   ]
  },
  {
   "cell_type": "code",
   "execution_count": 75,
   "id": "c456cdb4-82a7-4b52-945d-e49003629522",
   "metadata": {},
   "outputs": [
    {
     "data": {
      "text/plain": [
       "'cool language python'"
      ]
     },
     "execution_count": 75,
     "metadata": {},
     "output_type": "execute_result"
    }
   ],
   "source": [
    "words = 'Cool language python'\n",
    "words.lower()"
   ]
  },
  {
   "cell_type": "code",
   "execution_count": 77,
   "id": "77a3d9a2-ec7f-4d44-baec-b0e09433ab28",
   "metadata": {},
   "outputs": [
    {
     "data": {
      "text/plain": [
       "True"
      ]
     },
     "execution_count": 77,
     "metadata": {},
     "output_type": "execute_result"
    }
   ],
   "source": [
    "words = 'PYTHON'\n",
    "words.isupper()"
   ]
  },
  {
   "cell_type": "code",
   "execution_count": 78,
   "id": "5d26539e-6749-4e4a-ad4e-38adc165c5dc",
   "metadata": {},
   "outputs": [
    {
     "data": {
      "text/plain": [
       "True"
      ]
     },
     "execution_count": 78,
     "metadata": {},
     "output_type": "execute_result"
    }
   ],
   "source": [
    "words = 'python'\n",
    "words.islower()"
   ]
  },
  {
   "cell_type": "markdown",
   "id": "e0c2f072-1f55-4282-8e57-6be8b7d80e60",
   "metadata": {},
   "source": [
    "## 文字列の変換｜str.capitalizeメソッド"
   ]
  },
  {
   "cell_type": "code",
   "execution_count": 79,
   "id": "93ec9489-f885-46ec-aa93-7d74b4342c16",
   "metadata": {},
   "outputs": [
    {
     "data": {
      "text/plain": [
       "'I am studying python.'"
      ]
     },
     "execution_count": 79,
     "metadata": {},
     "output_type": "execute_result"
    }
   ],
   "source": [
    "words = 'i aM sTUdyING pyTHoN.'\n",
    "words.capitalize()"
   ]
  },
  {
   "cell_type": "code",
   "execution_count": 80,
   "id": "db546770-4902-410d-bc99-6895e95d47ad",
   "metadata": {},
   "outputs": [
    {
     "data": {
      "text/plain": [
       "'No python, no life. i study python everyday.'"
      ]
     },
     "execution_count": 80,
     "metadata": {},
     "output_type": "execute_result"
    }
   ],
   "source": [
    "words = 'no python, no life. i study Python everyday.'\n",
    "words.capitalize()"
   ]
  },
  {
   "cell_type": "markdown",
   "id": "dc5c44ec-7eff-4d3b-a127-f1400bc2f57a",
   "metadata": {},
   "source": [
    "## 文字列の変換｜str.titleメソッド"
   ]
  },
  {
   "cell_type": "code",
   "execution_count": 81,
   "id": "edc9ba31-a993-453e-9507-bbca38bb2710",
   "metadata": {},
   "outputs": [
    {
     "data": {
      "text/plain": [
       "'Cool Language Python'"
      ]
     },
     "execution_count": 81,
     "metadata": {},
     "output_type": "execute_result"
    }
   ],
   "source": [
    "words = 'COOL lAnguAge pyTHon'\n",
    "words.title()"
   ]
  },
  {
   "cell_type": "code",
   "execution_count": 82,
   "id": "d5a0debd-9ec2-455b-8a96-8e6d8ffbeb8d",
   "metadata": {},
   "outputs": [
    {
     "data": {
      "text/plain": [
       "False"
      ]
     },
     "execution_count": 82,
     "metadata": {},
     "output_type": "execute_result"
    }
   ],
   "source": [
    "words = 'COOL lAnguAge pyTHon'\n",
    "words.istitle()"
   ]
  },
  {
   "cell_type": "code",
   "execution_count": 83,
   "id": "acabc505-4e7f-4895-8a14-7b041961f3f1",
   "metadata": {},
   "outputs": [
    {
     "data": {
      "text/plain": [
       "True"
      ]
     },
     "execution_count": 83,
     "metadata": {},
     "output_type": "execute_result"
    }
   ],
   "source": [
    "words = 'Cool Language Python'\n",
    "words.istitle()"
   ]
  },
  {
   "cell_type": "markdown",
   "id": "945b66b8-4e6c-4ad2-b09f-60fbb5dbbf91",
   "metadata": {},
   "source": [
    "## 文字列の変換｜translateメソッド"
   ]
  },
  {
   "cell_type": "code",
   "execution_count": 87,
   "id": "55628186-d0df-4569-8f91-e3dc66f95803",
   "metadata": {},
   "outputs": [
    {
     "data": {
      "text/plain": [
       "'cOOl-lAnguAge-pythOn'"
      ]
     },
     "execution_count": 87,
     "metadata": {},
     "output_type": "execute_result"
    }
   ],
   "source": [
    "# 複数の文字の置き換え\n",
    "s = 'cool-language-python'\n",
    "s1 = s.translate(str.maketrans('oa', 'OA'))\n",
    "s1"
   ]
  },
  {
   "cell_type": "code",
   "execution_count": 91,
   "id": "1cfba106-c795-47bd-927f-d2204c0aebb8",
   "metadata": {},
   "outputs": [
    {
     "data": {
      "text/plain": [
       "'coollanguagepython'"
      ]
     },
     "execution_count": 91,
     "metadata": {},
     "output_type": "execute_result"
    }
   ],
   "source": [
    "s1 = 'cOOl-lAnguAge-pythOn'\n",
    "s2 = s1.translate(str.maketrans('OA', 'oa', '-'))\n",
    "s2"
   ]
  },
  {
   "cell_type": "code",
   "execution_count": 97,
   "id": "6d63a311-042f-415d-8047-570de86551af",
   "metadata": {},
   "outputs": [
    {
     "data": {
      "text/plain": [
       "'cool-language-SQL'"
      ]
     },
     "execution_count": 97,
     "metadata": {},
     "output_type": "execute_result"
    }
   ],
   "source": [
    "s = 'cool-language-python'\n",
    "s03 = s.replace('python', 'SQL')\n",
    "s03"
   ]
  },
  {
   "cell_type": "code",
   "execution_count": 99,
   "id": "1abe1e09-154e-4daf-8c3c-3d1ba02a6d2a",
   "metadata": {},
   "outputs": [
    {
     "data": {
      "text/plain": [
       "'coollanguageSQL'"
      ]
     },
     "execution_count": 99,
     "metadata": {},
     "output_type": "execute_result"
    }
   ],
   "source": [
    "s03 = 'cool-language-SQL'\n",
    "s04 = s03.replace('-', '')\n",
    "s04"
   ]
  },
  {
   "cell_type": "markdown",
   "id": "1aa10c79-64ef-4b04-9c18-5aa47cbbceb7",
   "metadata": {},
   "source": [
    "## 文字列の判定｜str.findメソッド"
   ]
  },
  {
   "cell_type": "code",
   "execution_count": 100,
   "id": "a9022996-5574-4f09-bbb8-a790849f33af",
   "metadata": {},
   "outputs": [
    {
     "data": {
      "text/plain": [
       "5"
      ]
     },
     "execution_count": 100,
     "metadata": {},
     "output_type": "execute_result"
    }
   ],
   "source": [
    "words = 'I am studying python'\n",
    "words.find('study')"
   ]
  },
  {
   "cell_type": "code",
   "execution_count": 101,
   "id": "12100e05-a555-4639-96f1-6bb48a0f1667",
   "metadata": {},
   "outputs": [
    {
     "data": {
      "text/plain": [
       "-1"
      ]
     },
     "execution_count": 101,
     "metadata": {},
     "output_type": "execute_result"
    }
   ],
   "source": [
    "words = 'I am studying python'\n",
    "words.find('run')"
   ]
  },
  {
   "cell_type": "code",
   "execution_count": 103,
   "id": "f5dc01ec-9043-4d17-a816-777d0ae226b6",
   "metadata": {},
   "outputs": [
    {
     "data": {
      "text/plain": [
       "0"
      ]
     },
     "execution_count": 103,
     "metadata": {},
     "output_type": "execute_result"
    }
   ],
   "source": [
    "words = 'no python, no life'\n",
    "words.find('no')"
   ]
  },
  {
   "cell_type": "markdown",
   "id": "39aec941-2cf2-44c4-9ced-f5be330c214a",
   "metadata": {},
   "source": [
    "## 文字列の判定｜str.isalphaメソッド"
   ]
  },
  {
   "cell_type": "code",
   "execution_count": 2,
   "id": "c1a7ba3e-f314-42c6-955f-6ae2177532ec",
   "metadata": {},
   "outputs": [
    {
     "data": {
      "text/plain": [
       "True"
      ]
     },
     "execution_count": 2,
     "metadata": {},
     "output_type": "execute_result"
    }
   ],
   "source": [
    "word = 'python'\n",
    "word.isalpha()"
   ]
  },
  {
   "cell_type": "code",
   "execution_count": 3,
   "id": "183ed192-993b-4caf-ad53-604f8dbe24bf",
   "metadata": {},
   "outputs": [
    {
     "data": {
      "text/plain": [
       "True"
      ]
     },
     "execution_count": 3,
     "metadata": {},
     "output_type": "execute_result"
    }
   ],
   "source": [
    "word = 'こんにちは'\n",
    "word.isalpha()"
   ]
  },
  {
   "cell_type": "code",
   "execution_count": 4,
   "id": "c407d55a-f287-42d7-9de5-e521122a2299",
   "metadata": {},
   "outputs": [
    {
     "data": {
      "text/plain": [
       "True"
      ]
     },
     "execution_count": 4,
     "metadata": {},
     "output_type": "execute_result"
    }
   ],
   "source": [
    "word = '学習'\n",
    "word.isalpha()"
   ]
  },
  {
   "cell_type": "code",
   "execution_count": 5,
   "id": "6209bddf-e86d-4351-9408-1b6ee0616070",
   "metadata": {},
   "outputs": [
    {
     "data": {
      "text/plain": [
       "False"
      ]
     },
     "execution_count": 5,
     "metadata": {},
     "output_type": "execute_result"
    }
   ],
   "source": [
    "word = '123Abc'\n",
    "word.isalpha()"
   ]
  },
  {
   "cell_type": "code",
   "execution_count": 6,
   "id": "c3925c4e-9dbf-487a-a49b-ebbff0c22d22",
   "metadata": {},
   "outputs": [
    {
     "data": {
      "text/plain": [
       "False"
      ]
     },
     "execution_count": 6,
     "metadata": {},
     "output_type": "execute_result"
    }
   ],
   "source": [
    "word = '123456789'\n",
    "word.isalpha()"
   ]
  },
  {
   "cell_type": "code",
   "execution_count": 9,
   "id": "c587c0ba-3d3e-4176-ab17-283ed720a8a5",
   "metadata": {},
   "outputs": [
    {
     "data": {
      "text/plain": [
       "True"
      ]
     },
     "execution_count": 9,
     "metadata": {},
     "output_type": "execute_result"
    }
   ],
   "source": [
    "word = '123456789'\n",
    "word.isnumeric()"
   ]
  },
  {
   "cell_type": "markdown",
   "id": "0ddb65a1-6bdb-4ac6-a579-a8be4ce8e2ff",
   "metadata": {},
   "source": [
    "## 文字列の判定｜str.isdigitメソッド"
   ]
  },
  {
   "cell_type": "code",
   "execution_count": 15,
   "id": "74088f73-3e12-460d-84e4-548bbd31bfa2",
   "metadata": {},
   "outputs": [
    {
     "data": {
      "text/plain": [
       "True"
      ]
     },
     "execution_count": 15,
     "metadata": {},
     "output_type": "execute_result"
    }
   ],
   "source": [
    "word = '123456'\n",
    "word.isdigit() # 数字しか判断できない"
   ]
  },
  {
   "cell_type": "code",
   "execution_count": 16,
   "id": "93c4eb3a-4b4e-40cc-91d1-6e68b1ab4fb1",
   "metadata": {},
   "outputs": [
    {
     "data": {
      "text/plain": [
       "False"
      ]
     },
     "execution_count": 16,
     "metadata": {},
     "output_type": "execute_result"
    }
   ],
   "source": [
    "word = '123abc456'\n",
    "word.isdigit()"
   ]
  },
  {
   "cell_type": "code",
   "execution_count": 19,
   "id": "aec782dd-fdfe-4b2a-bec8-a5223d2d2110",
   "metadata": {},
   "outputs": [
    {
     "data": {
      "text/plain": [
       "False"
      ]
     },
     "execution_count": 19,
     "metadata": {},
     "output_type": "execute_result"
    }
   ],
   "source": [
    "word = '1234五'\n",
    "word.isdigit()"
   ]
  },
  {
   "cell_type": "code",
   "execution_count": 20,
   "id": "d298ae11-634b-4ec6-8442-c33fb36012db",
   "metadata": {},
   "outputs": [
    {
     "data": {
      "text/plain": [
       "True"
      ]
     },
     "execution_count": 20,
     "metadata": {},
     "output_type": "execute_result"
    }
   ],
   "source": [
    "word = '1234五'\n",
    "word.isnumeric() # isnumericは関数字も判定できる"
   ]
  },
  {
   "cell_type": "markdown",
   "id": "c9a458d9-4dbe-429f-94f6-a0f6346e14c3",
   "metadata": {},
   "source": [
    "## 文字列の判定｜str.isnumericメソッド"
   ]
  },
  {
   "cell_type": "code",
   "execution_count": 21,
   "id": "45f2ecb1-36ff-433a-bda5-8e32effc6557",
   "metadata": {},
   "outputs": [
    {
     "data": {
      "text/plain": [
       "True"
      ]
     },
     "execution_count": 21,
     "metadata": {},
     "output_type": "execute_result"
    }
   ],
   "source": [
    "word = '123456'\n",
    "word.isnumeric()"
   ]
  },
  {
   "cell_type": "code",
   "execution_count": 22,
   "id": "2442a33d-f7ff-4d7e-918f-18328f718ceb",
   "metadata": {},
   "outputs": [
    {
     "data": {
      "text/plain": [
       "False"
      ]
     },
     "execution_count": 22,
     "metadata": {},
     "output_type": "execute_result"
    }
   ],
   "source": [
    "word = '123abc456'\n",
    "word.isnumeric()"
   ]
  },
  {
   "cell_type": "code",
   "execution_count": 24,
   "id": "0a97c6ad-f185-4cce-aa94-fe9be8386537",
   "metadata": {},
   "outputs": [
    {
     "data": {
      "text/plain": [
       "True"
      ]
     },
     "execution_count": 24,
     "metadata": {},
     "output_type": "execute_result"
    }
   ],
   "source": [
    "word = '1234五⑥'\n",
    "word.isnumeric()"
   ]
  },
  {
   "cell_type": "code",
   "execution_count": 25,
   "id": "f5eb7a4d-46f1-48f1-8ad1-f9723b14f872",
   "metadata": {},
   "outputs": [
    {
     "data": {
      "text/plain": [
       "False"
      ]
     },
     "execution_count": 25,
     "metadata": {},
     "output_type": "execute_result"
    }
   ],
   "source": [
    "word = '1234五⑥'\n",
    "word.isdigit()"
   ]
  },
  {
   "cell_type": "markdown",
   "id": "e5540ac3-f80b-47f2-8e33-14503095ed7e",
   "metadata": {},
   "source": [
    "## 文字列の判定｜str.isdecimalメソッド"
   ]
  },
  {
   "cell_type": "code",
   "execution_count": 26,
   "id": "b4adf700-f5d9-4221-bb1b-203ce97b55c4",
   "metadata": {},
   "outputs": [
    {
     "data": {
      "text/plain": [
       "True"
      ]
     },
     "execution_count": 26,
     "metadata": {},
     "output_type": "execute_result"
    }
   ],
   "source": [
    "word = '20210804'\n",
    "word.isdecimal()"
   ]
  },
  {
   "cell_type": "code",
   "execution_count": 27,
   "id": "cee9e52c-ae0c-491d-92ca-21e9b933c58c",
   "metadata": {},
   "outputs": [
    {
     "data": {
      "text/plain": [
       "False"
      ]
     },
     "execution_count": 27,
     "metadata": {},
     "output_type": "execute_result"
    }
   ],
   "source": [
    "word = '2021Aug04'\n",
    "word.isdecimal()"
   ]
  },
  {
   "cell_type": "code",
   "execution_count": 28,
   "id": "da2b36ba-6d4e-4322-b0a4-59a175ced60f",
   "metadata": {},
   "outputs": [
    {
     "data": {
      "text/plain": [
       "False"
      ]
     },
     "execution_count": 28,
     "metadata": {},
     "output_type": "execute_result"
    }
   ],
   "source": [
    "word = '2021,08-04'\n",
    "word.isdecimal()"
   ]
  },
  {
   "cell_type": "code",
   "execution_count": 29,
   "id": "b2ff3238-13f6-45cb-861f-0b8540c051bf",
   "metadata": {},
   "outputs": [
    {
     "data": {
      "text/plain": [
       "True"
      ]
     },
     "execution_count": 29,
     "metadata": {},
     "output_type": "execute_result"
    }
   ],
   "source": [
    "word = '０８０４'\n",
    "word.isdecimal()"
   ]
  },
  {
   "cell_type": "code",
   "execution_count": 34,
   "id": "517499d5-892a-4c52-a61b-1c6c9f339e12",
   "metadata": {},
   "outputs": [
    {
     "name": "stdout",
     "output_type": "stream",
     "text": [
      "False\n",
      "True\n",
      "True\n"
     ]
    }
   ],
   "source": [
    "word = '③'\n",
    "print(word.isdecimal())\n",
    "print(word.isdigit())\n",
    "print(word.isnumeric())"
   ]
  },
  {
   "cell_type": "code",
   "execution_count": 35,
   "id": "717014d1-f1ce-4178-a3a3-cf667966bab9",
   "metadata": {},
   "outputs": [
    {
     "name": "stdout",
     "output_type": "stream",
     "text": [
      "False\n",
      "False\n",
      "True\n"
     ]
    }
   ],
   "source": [
    "print('七五三'.isdecimal())\n",
    "print('七五三'.isdigit())\n",
    "print('七五三'.isnumeric())"
   ]
  },
  {
   "cell_type": "code",
   "execution_count": 37,
   "id": "45b27f09-03f2-4b64-8b81-2d0829d34566",
   "metadata": {},
   "outputs": [
    {
     "name": "stdout",
     "output_type": "stream",
     "text": [
      "False\n",
      "False\n",
      "False\n"
     ]
    }
   ],
   "source": [
    "print('3.1.4'.isdecimal())\n",
    "print('3.1.4'.isdigit())\n",
    "print('3.1.4'.isnumeric())"
   ]
  },
  {
   "cell_type": "markdown",
   "id": "28f2160b-4d7d-4119-833f-fda2dda3badb",
   "metadata": {},
   "source": [
    "## 文字列の判定｜str.isalnumメソッド\n",
    "文字列が文字や数字のみの構成かを判別"
   ]
  },
  {
   "cell_type": "code",
   "execution_count": 41,
   "id": "d08911ae-8307-4f4b-b251-762e4b937bc5",
   "metadata": {},
   "outputs": [
    {
     "data": {
      "text/plain": [
       "True"
      ]
     },
     "execution_count": 41,
     "metadata": {},
     "output_type": "execute_result"
    }
   ],
   "source": [
    "word = 'python'\n",
    "word.isalnum()"
   ]
  },
  {
   "cell_type": "code",
   "execution_count": 42,
   "id": "cb7523ca-dc1a-4b36-a561-e1cf6316915a",
   "metadata": {},
   "outputs": [
    {
     "data": {
      "text/plain": [
       "True"
      ]
     },
     "execution_count": 42,
     "metadata": {},
     "output_type": "execute_result"
    }
   ],
   "source": [
    "word = '123abc'\n",
    "word.isalnum()"
   ]
  },
  {
   "cell_type": "code",
   "execution_count": 43,
   "id": "32881d86-6662-456e-92b8-ec78e249deb9",
   "metadata": {},
   "outputs": [
    {
     "data": {
      "text/plain": [
       "True"
      ]
     },
     "execution_count": 43,
     "metadata": {},
     "output_type": "execute_result"
    }
   ],
   "source": [
    "word = 'pythonを勉強しています'\n",
    "word.isalnum()"
   ]
  },
  {
   "cell_type": "code",
   "execution_count": 45,
   "id": "fe23a876-a0b8-49d2-8f4c-3cc9f04cef55",
   "metadata": {},
   "outputs": [
    {
     "data": {
      "text/plain": [
       "False"
      ]
     },
     "execution_count": 45,
     "metadata": {},
     "output_type": "execute_result"
    }
   ],
   "source": [
    "word = 'dokcer-compose'\n",
    "word.isalnum()"
   ]
  },
  {
   "cell_type": "markdown",
   "id": "b70963a0-826b-4741-bb21-c270faea4598",
   "metadata": {},
   "source": [
    "## 文字列の判定｜str.isspaceメソッド\n",
    "Pythonで文字列が空白かどうか確認"
   ]
  },
  {
   "cell_type": "code",
   "execution_count": 47,
   "id": "9a51f6a7-58e7-4d82-b68b-9b691903ef6b",
   "metadata": {},
   "outputs": [
    {
     "data": {
      "text/plain": [
       "True"
      ]
     },
     "execution_count": 47,
     "metadata": {},
     "output_type": "execute_result"
    }
   ],
   "source": [
    "word = '　　　　'\n",
    "word.isspace()"
   ]
  },
  {
   "cell_type": "code",
   "execution_count": 48,
   "id": "23e52719-0d73-4b77-81f1-56a65353d2a9",
   "metadata": {},
   "outputs": [
    {
     "data": {
      "text/plain": [
       "True"
      ]
     },
     "execution_count": 48,
     "metadata": {},
     "output_type": "execute_result"
    }
   ],
   "source": [
    "word = '\\n'\n",
    "word.isspace()"
   ]
  },
  {
   "cell_type": "code",
   "execution_count": 50,
   "id": "b2cc9fee-f4ac-4159-b478-6b408a3671d5",
   "metadata": {},
   "outputs": [
    {
     "data": {
      "text/plain": [
       "False"
      ]
     },
     "execution_count": 50,
     "metadata": {},
     "output_type": "execute_result"
    }
   ],
   "source": [
    "word = 'Pyt hon'\n",
    "word.isspace() # すべての要素が空白ではないとfalse"
   ]
  },
  {
   "cell_type": "markdown",
   "id": "0ff738f5-dcd9-4ecd-82de-bf4e6c78fc84",
   "metadata": {},
   "source": [
    "## 文字列の判定｜str.isprintableメソッド\n",
    "Pythonで文字列が出力可能か確認"
   ]
  },
  {
   "cell_type": "code",
   "execution_count": 53,
   "id": "40582211-826c-40e3-b425-e0fb731c3d92",
   "metadata": {},
   "outputs": [
    {
     "data": {
      "text/plain": [
       "True"
      ]
     },
     "execution_count": 53,
     "metadata": {},
     "output_type": "execute_result"
    }
   ],
   "source": [
    "words = 'I am studying python'\n",
    "words.isprintable()"
   ]
  },
  {
   "cell_type": "code",
   "execution_count": 55,
   "id": "ab9e358c-365b-4afd-a801-754f811671fd",
   "metadata": {},
   "outputs": [
    {
     "data": {
      "text/plain": [
       "False"
      ]
     },
     "execution_count": 55,
     "metadata": {},
     "output_type": "execute_result"
    }
   ],
   "source": [
    "words = 'I am\\n studying\\a python'\n",
    "words.isprintable()"
   ]
  },
  {
   "cell_type": "code",
   "execution_count": 56,
   "id": "5cd61536-977e-410b-99ae-2cacdb75b620",
   "metadata": {},
   "outputs": [
    {
     "data": {
      "text/plain": [
       "False"
      ]
     },
     "execution_count": 56,
     "metadata": {},
     "output_type": "execute_result"
    }
   ],
   "source": [
    "words = 'I　am　studying　python'\n",
    "words.isprintable()"
   ]
  },
  {
   "cell_type": "markdown",
   "id": "3e59da26-484d-43fa-beaa-b2a5e56c5c78",
   "metadata": {},
   "source": [
    "## 文字列の情報を取得｜str.indexメソッド\n",
    "Pythonで特定の文字列が出現する位置を確認する方法"
   ]
  },
  {
   "cell_type": "code",
   "execution_count": 57,
   "id": "52eb963e-8a74-4862-8c2d-ae5f4387d778",
   "metadata": {},
   "outputs": [
    {
     "data": {
      "text/plain": [
       "5"
      ]
     },
     "execution_count": 57,
     "metadata": {},
     "output_type": "execute_result"
    }
   ],
   "source": [
    "words = 'I am studying python'\n",
    "words.index('study')"
   ]
  },
  {
   "cell_type": "code",
   "execution_count": 58,
   "id": "fbcf79c9-9b0f-4bcb-b70d-5613b42f46a2",
   "metadata": {},
   "outputs": [
    {
     "data": {
      "text/plain": [
       "0"
      ]
     },
     "execution_count": 58,
     "metadata": {},
     "output_type": "execute_result"
    }
   ],
   "source": [
    "words = 'no python, no life'\n",
    "words.index('no')"
   ]
  },
  {
   "cell_type": "code",
   "execution_count": 60,
   "id": "70d6b336-c0ff-4586-b911-14cdb652cd40",
   "metadata": {},
   "outputs": [
    {
     "data": {
      "text/plain": [
       "-1"
      ]
     },
     "execution_count": 60,
     "metadata": {},
     "output_type": "execute_result"
    }
   ],
   "source": [
    "words = 'I am studying python'\n",
    "words.find('run') # findは指定した文字がない場合は-1が返る"
   ]
  },
  {
   "cell_type": "markdown",
   "id": "febc1cc1-a366-4977-b348-ae4c0203da93",
   "metadata": {},
   "source": [
    "## 文字列の情報を取得｜str.rfindメソッド/str.rindex関メソッド\n",
    "Pythonで特定の文字列が最後に出現する位置を確認する方法"
   ]
  },
  {
   "cell_type": "code",
   "execution_count": 62,
   "id": "d4be6a5a-817c-4c07-bd74-f3740f8df394",
   "metadata": {},
   "outputs": [
    {
     "data": {
      "text/plain": [
       "13"
      ]
     },
     "execution_count": 62,
     "metadata": {},
     "output_type": "execute_result"
    }
   ],
   "source": [
    "words = 'good cookie, good book'\n",
    "words.rfind('good')"
   ]
  },
  {
   "cell_type": "code",
   "execution_count": 67,
   "id": "4e947846-192e-4b10-aaf6-947e971c6539",
   "metadata": {},
   "outputs": [
    {
     "data": {
      "text/plain": [
       "14"
      ]
     },
     "execution_count": 68,
     "metadata": {},
     "output_type": "execute_result"
    }
   ],
   "source": [
    "words = 'good cookie, good book'\n",
    "words.rfind('oo', 3, 16)"
   ]
  },
  {
   "cell_type": "code",
   "execution_count": 70,
   "id": "91208acd-c194-4c13-9f2a-b9d4154d11f2",
   "metadata": {},
   "outputs": [
    {
     "data": {
      "text/plain": [
       "-1"
      ]
     },
     "execution_count": 70,
     "metadata": {},
     "output_type": "execute_result"
    }
   ],
   "source": [
    "words = 'good cookie, good book'\n",
    "words.rfind('aa')"
   ]
  },
  {
   "cell_type": "code",
   "execution_count": 71,
   "id": "a4b5a71f-8c79-4b1b-897f-04814a3f6e48",
   "metadata": {},
   "outputs": [
    {
     "data": {
      "text/plain": [
       "13"
      ]
     },
     "execution_count": 71,
     "metadata": {},
     "output_type": "execute_result"
    }
   ],
   "source": [
    "words = 'good cookie, good book'\n",
    "words.rindex('good')"
   ]
  },
  {
   "cell_type": "markdown",
   "id": "c10947c1-216c-4804-8953-ecc402106923",
   "metadata": {},
   "source": [
    "## 文字列の情報を取得｜str.countメソッド\n",
    "Pythonで文字列の出現回数を数える方法"
   ]
  },
  {
   "cell_type": "code",
   "execution_count": 72,
   "id": "7ab98f1b-8008-4e56-ba4f-7ca0de9ac190",
   "metadata": {},
   "outputs": [
    {
     "data": {
      "text/plain": [
       "3"
      ]
     },
     "execution_count": 72,
     "metadata": {},
     "output_type": "execute_result"
    }
   ],
   "source": [
    "word = 'cool-language-python'\n",
    "word.count('o')"
   ]
  },
  {
   "cell_type": "code",
   "execution_count": 73,
   "id": "9d5cfc9f-c48b-4085-a39d-afac9cb32f19",
   "metadata": {},
   "outputs": [
    {
     "data": {
      "text/plain": [
       "2"
      ]
     },
     "execution_count": 73,
     "metadata": {},
     "output_type": "execute_result"
    }
   ],
   "source": [
    "words = 'no python no life'\n",
    "words.count('no')"
   ]
  },
  {
   "cell_type": "code",
   "execution_count": 75,
   "id": "8be72d90-41d9-4c76-903e-6337f154ec8a",
   "metadata": {},
   "outputs": [
    {
     "data": {
      "text/plain": [
       "0"
      ]
     },
     "execution_count": 75,
     "metadata": {},
     "output_type": "execute_result"
    }
   ],
   "source": [
    "words = 'no python no life'\n",
    "words.count('study')"
   ]
  },
  {
   "cell_type": "code",
   "execution_count": null,
   "id": "f2cd7d1c-7d70-4a2f-996d-d82b52f0ded6",
   "metadata": {},
   "outputs": [],
   "source": []
  }
 ],
 "metadata": {
  "kernelspec": {
   "display_name": "Python 3 (ipykernel)",
   "language": "python",
   "name": "python3"
  },
  "language_info": {
   "codemirror_mode": {
    "name": "ipython",
    "version": 3
   },
   "file_extension": ".py",
   "mimetype": "text/x-python",
   "name": "python",
   "nbconvert_exporter": "python",
   "pygments_lexer": "ipython3",
   "version": "3.7.16"
  }
 },
 "nbformat": 4,
 "nbformat_minor": 5
}
