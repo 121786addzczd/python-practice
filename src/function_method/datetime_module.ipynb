{
 "cells": [
  {
   "cell_type": "markdown",
   "id": "8ab914fa-1fd8-4fe5-b31a-1bda7f20fdad",
   "metadata": {},
   "source": [
    "## 今日の日付を取得 | datetime.date.today"
   ]
  },
  {
   "cell_type": "code",
   "execution_count": 1,
   "id": "2abc3a83-1f81-4748-852c-8960c7c4efb9",
   "metadata": {},
   "outputs": [],
   "source": [
    "import datetime"
   ]
  },
  {
   "cell_type": "code",
   "execution_count": 2,
   "id": "93ee6d46-55b7-4971-812a-d791229068ba",
   "metadata": {},
   "outputs": [
    {
     "data": {
      "text/plain": [
       "datetime.date(2023, 6, 4)"
      ]
     },
     "execution_count": 2,
     "metadata": {},
     "output_type": "execute_result"
    }
   ],
   "source": [
    "today = datetime.date.today()\n",
    "today"
   ]
  },
  {
   "cell_type": "code",
   "execution_count": 3,
   "id": "5f4b3f3c-f2d3-4803-ae46-c45e821a801a",
   "metadata": {},
   "outputs": [
    {
     "name": "stdout",
     "output_type": "stream",
     "text": [
      "2023\n",
      "6\n",
      "4\n"
     ]
    }
   ],
   "source": [
    "print(today.year)\n",
    "print(today.month)\n",
    "print(today.day)"
   ]
  },
  {
   "cell_type": "markdown",
   "id": "84726134-e370-4eba-b5e7-a2e145baf3cc",
   "metadata": {},
   "source": [
    "## 日時を指定した書式の文字列に変換 | strftime"
   ]
  },
  {
   "cell_type": "code",
   "execution_count": 4,
   "id": "f6437063-dc68-40cb-8130-e49a1794927f",
   "metadata": {},
   "outputs": [
    {
     "data": {
      "text/plain": [
       "datetime.datetime(2023, 6, 4, 16, 6, 21, 791842)"
      ]
     },
     "execution_count": 4,
     "metadata": {},
     "output_type": "execute_result"
    }
   ],
   "source": [
    "now = datetime.datetime.now()\n",
    "now"
   ]
  },
  {
   "cell_type": "code",
   "execution_count": 5,
   "id": "c6b971a3-d8c2-4bdd-b447-8fda206d76ee",
   "metadata": {},
   "outputs": [
    {
     "data": {
      "text/plain": [
       "'2023.06.04, 16;06:21'"
      ]
     },
     "execution_count": 5,
     "metadata": {},
     "output_type": "execute_result"
    }
   ],
   "source": [
    "now.strftime('%Y.%m.%d, %H;%M:%S')"
   ]
  },
  {
   "cell_type": "code",
   "execution_count": 6,
   "id": "fbbdf934-710a-4770-a196-cc6cbb0527be",
   "metadata": {},
   "outputs": [
    {
     "data": {
      "text/plain": [
       "'Sunday, June, 04, 2023'"
      ]
     },
     "execution_count": 6,
     "metadata": {},
     "output_type": "execute_result"
    }
   ],
   "source": [
    "# 英語表記で曜日と年月日を取得\n",
    "now.strftime('%A, %B, %d, %Y')"
   ]
  },
  {
   "cell_type": "code",
   "execution_count": 7,
   "id": "fc72c355-98c7-4571-9c81-487ef8ab02bf",
   "metadata": {},
   "outputs": [
    {
     "data": {
      "text/plain": [
       "'2023年06月04日'"
      ]
     },
     "execution_count": 7,
     "metadata": {},
     "output_type": "execute_result"
    }
   ],
   "source": [
    "# 日本語の年月日で取得\n",
    "now.strftime('%Y年%m月%d日')"
   ]
  },
  {
   "cell_type": "markdown",
   "id": "bb346450-1935-4d28-8fd4-6e4d5c93ddf0",
   "metadata": {},
   "source": [
    "## 現在の日時と時刻を取得する | datetime.now"
   ]
  },
  {
   "cell_type": "code",
   "execution_count": 8,
   "id": "b76ae6b8-c943-4154-bb99-95099af23e3d",
   "metadata": {},
   "outputs": [
    {
     "data": {
      "text/plain": [
       "datetime.datetime(2023, 6, 4, 16, 7, 8, 582249)"
      ]
     },
     "execution_count": 8,
     "metadata": {},
     "output_type": "execute_result"
    }
   ],
   "source": [
    "now = datetime.datetime.now()\n",
    "now"
   ]
  },
  {
   "cell_type": "code",
   "execution_count": 9,
   "id": "8031ad98-287a-40b2-984f-a8a8c444c70c",
   "metadata": {},
   "outputs": [
    {
     "data": {
      "text/plain": [
       "datetime.datetime"
      ]
     },
     "execution_count": 9,
     "metadata": {},
     "output_type": "execute_result"
    }
   ],
   "source": [
    "type(now)"
   ]
  },
  {
   "cell_type": "code",
   "execution_count": 10,
   "id": "97746afa-47ed-40e7-b756-6e43fec46471",
   "metadata": {},
   "outputs": [
    {
     "name": "stdout",
     "output_type": "stream",
     "text": [
      "2023\n",
      "6\n",
      "4\n"
     ]
    }
   ],
   "source": [
    "print(now.year)\n",
    "print(now.month)\n",
    "print(now.day)"
   ]
  },
  {
   "cell_type": "code",
   "execution_count": 11,
   "id": "23972f0c-2128-4a01-b5fe-6a781c75cfb9",
   "metadata": {},
   "outputs": [
    {
     "name": "stdout",
     "output_type": "stream",
     "text": [
      "None\n"
     ]
    }
   ],
   "source": [
    "# timezoneの設定ができるがデフォルトではNone\n",
    "print(now.tzinfo)"
   ]
  },
  {
   "cell_type": "code",
   "execution_count": 12,
   "id": "d1256515-d069-4136-8f57-c07a293b8638",
   "metadata": {},
   "outputs": [],
   "source": [
    "# timezonを設定して日時を取得\n",
    "tz = datetime.timezone(datetime.timedelta(hours=9))\n",
    "now = datetime.datetime.now(tz)"
   ]
  },
  {
   "cell_type": "code",
   "execution_count": 13,
   "id": "02bcbb06-05b4-426d-abbf-e904bea3ac81",
   "metadata": {},
   "outputs": [
    {
     "name": "stdout",
     "output_type": "stream",
     "text": [
      "2023\n",
      "6\n",
      "5\n",
      "1\n",
      "8\n",
      "11\n"
     ]
    }
   ],
   "source": [
    "# datetimeモジュールでdatetimeクラスを用いて現在の日付と時刻を取得し、西暦、月、日、時、秒をそれぞれ表示させる\n",
    "print(now.year)\n",
    "print(now.month)\n",
    "print(now.day)\n",
    "print(now.hour)\n",
    "print(now.minute)\n",
    "print(now.second)"
   ]
  },
  {
   "cell_type": "code",
   "execution_count": 14,
   "id": "8b61fdea-fd2c-4e1d-a0ce-7bac840d999d",
   "metadata": {},
   "outputs": [
    {
     "name": "stdout",
     "output_type": "stream",
     "text": [
      "2023-06-04 16:08:33.327179\n",
      "2023-06-05 01:08:33.327237+09:00\n"
     ]
    }
   ],
   "source": [
    "now1 = datetime.datetime.now()\n",
    "tz = datetime.timezone(datetime.timedelta(hours=9))\n",
    "now2 = datetime.datetime.now(tz)\n",
    "print(now1)\n",
    "print(now2)"
   ]
  },
  {
   "cell_type": "markdown",
   "id": "17040590-610f-40bb-9727-d44321743eb0",
   "metadata": {},
   "source": [
    "## 日付や時刻の値を変更する方法 | datetime.replace"
   ]
  },
  {
   "cell_type": "code",
   "execution_count": 15,
   "id": "e6fc2d71-36aa-4470-848b-d78683dc03a9",
   "metadata": {},
   "outputs": [
    {
     "data": {
      "text/plain": [
       "datetime.datetime(2023, 6, 4, 16, 8, 54, 43003)"
      ]
     },
     "execution_count": 15,
     "metadata": {},
     "output_type": "execute_result"
    }
   ],
   "source": [
    "now = datetime.datetime.now()\n",
    "now"
   ]
  },
  {
   "cell_type": "code",
   "execution_count": 16,
   "id": "7d887775-8f49-448a-bb65-452378ce6dc8",
   "metadata": {},
   "outputs": [
    {
     "data": {
      "text/plain": [
       "datetime.datetime(2023, 3, 1, 16, 8, 54, 43003)"
      ]
     },
     "execution_count": 16,
     "metadata": {},
     "output_type": "execute_result"
    }
   ],
   "source": [
    "now.replace(year=2023, month=3, day=1)"
   ]
  },
  {
   "cell_type": "code",
   "execution_count": 17,
   "id": "9aeaaf0e-f949-4938-ac21-d2260fb1a3a1",
   "metadata": {},
   "outputs": [
    {
     "data": {
      "text/plain": [
       "datetime.datetime(2023, 6, 4, 16, 22, 30, 43003)"
      ]
     },
     "execution_count": 17,
     "metadata": {},
     "output_type": "execute_result"
    }
   ],
   "source": [
    "now.replace(hour=16, minute=22, second=30)"
   ]
  },
  {
   "cell_type": "code",
   "execution_count": 19,
   "id": "50e1836c-f487-4397-9868-c79cd18c2b88",
   "metadata": {},
   "outputs": [
    {
     "name": "stdout",
     "output_type": "stream",
     "text": [
      "2023-06-04 16:10:01.387157\n",
      "2020-03-01 16:10:01.387157\n"
     ]
    }
   ],
   "source": [
    "# datetimeモジュールのdatetimeクラスを用いて現在の日付と時刻を取得し、変数now1に代入します。\n",
    "# 次に、年を2020年に、月を3月に、日を1日に変更し、変数now2に代入します。\n",
    "# 変数now1と変数now2を表示してみましょう。\n",
    "\n",
    "now1 = datetime.datetime.now()\n",
    "now2 = now1.replace(year=2020, month=3, day=1)\n",
    "print(now1)\n",
    "print(now2)"
   ]
  },
  {
   "cell_type": "code",
   "execution_count": 20,
   "id": "e8150df7-3c9a-481f-a02e-6c53a18b39bb",
   "metadata": {},
   "outputs": [
    {
     "name": "stdout",
     "output_type": "stream",
     "text": [
      "2023-06-04 16:10:49.154473\n",
      "2023-06-04 16:22:30.154473\n"
     ]
    }
   ],
   "source": [
    "# datetimeモジュールのdatetimeクラスを用いて現在の日付と時刻を取得し、変数now1に代入します。\n",
    "# 次に、時間を16時に、分を22分に、秒を30秒に変更し、変数now2に代入します。\n",
    "# 変数now1と変数now2を表示してみましょう。\n",
    "now1 = datetime.datetime.now()\n",
    "now2 = now1.replace(hour=16, minute=22, second=30)\n",
    "print(now1)\n",
    "print(now2)"
   ]
  },
  {
   "cell_type": "markdown",
   "id": "fd034490-ee30-41af-bfbf-b2533740357f",
   "metadata": {},
   "source": [
    "## 曜日を取得する | datetime.date.weekday"
   ]
  },
  {
   "cell_type": "code",
   "execution_count": 21,
   "id": "9e40af4a-11d5-4413-a97b-7acf4185d877",
   "metadata": {},
   "outputs": [
    {
     "data": {
      "text/plain": [
       "datetime.date(2023, 6, 4)"
      ]
     },
     "execution_count": 21,
     "metadata": {},
     "output_type": "execute_result"
    }
   ],
   "source": [
    "today = datetime.date.today()\n",
    "today"
   ]
  },
  {
   "cell_type": "code",
   "execution_count": 22,
   "id": "80bcb9ed-a618-4325-a8b2-80e7b1f20027",
   "metadata": {},
   "outputs": [
    {
     "data": {
      "text/plain": [
       "6"
      ]
     },
     "execution_count": 22,
     "metadata": {},
     "output_type": "execute_result"
    }
   ],
   "source": [
    "today.weekday()"
   ]
  },
  {
   "cell_type": "code",
   "execution_count": 23,
   "id": "7fd8a47e-58e0-4c0a-8498-107063317061",
   "metadata": {},
   "outputs": [],
   "source": [
    "date = datetime.date(2022, 7, 7)"
   ]
  },
  {
   "cell_type": "code",
   "execution_count": 24,
   "id": "1c2b0864-1026-4a38-bfa2-b8799104444c",
   "metadata": {},
   "outputs": [
    {
     "data": {
      "text/plain": [
       "3"
      ]
     },
     "execution_count": 24,
     "metadata": {},
     "output_type": "execute_result"
    }
   ],
   "source": [
    "date.weekday()"
   ]
  },
  {
   "cell_type": "code",
   "execution_count": 25,
   "id": "0d580ef7-59d2-43ef-94de-895ad695ba1d",
   "metadata": {},
   "outputs": [
    {
     "data": {
      "text/plain": [
       "4"
      ]
     },
     "execution_count": 25,
     "metadata": {},
     "output_type": "execute_result"
    }
   ],
   "source": [
    "# 似たメソッドで曜日を取得する 月曜日は1から始まるため注意\n",
    "date.isoweekday()"
   ]
  },
  {
   "cell_type": "code",
   "execution_count": 26,
   "id": "2c678c8f-3abc-437c-b705-633f2ca04276",
   "metadata": {},
   "outputs": [
    {
     "name": "stdout",
     "output_type": "stream",
     "text": [
      "2023-06-04\n",
      "4\n"
     ]
    }
   ],
   "source": [
    "date = datetime.date(2023, 3, 10)\n",
    "print(datetime.date.today())\n",
    "print(date.weekday())"
   ]
  },
  {
   "cell_type": "code",
   "execution_count": 27,
   "id": "152506db-36f1-4e7a-bbd8-32c4efbe74a1",
   "metadata": {},
   "outputs": [
    {
     "name": "stdout",
     "output_type": "stream",
     "text": [
      "3\n",
      "4\n"
     ]
    }
   ],
   "source": [
    "date = datetime.date(2022, 7, 7)\n",
    "print(date.weekday())\n",
    "print(date.isoweekday())"
   ]
  },
  {
   "cell_type": "markdown",
   "id": "20ee7cd2-9a79-4c55-a019-0336d5e4c26d",
   "metadata": {},
   "source": [
    "## 時刻を扱う | datetime.time"
   ]
  },
  {
   "cell_type": "code",
   "execution_count": 28,
   "id": "f24f33ab-cc46-448b-adf5-5690b9903916",
   "metadata": {},
   "outputs": [
    {
     "data": {
      "text/plain": [
       "datetime.time(10, 20, 30)"
      ]
     },
     "execution_count": 28,
     "metadata": {},
     "output_type": "execute_result"
    }
   ],
   "source": [
    "t = datetime.time(hour=10, minute=20, second=30)\n",
    "t"
   ]
  },
  {
   "cell_type": "code",
   "execution_count": 29,
   "id": "02d9be4a-249e-4771-9f46-280d7aabf50f",
   "metadata": {},
   "outputs": [
    {
     "name": "stdout",
     "output_type": "stream",
     "text": [
      "10\n",
      "20\n",
      "30\n"
     ]
    }
   ],
   "source": [
    "print(t.hour)\n",
    "print(t.minute)\n",
    "print(t.second)"
   ]
  },
  {
   "cell_type": "code",
   "execution_count": 30,
   "id": "b68d274d-e4ce-45d9-91e5-8fa8e44f7a99",
   "metadata": {},
   "outputs": [
    {
     "data": {
      "text/plain": [
       "datetime.time(16, 12, 21, 680286)"
      ]
     },
     "execution_count": 30,
     "metadata": {},
     "output_type": "execute_result"
    }
   ],
   "source": [
    "# 時刻だけを抽出\n",
    "t2 = datetime.datetime.now()\n",
    "t2.time()"
   ]
  },
  {
   "cell_type": "markdown",
   "id": "c894f797-7de7-448d-a4cd-c444444da2e1",
   "metadata": {},
   "source": [
    "## 時間差の計算をする | datetime.timedelta"
   ]
  },
  {
   "cell_type": "code",
   "execution_count": 31,
   "id": "c28fa584-0ab0-4176-9e5d-deae6344d29b",
   "metadata": {},
   "outputs": [
    {
     "data": {
      "text/plain": [
       "datetime.timedelta(days=100)"
      ]
     },
     "execution_count": 31,
     "metadata": {},
     "output_type": "execute_result"
    }
   ],
   "source": [
    "td = datetime.timedelta(days=100)\n",
    "td"
   ]
  },
  {
   "cell_type": "code",
   "execution_count": 32,
   "id": "c61a442a-8deb-44d4-a13f-1ca89bdfc5db",
   "metadata": {},
   "outputs": [
    {
     "data": {
      "text/plain": [
       "datetime.date(2024, 4, 3)"
      ]
     },
     "execution_count": 32,
     "metadata": {},
     "output_type": "execute_result"
    }
   ],
   "source": [
    "# 2023年12月25日から100日後を出力\n",
    "christmas = datetime.date(year=2023, month=12, day=25)\n",
    "christmas + td"
   ]
  },
  {
   "cell_type": "code",
   "execution_count": 33,
   "id": "0497f163-b224-49dc-913d-f3910a9635ab",
   "metadata": {},
   "outputs": [
    {
     "data": {
      "text/plain": [
       "datetime.timedelta(days=325)"
      ]
     },
     "execution_count": 33,
     "metadata": {},
     "output_type": "execute_result"
    }
   ],
   "source": [
    "# 2023年2月3日の節分の日からクリスマスは何日後か出力\n",
    "setsubun = datetime.date(year=2023, month=2, day=3)\n",
    "christmas - setsubun"
   ]
  },
  {
   "cell_type": "code",
   "execution_count": 34,
   "id": "91e00121-de73-4385-b9b7-be41271ff873",
   "metadata": {},
   "outputs": [
    {
     "data": {
      "text/plain": [
       "datetime.datetime(2023, 1, 10, 20, 30, 40)"
      ]
     },
     "execution_count": 34,
     "metadata": {},
     "output_type": "execute_result"
    }
   ],
   "source": [
    "t = datetime.datetime(year=2023, month=1, day=10, hour=10, minute=20, second=30)\n",
    "dt = datetime.timedelta(hours=10, minutes=10, seconds=10)\n",
    "t + dt"
   ]
  },
  {
   "cell_type": "code",
   "execution_count": null,
   "id": "686daf2b-a2b3-46d6-b2d0-c3977391fc17",
   "metadata": {},
   "outputs": [],
   "source": []
  }
 ],
 "metadata": {
  "kernelspec": {
   "display_name": "Python 3 (ipykernel)",
   "language": "python",
   "name": "python3"
  },
  "language_info": {
   "codemirror_mode": {
    "name": "ipython",
    "version": 3
   },
   "file_extension": ".py",
   "mimetype": "text/x-python",
   "name": "python",
   "nbconvert_exporter": "python",
   "pygments_lexer": "ipython3",
   "version": "3.7.16"
  }
 },
 "nbformat": 4,
 "nbformat_minor": 5
}
